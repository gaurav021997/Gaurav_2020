{
 "cells": [
  {
   "cell_type": "code",
   "execution_count": null,
   "id": "8b6be456",
   "metadata": {},
   "outputs": [],
   "source": [
    "print(\"hello\")\n",
    "print(\"hai\")\n",
    "num1=eval(input(\"enter a num1: \"))\n",
    "num2=eval(input(\"enter a num2: \"))\n",
    "print(num1+num2)\n",
    "print(\"over\")"
   ]
  },
  {
   "cell_type": "markdown",
   "id": "c951b63f",
   "metadata": {},
   "source": [
    "Exception Handling"
   ]
  },
  {
   "cell_type": "code",
   "execution_count": null,
   "id": "bd4220ef",
   "metadata": {},
   "outputs": [],
   "source": [
    "try-except"
   ]
  },
  {
   "cell_type": "code",
   "execution_count": 3,
   "id": "2b7bd86b",
   "metadata": {},
   "outputs": [
    {
     "name": "stdout",
     "output_type": "stream",
     "text": [
      "enter a num1: 20\n",
      "enter a num2: 0\n",
      "zero division error\n",
      "hello\n"
     ]
    }
   ],
   "source": [
    "try:\n",
    "    num1=eval(input(\"enter a num1: \"))\n",
    "    num2=eval(input(\"enter a num2: \"))\n",
    "    print(num1/num2)\n",
    "\n",
    "except:\n",
    "    print(\"zero division error\")\n",
    "    print('hello')\n",
    "    "
   ]
  },
  {
   "cell_type": "code",
   "execution_count": 6,
   "id": "3cac252c",
   "metadata": {},
   "outputs": [
    {
     "name": "stdout",
     "output_type": "stream",
     "text": [
      "now im in try block\n",
      "enter a num1: 20\n",
      "enter a num2: 0\n",
      "you get error in try block\n",
      "now im in except block\n",
      "now i will show the error\n",
      "zero division error\n",
      "enter a num1: 100\n",
      "enter a num2: 200\n",
      "300\n"
     ]
    }
   ],
   "source": [
    "try:\n",
    "    print(\"now im in try block\")\n",
    "    num1=eval(input(\"enter a num1: \"))\n",
    "    num2=eval(input(\"enter a num2: \"))\n",
    "    print(num1/num2)\n",
    "    print(\"hello\")\n",
    "    print(\"python\")\n",
    "\n",
    "except:\n",
    "    print(\"you get error in try block\")\n",
    "    print(\"now im in except block\")\n",
    "    print(\"now i will show the error\")\n",
    "    print(\"zero division error\")\n",
    "    num1=eval(input(\"enter a num1: \"))\n",
    "    num2=eval(input(\"enter a num2: \"))\n",
    "    print(num1+num2)\n",
    "    "
   ]
  },
  {
   "cell_type": "code",
   "execution_count": 8,
   "id": "92fc4767",
   "metadata": {},
   "outputs": [
    {
     "name": "stdout",
     "output_type": "stream",
     "text": [
      "hello\n",
      "python\n",
      "0.1\n",
      "1\n",
      "2\n",
      "hellopython\n"
     ]
    }
   ],
   "source": [
    "str1='hello'\n",
    "str2='python'\n",
    "print(str1)\n",
    "print(str2)\n",
    "try:\n",
    "    n1=20\n",
    "    n2=200\n",
    "    print(n1/n2)\n",
    "except:\n",
    "    print(\"zero division error\")\n",
    "    print('okay')\n",
    "\n",
    "print(1)\n",
    "print(2)\n",
    "print(str1+str2)"
   ]
  },
  {
   "cell_type": "code",
   "execution_count": 9,
   "id": "387c125d",
   "metadata": {},
   "outputs": [
    {
     "name": "stdout",
     "output_type": "stream",
     "text": [
      "enter a num1: 200\n",
      "enter a num2: python\n",
      "zero division error\n",
      "hello\n"
     ]
    }
   ],
   "source": [
    "try:\n",
    "    num1=eval(input(\"enter a num1: \"))\n",
    "    num2=eval(input(\"enter a num2: \"))\n",
    "    print(num1/num2)\n",
    "\n",
    "except:\n",
    "    print(\"zero division error\")\n",
    "    print('hello')\n",
    "    "
   ]
  },
  {
   "cell_type": "code",
   "execution_count": 10,
   "id": "24374445",
   "metadata": {},
   "outputs": [
    {
     "name": "stdout",
     "output_type": "stream",
     "text": [
      "enter a num1: 20\n",
      "enter a num2: p\n",
      "name 'p' is not defined\n"
     ]
    }
   ],
   "source": [
    "try:\n",
    "    num1=eval(input(\"enter a num1: \"))\n",
    "    num2=eval(input(\"enter a num2: \"))\n",
    "    print(num1/num2)\n",
    "\n",
    "except Exception as e:\n",
    "       print(e)\n",
    "    "
   ]
  },
  {
   "cell_type": "code",
   "execution_count": 13,
   "id": "e6c8af34",
   "metadata": {},
   "outputs": [
    {
     "name": "stdout",
     "output_type": "stream",
     "text": [
      "enter a number: t\n",
      "name 't' is not defined\n",
      "8\n"
     ]
    }
   ],
   "source": [
    "try:\n",
    "    num=eval(input(\"enter a number: \"))\n",
    "    if num%2==0:\n",
    "        print(f\"{num} is an even\")\n",
    "    else:\n",
    "        print(f\"{num} is an odd\")\n",
    "except Exception as e:\n",
    "    print(e)\n",
    "    \n",
    "    print(3+5)"
   ]
  },
  {
   "cell_type": "code",
   "execution_count": null,
   "id": "aa021c6d",
   "metadata": {},
   "outputs": [],
   "source": []
  }
 ],
 "metadata": {
  "kernelspec": {
   "display_name": "Python 3 (ipykernel)",
   "language": "python",
   "name": "python3"
  },
  "language_info": {
   "codemirror_mode": {
    "name": "ipython",
    "version": 3
   },
   "file_extension": ".py",
   "mimetype": "text/x-python",
   "name": "python",
   "nbconvert_exporter": "python",
   "pygments_lexer": "ipython3",
   "version": "3.11.4"
  }
 },
 "nbformat": 4,
 "nbformat_minor": 5
}
