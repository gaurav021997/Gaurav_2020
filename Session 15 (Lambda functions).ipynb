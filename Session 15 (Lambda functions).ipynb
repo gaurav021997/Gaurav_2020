{
 "cells": [
  {
   "cell_type": "markdown",
   "id": "0fd61396",
   "metadata": {},
   "source": [
    "- lambda functions is also a kind of functions representations\n",
    "\n",
    "- More efficient way"
   ]
  },
  {
   "cell_type": "code",
   "execution_count": 1,
   "id": "90a05ce3",
   "metadata": {},
   "outputs": [
    {
     "data": {
      "text/plain": [
       "20"
      ]
     },
     "execution_count": 1,
     "metadata": {},
     "output_type": "execute_result"
    }
   ],
   "source": [
    "def summ(num):\n",
    "    return(num+10)\n",
    "\n",
    "summ(10)\n",
    "\n",
    "# the function name is summ\n",
    "# the variable name is num\n",
    "# the return output is num+10"
   ]
  },
  {
   "cell_type": "code",
   "execution_count": null,
   "id": "6be79cca",
   "metadata": {},
   "outputs": [],
   "source": [
    "<function_name>=lambda <variable_name>:<return output>"
   ]
  },
  {
   "cell_type": "code",
   "execution_count": 3,
   "id": "b11d9015",
   "metadata": {},
   "outputs": [
    {
     "data": {
      "text/plain": [
       "30"
      ]
     },
     "execution_count": 3,
     "metadata": {},
     "output_type": "execute_result"
    }
   ],
   "source": [
    "summ=lambda num:num+10\n",
    "summ(20)"
   ]
  },
  {
   "cell_type": "code",
   "execution_count": 8,
   "id": "28566eb2",
   "metadata": {},
   "outputs": [
    {
     "data": {
      "text/plain": [
       "8000"
      ]
     },
     "execution_count": 8,
     "metadata": {},
     "output_type": "execute_result"
    }
   ],
   "source": [
    "cube=lambda num:(num*num*num)\n",
    "cube(20)"
   ]
  },
  {
   "cell_type": "markdown",
   "id": "c03645ad",
   "metadata": {},
   "source": [
    "Two arguments"
   ]
  },
  {
   "cell_type": "code",
   "execution_count": 9,
   "id": "a0a6be3d",
   "metadata": {},
   "outputs": [
    {
     "data": {
      "text/plain": [
       "300"
      ]
     },
     "execution_count": 9,
     "metadata": {},
     "output_type": "execute_result"
    }
   ],
   "source": [
    "def add(n1,n2):\n",
    "    return(n1+n2)\n",
    "add(100,200)"
   ]
  },
  {
   "cell_type": "code",
   "execution_count": 10,
   "id": "ab6df12d",
   "metadata": {},
   "outputs": [
    {
     "data": {
      "text/plain": [
       "300"
      ]
     },
     "execution_count": 10,
     "metadata": {},
     "output_type": "execute_result"
    }
   ],
   "source": [
    "add=lambda n1,n2:n1+n2\n",
    "add(100,200)"
   ]
  },
  {
   "cell_type": "code",
   "execution_count": 15,
   "id": "5557c8d0",
   "metadata": {},
   "outputs": [
    {
     "data": {
      "text/plain": [
       "200.0"
      ]
     },
     "execution_count": 15,
     "metadata": {},
     "output_type": "execute_result"
    }
   ],
   "source": [
    "avg=lambda n1,n2,n3:(n1+n2+n3)/3\n",
    "avg(100,200,300)"
   ]
  },
  {
   "cell_type": "code",
   "execution_count": 13,
   "id": "89f51b84",
   "metadata": {},
   "outputs": [
    {
     "data": {
      "text/plain": [
       "(300, 20000)"
      ]
     },
     "execution_count": 13,
     "metadata": {},
     "output_type": "execute_result"
    }
   ],
   "source": [
    "def add(n1,n2):\n",
    "    return(n1+n2,n1*n2)\n",
    "add(100,200)"
   ]
  },
  {
   "cell_type": "code",
   "execution_count": 17,
   "id": "e9056059",
   "metadata": {},
   "outputs": [
    {
     "data": {
      "text/plain": [
       "200.0"
      ]
     },
     "execution_count": 17,
     "metadata": {},
     "output_type": "execute_result"
    }
   ],
   "source": [
    "def avg(n1,n2,n3=300):\n",
    "    return((n1+n2+n3)/3)\n",
    "avg(100,200)"
   ]
  },
  {
   "cell_type": "code",
   "execution_count": 18,
   "id": "c3ff3811",
   "metadata": {},
   "outputs": [
    {
     "data": {
      "text/plain": [
       "200.0"
      ]
     },
     "execution_count": 18,
     "metadata": {},
     "output_type": "execute_result"
    }
   ],
   "source": [
    "avg=lambda n1,n2,n3=300:(n1+n2+n3)/3\n",
    "avg(100,200)"
   ]
  },
  {
   "cell_type": "markdown",
   "id": "4367fc94",
   "metadata": {},
   "source": [
    "$if-else$"
   ]
  },
  {
   "cell_type": "code",
   "execution_count": 19,
   "id": "159e634d",
   "metadata": {},
   "outputs": [
    {
     "data": {
      "text/plain": [
       "200"
      ]
     },
     "execution_count": 19,
     "metadata": {},
     "output_type": "execute_result"
    }
   ],
   "source": [
    "def Max(n1,n2):\n",
    "    if n1>n2:\n",
    "        return(n1)\n",
    "    else:\n",
    "        return(n2)\n",
    "\n",
    "Max(100,200)"
   ]
  },
  {
   "cell_type": "code",
   "execution_count": null,
   "id": "a449f050",
   "metadata": {},
   "outputs": [],
   "source": [
    "lambda <v1,v2,v3,...>: <output>"
   ]
  },
  {
   "cell_type": "code",
   "execution_count": 22,
   "id": "482160cb",
   "metadata": {},
   "outputs": [
    {
     "data": {
      "text/plain": [
       "200"
      ]
     },
     "execution_count": 22,
     "metadata": {},
     "output_type": "execute_result"
    }
   ],
   "source": [
    "Max=lambda n1,n2:n1 if n1>n2 else n2\n",
    "max(100,200)"
   ]
  },
  {
   "cell_type": "code",
   "execution_count": 25,
   "id": "f21a07e9",
   "metadata": {},
   "outputs": [
    {
     "data": {
      "text/plain": [
       "['Hyd', 'Mumbai', 'Chennai']"
      ]
     },
     "execution_count": 25,
     "metadata": {},
     "output_type": "execute_result"
    }
   ],
   "source": [
    "list1=['hyd','mumbai','chennai']\n",
    "list2=[]\n",
    "for i in list1:\n",
    "    list2.append(i.capitalize())\n",
    "    \n",
    "list2=[i.capitalize() for i in list1]\n",
    "list2"
   ]
  },
  {
   "cell_type": "markdown",
   "id": "549e0b4f",
   "metadata": {},
   "source": [
    "$map$"
   ]
  },
  {
   "cell_type": "code",
   "execution_count": null,
   "id": "28a19fb8",
   "metadata": {},
   "outputs": [],
   "source": [
    "list(map(lambda <variable>:<output>,<iterator>))"
   ]
  },
  {
   "cell_type": "code",
   "execution_count": 26,
   "id": "94574062",
   "metadata": {},
   "outputs": [],
   "source": [
    "list1=['hyd','mumbai','chennai']\n",
    "list2=list(map(lambda i : i.capitalize(),list1))"
   ]
  },
  {
   "cell_type": "code",
   "execution_count": null,
   "id": "e7e23182",
   "metadata": {},
   "outputs": [],
   "source": [
    "l1=[1,2,3,4]\n",
    "l2=[1,4,9,16]"
   ]
  },
  {
   "cell_type": "code",
   "execution_count": 28,
   "id": "18860c4c",
   "metadata": {},
   "outputs": [
    {
     "data": {
      "text/plain": [
       "[1, 4, 9, 16]"
      ]
     },
     "execution_count": 28,
     "metadata": {},
     "output_type": "execute_result"
    }
   ],
   "source": [
    "l1=[1,2,3,4]\n",
    "list(map(lambda i : i*i,l1))"
   ]
  },
  {
   "cell_type": "code",
   "execution_count": 29,
   "id": "c05e1792",
   "metadata": {},
   "outputs": [
    {
     "data": {
      "text/plain": [
       "[1, 16, 81, 256]"
      ]
     },
     "execution_count": 29,
     "metadata": {},
     "output_type": "execute_result"
    }
   ],
   "source": [
    "l2=[1,4,9,16]\n",
    "list(map(lambda i : i*i,l2))"
   ]
  },
  {
   "cell_type": "code",
   "execution_count": 30,
   "id": "3afb89dc",
   "metadata": {},
   "outputs": [
    {
     "ename": "SyntaxError",
     "evalue": "incomplete input (256395100.py, line 2)",
     "output_type": "error",
     "traceback": [
      "\u001b[1;36m  Cell \u001b[1;32mIn[30], line 2\u001b[1;36m\u001b[0m\n\u001b[1;33m    list(map(lambda i : i.remove(#),l2))\u001b[0m\n\u001b[1;37m                                        ^\u001b[0m\n\u001b[1;31mSyntaxError\u001b[0m\u001b[1;31m:\u001b[0m incomplete input\n"
     ]
    }
   ],
   "source": [
    "l1=['hyder#abad','mum#bai','chenn#ai','Blr','pune']\n",
    "l2=[]\n",
    "for i in l1:\n",
    "    if'#' in i:\n",
    "        l2.append"
   ]
  },
  {
   "cell_type": "markdown",
   "id": "c9608a0d",
   "metadata": {},
   "source": [
    "$filter$"
   ]
  },
  {
   "cell_type": "code",
   "execution_count": 32,
   "id": "72cac35b",
   "metadata": {},
   "outputs": [
    {
     "data": {
      "text/plain": [
       "[True, True, True, False, False]"
      ]
     },
     "execution_count": 32,
     "metadata": {},
     "output_type": "execute_result"
    }
   ],
   "source": [
    "l1=['hyder#abad','mum#bai','chenn#ai','Blr','pune']\n",
    "list(map(lambda i : '#' in i, l1))"
   ]
  },
  {
   "cell_type": "code",
   "execution_count": 34,
   "id": "fe21a8a3",
   "metadata": {},
   "outputs": [
    {
     "data": {
      "text/plain": [
       "['hyder#abad', 'mum#bai', 'chenn#ai']"
      ]
     },
     "execution_count": 34,
     "metadata": {},
     "output_type": "execute_result"
    }
   ],
   "source": [
    "l1=['hyder#abad','mum#bai','chenn#ai','Blr','pune']\n",
    "list(filter(lambda i : '#' in i, l1))"
   ]
  },
  {
   "cell_type": "code",
   "execution_count": null,
   "id": "cab20c41",
   "metadata": {},
   "outputs": [],
   "source": [
    "map means map the input values to output\n",
    "                    i              i*i\n",
    "                    i              i.capitalize()\n",
    "                    i              if'#' in i\n"
   ]
  }
 ],
 "metadata": {
  "kernelspec": {
   "display_name": "Python 3 (ipykernel)",
   "language": "python",
   "name": "python3"
  },
  "language_info": {
   "codemirror_mode": {
    "name": "ipython",
    "version": 3
   },
   "file_extension": ".py",
   "mimetype": "text/x-python",
   "name": "python",
   "nbconvert_exporter": "python",
   "pygments_lexer": "ipython3",
   "version": "3.11.4"
  }
 },
 "nbformat": 4,
 "nbformat_minor": 5
}
