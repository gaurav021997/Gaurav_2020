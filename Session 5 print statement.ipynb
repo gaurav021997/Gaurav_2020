{
 "cells": [
  {
   "cell_type": "markdown",
   "id": "d2e82146",
   "metadata": {},
   "source": [
    "Print Statement"
   ]
  },
  {
   "cell_type": "code",
   "execution_count": 2,
   "id": "d456d64a",
   "metadata": {},
   "outputs": [
    {
     "data": {
      "text/plain": [
       "10"
      ]
     },
     "execution_count": 2,
     "metadata": {},
     "output_type": "execute_result"
    }
   ],
   "source": [
    "num1=10\n",
    "num1"
   ]
  },
  {
   "cell_type": "code",
   "execution_count": 3,
   "id": "69f1a545",
   "metadata": {},
   "outputs": [
    {
     "name": "stdout",
     "output_type": "stream",
     "text": [
      "10\n"
     ]
    }
   ],
   "source": [
    "print(num1)"
   ]
  },
  {
   "cell_type": "code",
   "execution_count": 4,
   "id": "7da06ceb",
   "metadata": {},
   "outputs": [
    {
     "name": "stdout",
     "output_type": "stream",
     "text": [
      "10\n",
      "20\n"
     ]
    }
   ],
   "source": [
    "num1=10\n",
    "num2=20\n",
    "print(num1)\n",
    "print(num2)"
   ]
  },
  {
   "cell_type": "code",
   "execution_count": 5,
   "id": "3782c4b2",
   "metadata": {},
   "outputs": [
    {
     "name": "stdout",
     "output_type": "stream",
     "text": [
      "hai how----\n"
     ]
    }
   ],
   "source": [
    "print(\"hai how----\")"
   ]
  },
  {
   "cell_type": "code",
   "execution_count": 6,
   "id": "d26663cc",
   "metadata": {},
   "outputs": [
    {
     "name": "stdout",
     "output_type": "stream",
     "text": [
      "10 20 30\n"
     ]
    }
   ],
   "source": [
    "print(10,20,30)"
   ]
  },
  {
   "cell_type": "code",
   "execution_count": 7,
   "id": "4e17b7f1",
   "metadata": {},
   "outputs": [
    {
     "name": "stdout",
     "output_type": "stream",
     "text": [
      "10 and 20\n"
     ]
    }
   ],
   "source": [
    "print(10,'and',20)"
   ]
  },
  {
   "cell_type": "code",
   "execution_count": 9,
   "id": "03899879",
   "metadata": {},
   "outputs": [
    {
     "name": "stdout",
     "output_type": "stream",
     "text": [
      "10 20\n",
      "10 20\n",
      "10 and 20\n",
      "10 and 20\n",
      "10 and 20\n",
      "num1 and num2\n"
     ]
    }
   ],
   "source": [
    "num1=10\n",
    "num2=20\n",
    "print(num1,num2)\n",
    "print(10,20)\n",
    "print(num1,'and',num2)\n",
    "print(10,'and',20)\n",
    "print('10 and 20')\n",
    "print('num1 and num2')"
   ]
  },
  {
   "cell_type": "code",
   "execution_count": 13,
   "id": "75490853",
   "metadata": {},
   "outputs": [
    {
     "name": "stdout",
     "output_type": "stream",
     "text": [
      "the addition of 10 and 20 is 30\n"
     ]
    }
   ],
   "source": [
    "a=10\n",
    "b=20\n",
    "c=a+b\n",
    "print(\"the addition of\",a,'and',b,\"is\",c)"
   ]
  },
  {
   "cell_type": "code",
   "execution_count": 22,
   "id": "66dd6567",
   "metadata": {},
   "outputs": [
    {
     "name": "stdout",
     "output_type": "stream",
     "text": [
      "my name is python\n",
      "my city is hyd\n",
      "im 10 years old\n",
      "my name is python my city is hyd im 10 years old\n"
     ]
    }
   ],
   "source": [
    "name = \"python\"\n",
    "city = \"hyd\"\n",
    "age  = 10\n",
    "print(\"my name is\",name)\n",
    "print(\"my city is\",city)\n",
    "print(\"im\",age,'years old')\n",
    "print(\"my name is\",name,\"my city is\",city,\"im\",age,'years old')\n",
    "\n"
   ]
  },
  {
   "cell_type": "markdown",
   "id": "aa38b03b",
   "metadata": {},
   "source": [
    "Format Method"
   ]
  },
  {
   "cell_type": "code",
   "execution_count": 28,
   "id": "55aab8ca",
   "metadata": {},
   "outputs": [
    {
     "name": "stdout",
     "output_type": "stream",
     "text": [
      "my name is python,im from hyd,and im 10 year old\n"
     ]
    }
   ],
   "source": [
    "name = \"python\"\n",
    "city = \"hyd\"\n",
    "age  = 10\n",
    "print(\"my name is {},im from {},and im {} year old\".format(name,city,age))\n"
   ]
  },
  {
   "cell_type": "markdown",
   "id": "c194af95",
   "metadata": {},
   "source": [
    "f-string method"
   ]
  },
  {
   "cell_type": "code",
   "execution_count": 32,
   "id": "2f20f908",
   "metadata": {},
   "outputs": [
    {
     "name": "stdout",
     "output_type": "stream",
     "text": [
      "the addition of 10 and 20 is 30\n"
     ]
    }
   ],
   "source": [
    "a = 10\n",
    "b = 20 \n",
    "c = a+b\n",
    "print(f\"the addition of {a} and {b} is {c}\")"
   ]
  },
  {
   "cell_type": "code",
   "execution_count": 35,
   "id": "1d912ac3",
   "metadata": {},
   "outputs": [
    {
     "name": "stdout",
     "output_type": "stream",
     "text": [
      "my name is python, in from hyd my age is10\n"
     ]
    }
   ],
   "source": [
    "name = \"python\"\n",
    "city = \"hyd\"\n",
    "age  = 10\n",
    "print (f\"my name is {name}, in from {city} my age is{age}\")"
   ]
  },
  {
   "cell_type": "markdown",
   "id": "d8efac1b",
   "metadata": {},
   "source": [
    "end operator method"
   ]
  },
  {
   "cell_type": "code",
   "execution_count": 36,
   "id": "a2acb4eb",
   "metadata": {},
   "outputs": [
    {
     "name": "stdout",
     "output_type": "stream",
     "text": [
      "hai--->hello\n"
     ]
    }
   ],
   "source": [
    "print(\"hai\",end='--->')\n",
    "print('hello')"
   ]
  },
  {
   "cell_type": "markdown",
   "id": "4a713721",
   "metadata": {},
   "source": [
    "seperator method"
   ]
  },
  {
   "cell_type": "code",
   "execution_count": 38,
   "id": "0ca9ec59",
   "metadata": {},
   "outputs": [
    {
     "name": "stdout",
     "output_type": "stream",
     "text": [
      "hello and hai\n",
      "hello and hai\n"
     ]
    }
   ],
   "source": [
    "print(\"hello\",'hai',sep=' and ')\n",
    "print(\"hello\",'and','hai')"
   ]
  },
  {
   "cell_type": "code",
   "execution_count": null,
   "id": "1ed778a6",
   "metadata": {},
   "outputs": [],
   "source": [
    "print(1,2,3)"
   ]
  }
 ],
 "metadata": {
  "kernelspec": {
   "display_name": "Python 3 (ipykernel)",
   "language": "python",
   "name": "python3"
  },
  "language_info": {
   "codemirror_mode": {
    "name": "ipython",
    "version": 3
   },
   "file_extension": ".py",
   "mimetype": "text/x-python",
   "name": "python",
   "nbconvert_exporter": "python",
   "pygments_lexer": "ipython3",
   "version": "3.11.4"
  }
 },
 "nbformat": 4,
 "nbformat_minor": 5
}
