{
 "cells": [
  {
   "cell_type": "code",
   "execution_count": 1,
   "id": "865d9b9e",
   "metadata": {},
   "outputs": [
    {
     "ename": "SyntaxError",
     "evalue": "invalid syntax (1394744764.py, line 1)",
     "output_type": "error",
     "traceback": [
      "\u001b[1;36m  Cell \u001b[1;32mIn[1], line 1\u001b[1;36m\u001b[0m\n\u001b[1;33m    python part-1\u001b[0m\n\u001b[1;37m           ^\u001b[0m\n\u001b[1;31mSyntaxError\u001b[0m\u001b[1;31m:\u001b[0m invalid syntax\n"
     ]
    }
   ],
   "source": [
    "python part-1\n",
    "\n",
    "- bsic python codes\n",
    "\n",
    "- packages\n",
    "\n",
    "- Conditonal statement\n",
    "\n",
    "-Try-Exception\n",
    "\n",
    "- Functions\n",
    "  -function with out arguments\n",
    "  -function with arguments\n",
    "========================================\n",
    "  -Default parameter\n",
    "  -return\n",
    "  "
   ]
  },
  {
   "cell_type": "code",
   "execution_count": 12,
   "id": "b79acdb4",
   "metadata": {},
   "outputs": [],
   "source": [
    "name = 'python'\n",
    "\n",
    "# strings are in red colour: quotes\n",
    "# variable are in black colour\n",
    "# keywords are in green colour\n"
   ]
  },
  {
   "cell_type": "code",
   "execution_count": 13,
   "id": "3f22be45",
   "metadata": {},
   "outputs": [
    {
     "data": {
      "text/plain": [
       "str"
      ]
     },
     "execution_count": 13,
     "metadata": {},
     "output_type": "execute_result"
    }
   ],
   "source": [
    "type(name)\n"
   ]
  },
  {
   "cell_type": "code",
   "execution_count": 14,
   "id": "40dfb226",
   "metadata": {},
   "outputs": [
    {
     "data": {
      "text/plain": [
       "str"
      ]
     },
     "execution_count": 14,
     "metadata": {},
     "output_type": "execute_result"
    }
   ],
   "source": [
    "name1=\"python\"\n",
    "type(name1)"
   ]
  },
  {
   "cell_type": "code",
   "execution_count": 15,
   "id": "25e6f320",
   "metadata": {},
   "outputs": [
    {
     "name": "stdout",
     "output_type": "stream",
     "text": [
      "python\n"
     ]
    }
   ],
   "source": [
    "print(name) #careful with print statement\n"
   ]
  },
  {
   "cell_type": "code",
   "execution_count": 16,
   "id": "c3c9f760",
   "metadata": {},
   "outputs": [
    {
     "name": "stdout",
     "output_type": "stream",
     "text": [
      "python\n"
     ]
    }
   ],
   "source": [
    "print(name1) #careful with print statement"
   ]
  },
  {
   "cell_type": "code",
   "execution_count": 17,
   "id": "86f7886b",
   "metadata": {},
   "outputs": [
    {
     "name": "stdout",
     "output_type": "stream",
     "text": [
      "i like \"python\"\n"
     ]
    }
   ],
   "source": [
    "name2='i like \"python\"'\n",
    "print(name2)\n",
    "# entire string in single quates\n",
    "# python word is in double quotes"
   ]
  },
  {
   "cell_type": "code",
   "execution_count": 18,
   "id": "88f3f1fc",
   "metadata": {},
   "outputs": [
    {
     "name": "stdout",
     "output_type": "stream",
     "text": [
      "i like \"python\"\n"
     ]
    }
   ],
   "source": [
    "name3='i like \"python\"'\n",
    "print(name3)"
   ]
  },
  {
   "cell_type": "code",
   "execution_count": 19,
   "id": "fc955d1e",
   "metadata": {},
   "outputs": [
    {
     "ename": "TypeError",
     "evalue": "Random.randint() missing 2 required positional arguments: 'a' and 'b'",
     "output_type": "error",
     "traceback": [
      "\u001b[1;31m---------------------------------------------------------------------------\u001b[0m",
      "\u001b[1;31mTypeError\u001b[0m                                 Traceback (most recent call last)",
      "Cell \u001b[1;32mIn[19], line 2\u001b[0m\n\u001b[0;32m      1\u001b[0m \u001b[38;5;28;01mimport\u001b[39;00m \u001b[38;5;21;01mrandom\u001b[39;00m\n\u001b[1;32m----> 2\u001b[0m random\u001b[38;5;241m.\u001b[39mrandint()\n",
      "\u001b[1;31mTypeError\u001b[0m: Random.randint() missing 2 required positional arguments: 'a' and 'b'"
     ]
    }
   ],
   "source": [
    "import random\n",
    "random.randint()"
   ]
  },
  {
   "cell_type": "markdown",
   "id": "bd0d98bb",
   "metadata": {},
   "source": [
    "- type\n",
    "\n",
    "- max\n",
    "\n",
    "- min\n",
    "\n",
    "- len\n",
    "\n",
    "- reversed\n",
    "\n",
    "- sorted"
   ]
  },
  {
   "cell_type": "code",
   "execution_count": 20,
   "id": "2a0423b4",
   "metadata": {},
   "outputs": [
    {
     "data": {
      "text/plain": [
       "'y'"
      ]
     },
     "execution_count": 20,
     "metadata": {},
     "output_type": "execute_result"
    }
   ],
   "source": [
    "name='python'\n",
    "max(name)"
   ]
  },
  {
   "cell_type": "markdown",
   "id": "645e9a6d",
   "metadata": {},
   "source": [
    "$ASCII$\n",
    "\n",
    "- Americal standerd code\n",
    "\n",
    "- A: 65\n",
    "    \n",
    "- a: 97\n",
    "\n"
   ]
  },
  {
   "cell_type": "markdown",
   "id": "2cbfddda",
   "metadata": {},
   "source": [
    "$ord-chr$"
   ]
  },
  {
   "cell_type": "code",
   "execution_count": 21,
   "id": "2f061104",
   "metadata": {},
   "outputs": [
    {
     "data": {
      "text/plain": [
       "(112, 121, 116, 104, 110)"
      ]
     },
     "execution_count": 21,
     "metadata": {},
     "output_type": "execute_result"
    }
   ],
   "source": [
    "ord('p'),ord('y'),ord('t'),ord('h'),ord('n')"
   ]
  },
  {
   "cell_type": "code",
   "execution_count": 22,
   "id": "c40d3366",
   "metadata": {},
   "outputs": [
    {
     "data": {
      "text/plain": [
       "'y'"
      ]
     },
     "execution_count": 22,
     "metadata": {},
     "output_type": "execute_result"
    }
   ],
   "source": [
    "max('python')"
   ]
  },
  {
   "cell_type": "code",
   "execution_count": 23,
   "id": "e93a4a35",
   "metadata": {},
   "outputs": [
    {
     "data": {
      "text/plain": [
       "'h'"
      ]
     },
     "execution_count": 23,
     "metadata": {},
     "output_type": "execute_result"
    }
   ],
   "source": [
    "min('python')"
   ]
  },
  {
   "cell_type": "code",
   "execution_count": 24,
   "id": "e3c474f0",
   "metadata": {},
   "outputs": [
    {
     "data": {
      "text/plain": [
       "('p', 112)"
      ]
     },
     "execution_count": 24,
     "metadata": {},
     "output_type": "execute_result"
    }
   ],
   "source": [
    "chr(112),ord('p')"
   ]
  },
  {
   "cell_type": "code",
   "execution_count": 25,
   "id": "fd3a77ae",
   "metadata": {},
   "outputs": [
    {
     "data": {
      "text/plain": [
       "'3'"
      ]
     },
     "execution_count": 25,
     "metadata": {},
     "output_type": "execute_result"
    }
   ],
   "source": [
    "str1='123-100'\n",
    "max(str1)"
   ]
  },
  {
   "cell_type": "code",
   "execution_count": 26,
   "id": "d4c4898d",
   "metadata": {},
   "outputs": [
    {
     "data": {
      "text/plain": [
       "(45, 51)"
      ]
     },
     "execution_count": 26,
     "metadata": {},
     "output_type": "execute_result"
    }
   ],
   "source": [
    "ord('-'),ord('3')"
   ]
  },
  {
   "cell_type": "code",
   "execution_count": 27,
   "id": "2f5c9f0b",
   "metadata": {},
   "outputs": [
    {
     "name": "stdout",
     "output_type": "stream",
     "text": [
      "33 = !,34 = \",35 = #,36 = $,37 = %,38 = &,39 = ',40 = (,41 = ),42 = *,43 = +,44 = ,,45 = -,46 = .,47 = /,48 = 0,49 = 1,50 = 2,51 = 3,52 = 4,53 = 5,54 = 6,55 = 7,56 = 8,57 = 9,58 = :,59 = ;,60 = <,61 = =,62 = >,63 = ?,64 = @,65 = A,66 = B,67 = C,68 = D,69 = E,70 = F,71 = G,72 = H,73 = I,74 = J,75 = K,76 = L,77 = M,78 = N,79 = O,80 = P,81 = Q,82 = R,83 = S,84 = T,85 = U,86 = V,87 = W,88 = X,89 = Y,90 = Z,91 = [,92 = \\,93 = ],94 = ^,95 = _,96 = `,97 = a,98 = b,99 = c,100 = d,101 = e,102 = f,103 = g,104 = h,105 = i,106 = j,107 = k,108 = l,109 = m,110 = n,111 = o,112 = p,113 = q,114 = r,115 = s,116 = t,117 = u,118 = v,119 = w,120 = x,121 = y,122 = z,123 = {,124 = |,125 = },126 = ~,127 = ,"
     ]
    }
   ],
   "source": [
    "# how many ascii values are excisting\n",
    "for i in range(33,128):\n",
    "    print(i,'=',chr(i),end=',')"
   ]
  },
  {
   "cell_type": "code",
   "execution_count": 28,
   "id": "a242b354",
   "metadata": {},
   "outputs": [
    {
     "data": {
      "text/plain": [
       "False"
      ]
     },
     "execution_count": 28,
     "metadata": {},
     "output_type": "execute_result"
    }
   ],
   "source": [
    "'banana'>'banana' # 'B':67"
   ]
  },
  {
   "cell_type": "code",
   "execution_count": 29,
   "id": "86622d5a",
   "metadata": {},
   "outputs": [
    {
     "data": {
      "text/plain": [
       "True"
      ]
     },
     "execution_count": 29,
     "metadata": {},
     "output_type": "execute_result"
    }
   ],
   "source": [
    "'Banana'>'BAnana'"
   ]
  },
  {
   "cell_type": "markdown",
   "id": "45195489",
   "metadata": {},
   "source": [
    "len"
   ]
  },
  {
   "cell_type": "code",
   "execution_count": 30,
   "id": "fb0363ac",
   "metadata": {},
   "outputs": [
    {
     "data": {
      "text/plain": [
       "13"
      ]
     },
     "execution_count": 30,
     "metadata": {},
     "output_type": "execute_result"
    }
   ],
   "source": [
    "str1='i like python'\n",
    "len(str1)"
   ]
  },
  {
   "cell_type": "code",
   "execution_count": 31,
   "id": "69debd26",
   "metadata": {},
   "outputs": [
    {
     "data": {
      "text/plain": [
       "0"
      ]
     },
     "execution_count": 31,
     "metadata": {},
     "output_type": "execute_result"
    }
   ],
   "source": [
    "str2=''           # empty string\n",
    "len(str2)"
   ]
  },
  {
   "cell_type": "code",
   "execution_count": 32,
   "id": "f6d207bf",
   "metadata": {},
   "outputs": [
    {
     "data": {
      "text/plain": [
       "2"
      ]
     },
     "execution_count": 32,
     "metadata": {},
     "output_type": "execute_result"
    }
   ],
   "source": [
    "str3='  '\n",
    "len(str3)          #it has two space"
   ]
  },
  {
   "cell_type": "markdown",
   "id": "8abb33a5",
   "metadata": {},
   "source": [
    "$reversed$"
   ]
  },
  {
   "cell_type": "code",
   "execution_count": 33,
   "id": "985f134c",
   "metadata": {},
   "outputs": [
    {
     "data": {
      "text/plain": [
       "<reversed at 0x2b6b52bf4f0>"
      ]
     },
     "execution_count": 33,
     "metadata": {},
     "output_type": "execute_result"
    }
   ],
   "source": [
    "reversed('python')\n",
    "\n",
    "# <output is stored inherently>\n",
    "# we use the for loop to get the output"
   ]
  },
  {
   "cell_type": "markdown",
   "id": "53a92ab4",
   "metadata": {},
   "source": [
    "$in$"
   ]
  },
  {
   "cell_type": "code",
   "execution_count": 34,
   "id": "c11c0f41",
   "metadata": {},
   "outputs": [
    {
     "name": "stdout",
     "output_type": "stream",
     "text": [
      "n\n",
      "o\n",
      "h\n",
      "t\n",
      "y\n",
      "p\n"
     ]
    }
   ],
   "source": [
    "'p'in 'python'\n",
    "'y'in 'python'\n",
    "'t'in 'python'\n",
    "'h'in 'python'\n",
    "'o'in 'python'\n",
    "'n'in 'python'\n",
    "\n",
    "for i in reversed('python'):\n",
    "    print(i)"
   ]
  },
  {
   "cell_type": "code",
   "execution_count": 35,
   "id": "1f513380",
   "metadata": {},
   "outputs": [
    {
     "name": "stdout",
     "output_type": "stream",
     "text": [
      "a\n",
      "p\n",
      "p\n",
      "l\n",
      "e\n"
     ]
    }
   ],
   "source": [
    "s1='apple'\n",
    "for i in s1:\n",
    "    print(i)"
   ]
  },
  {
   "cell_type": "markdown",
   "id": "92242af4",
   "metadata": {},
   "source": [
    "$sorted$"
   ]
  },
  {
   "cell_type": "code",
   "execution_count": 36,
   "id": "2e0bf240",
   "metadata": {},
   "outputs": [
    {
     "data": {
      "text/plain": [
       "['h', 'n', 'o', 'p', 't', 'y']"
      ]
     },
     "execution_count": 36,
     "metadata": {},
     "output_type": "execute_result"
    }
   ],
   "source": [
    "sorted('python')\n",
    "\n",
    "# [104,110,111,112,116,121]"
   ]
  },
  {
   "cell_type": "code",
   "execution_count": 37,
   "id": "89115259",
   "metadata": {},
   "outputs": [
    {
     "name": "stdout",
     "output_type": "stream",
     "text": [
      "p 112\n",
      "y 121\n",
      "t 116\n",
      "h 104\n",
      "o 111\n",
      "n 110\n"
     ]
    }
   ],
   "source": [
    "for i in 'python':\n",
    "    print(i,ord(i))"
   ]
  },
  {
   "cell_type": "code",
   "execution_count": 38,
   "id": "ca217b1b",
   "metadata": {},
   "outputs": [
    {
     "data": {
      "text/plain": [
       "['y', 't', 'p', 'o', 'n', 'h']"
      ]
     },
     "execution_count": 38,
     "metadata": {},
     "output_type": "execute_result"
    }
   ],
   "source": [
    "sorted('python',reverse=True)"
   ]
  },
  {
   "cell_type": "code",
   "execution_count": 39,
   "id": "bcc4f75e",
   "metadata": {},
   "outputs": [
    {
     "data": {
      "text/plain": [
       "'hello python'"
      ]
     },
     "execution_count": 39,
     "metadata": {},
     "output_type": "execute_result"
    }
   ],
   "source": [
    "str1='hello'\n",
    "str2='python'    #concatenation\n",
    "\n",
    "str1+' '+str2"
   ]
  },
  {
   "cell_type": "code",
   "execution_count": 40,
   "id": "a4165a51",
   "metadata": {},
   "outputs": [
    {
     "ename": "TypeError",
     "evalue": "unsupported operand type(s) for -: 'str' and 'str'",
     "output_type": "error",
     "traceback": [
      "\u001b[1;31m---------------------------------------------------------------------------\u001b[0m",
      "\u001b[1;31mTypeError\u001b[0m                                 Traceback (most recent call last)",
      "Cell \u001b[1;32mIn[40], line 4\u001b[0m\n\u001b[0;32m      1\u001b[0m str1\u001b[38;5;241m=\u001b[39m\u001b[38;5;124m'\u001b[39m\u001b[38;5;124mhello\u001b[39m\u001b[38;5;124m'\u001b[39m\n\u001b[0;32m      2\u001b[0m str2\u001b[38;5;241m=\u001b[39m\u001b[38;5;124m'\u001b[39m\u001b[38;5;124mpython\u001b[39m\u001b[38;5;124m'\u001b[39m\n\u001b[1;32m----> 4\u001b[0m str1\u001b[38;5;241m-\u001b[39mstr2\n",
      "\u001b[1;31mTypeError\u001b[0m: unsupported operand type(s) for -: 'str' and 'str'"
     ]
    }
   ],
   "source": [
    "str1='hello'\n",
    "str2='python'\n",
    "\n",
    "str1-str2"
   ]
  },
  {
   "cell_type": "code",
   "execution_count": 41,
   "id": "0248ba01",
   "metadata": {},
   "outputs": [
    {
     "ename": "TypeError",
     "evalue": "can't multiply sequence by non-int of type 'str'",
     "output_type": "error",
     "traceback": [
      "\u001b[1;31m---------------------------------------------------------------------------\u001b[0m",
      "\u001b[1;31mTypeError\u001b[0m                                 Traceback (most recent call last)",
      "Cell \u001b[1;32mIn[41], line 4\u001b[0m\n\u001b[0;32m      1\u001b[0m str1\u001b[38;5;241m=\u001b[39m\u001b[38;5;124m'\u001b[39m\u001b[38;5;124mhello\u001b[39m\u001b[38;5;124m'\u001b[39m\n\u001b[0;32m      2\u001b[0m str2\u001b[38;5;241m=\u001b[39m\u001b[38;5;124m'\u001b[39m\u001b[38;5;124mpython\u001b[39m\u001b[38;5;124m'\u001b[39m\n\u001b[1;32m----> 4\u001b[0m str1\u001b[38;5;241m*\u001b[39mstr2\n",
      "\u001b[1;31mTypeError\u001b[0m: can't multiply sequence by non-int of type 'str'"
     ]
    }
   ],
   "source": [
    "str1='hello'\n",
    "str2='python'\n",
    "\n",
    "str1*str2"
   ]
  },
  {
   "cell_type": "code",
   "execution_count": 42,
   "id": "17b030c4",
   "metadata": {},
   "outputs": [
    {
     "ename": "TypeError",
     "evalue": "unsupported operand type(s) for /: 'str' and 'str'",
     "output_type": "error",
     "traceback": [
      "\u001b[1;31m---------------------------------------------------------------------------\u001b[0m",
      "\u001b[1;31mTypeError\u001b[0m                                 Traceback (most recent call last)",
      "Cell \u001b[1;32mIn[42], line 4\u001b[0m\n\u001b[0;32m      1\u001b[0m str1\u001b[38;5;241m=\u001b[39m\u001b[38;5;124m'\u001b[39m\u001b[38;5;124mhello\u001b[39m\u001b[38;5;124m'\u001b[39m\n\u001b[0;32m      2\u001b[0m str2\u001b[38;5;241m=\u001b[39m\u001b[38;5;124m'\u001b[39m\u001b[38;5;124mpython\u001b[39m\u001b[38;5;124m'\u001b[39m\n\u001b[1;32m----> 4\u001b[0m str1\u001b[38;5;241m/\u001b[39mstr2\n",
      "\u001b[1;31mTypeError\u001b[0m: unsupported operand type(s) for /: 'str' and 'str'"
     ]
    }
   ],
   "source": [
    "str1='hello'\n",
    "str2='python'\n",
    "\n",
    "str1/str2"
   ]
  },
  {
   "cell_type": "code",
   "execution_count": 2,
   "id": "3853ab48",
   "metadata": {},
   "outputs": [
    {
     "data": {
      "text/plain": [
       "'pythonpythonpython'"
      ]
     },
     "execution_count": 2,
     "metadata": {},
     "output_type": "execute_result"
    }
   ],
   "source": [
    "str1='hello'\n",
    "str2='python'\n",
    "\n",
    "3*str2"
   ]
  },
  {
   "cell_type": "markdown",
   "id": "d4256075",
   "metadata": {},
   "source": [
    "$index$"
   ]
  },
  {
   "cell_type": "markdown",
   "id": "d42d6540",
   "metadata": {},
   "source": [
    "** in python index start with zero**"
   ]
  },
  {
   "cell_type": "code",
   "execution_count": 44,
   "id": "33a5f42b",
   "metadata": {},
   "outputs": [
    {
     "data": {
      "text/plain": [
       "'python'"
      ]
     },
     "execution_count": 44,
     "metadata": {},
     "output_type": "execute_result"
    }
   ],
   "source": [
    "str1='python'\n",
    "# -6 -5 -4 -3 -2 -1\n",
    "#  p  y  t  h  o  n\n",
    "#  0  1  2  3  4  5  \n",
    "str1"
   ]
  },
  {
   "cell_type": "code",
   "execution_count": 45,
   "id": "81851564",
   "metadata": {},
   "outputs": [
    {
     "data": {
      "text/plain": [
       "('p', 'y', 't', 'h', 'o', 'n')"
      ]
     },
     "execution_count": 45,
     "metadata": {},
     "output_type": "execute_result"
    }
   ],
   "source": [
    "str1[0],str1[1],str1[2],str1[3],str1[4],str1[5]"
   ]
  },
  {
   "cell_type": "code",
   "execution_count": 46,
   "id": "818bdc6d",
   "metadata": {},
   "outputs": [
    {
     "name": "stdout",
     "output_type": "stream",
     "text": [
      "0\n",
      "1\n",
      "2\n",
      "3\n",
      "4\n",
      "5\n"
     ]
    }
   ],
   "source": [
    "str1[0]\n",
    "str1[1]\n",
    "str1[2]\n",
    "str1[3]\n",
    "str1[4]\n",
    "str1[5]\n",
    "\n",
    "for i in range(6):\n",
    "    print(i)"
   ]
  },
  {
   "cell_type": "code",
   "execution_count": 47,
   "id": "f6e2f41b",
   "metadata": {},
   "outputs": [
    {
     "name": "stdout",
     "output_type": "stream",
     "text": [
      "p y t h o n p y t h o n "
     ]
    }
   ],
   "source": [
    "str1='python'\n",
    "for i in str1:\n",
    "    print(i,end=' ')\n",
    "    \n",
    "str1='python'\n",
    "for i in range(6):\n",
    "    print(str1[i],end=' ')"
   ]
  },
  {
   "cell_type": "markdown",
   "id": "4bf2dd10",
   "metadata": {},
   "source": [
    "$in-range$"
   ]
  },
  {
   "cell_type": "code",
   "execution_count": 48,
   "id": "989d5dd1",
   "metadata": {},
   "outputs": [],
   "source": [
    "# wap print the index of a given string\n",
    "# str1='python'\n",
    "# o/p: the index of p is 0\n",
    "#    : the index of y is 1\n",
    "\n"
   ]
  },
  {
   "cell_type": "code",
   "execution_count": 49,
   "id": "9ddba14a",
   "metadata": {},
   "outputs": [
    {
     "name": "stdout",
     "output_type": "stream",
     "text": [
      "the positive index of p is 0\n",
      "the positive index of y is 1\n",
      "the positive index of t is 2\n",
      "the positive index of h is 3\n",
      "the positive index of o is 4\n",
      "the positive index of n is 5\n"
     ]
    }
   ],
   "source": [
    "string1='python'\n",
    "n=len(string1)\n",
    "for i in range(n):\n",
    "    print(f\"the positive index of {string1[i]} is {i}\")\n"
   ]
  },
  {
   "cell_type": "code",
   "execution_count": 50,
   "id": "7b188907",
   "metadata": {},
   "outputs": [
    {
     "name": "stdout",
     "output_type": "stream",
     "text": [
      "the negative index of p is -11\n",
      "the negative index of y is -10\n",
      "the negative index of m is -9\n",
      "the negative index of j is -8\n",
      "the negative index of m is -7\n",
      "the negative index of j is -6\n",
      "the negative index of i is -5\n",
      "the negative index of t is -4\n",
      "the negative index of h is -3\n",
      "the negative index of o is -2\n",
      "the negative index of n is -1\n"
     ]
    }
   ],
   "source": [
    "string2='pymjmjithon'\n",
    "n=len(string2)\n",
    "for i in range(-n,0):\n",
    "    print(f\"the negative index of {string2[i]} is {i}\")"
   ]
  },
  {
   "cell_type": "code",
   "execution_count": 51,
   "id": "b3f38d1e",
   "metadata": {},
   "outputs": [
    {
     "name": "stdout",
     "output_type": "stream",
     "text": [
      "the positive index of h is 0\n",
      "the positive index of e is 1\n",
      "the positive index of l is 2\n",
      "the positive index of l is 3\n",
      "the positive index of o is 4\n",
      "the positive index of   is 5\n",
      "the positive index of h is 6\n",
      "the positive index of o is 7\n",
      "the positive index of w is 8\n",
      "the positive index of   is 9\n",
      "the positive index of a is 10\n",
      "the positive index of r is 11\n",
      "the positive index of e is 12\n",
      "the positive index of   is 13\n",
      "the positive index of y is 14\n",
      "the positive index of o is 15\n",
      "the positive index of u is 16\n"
     ]
    }
   ],
   "source": [
    "string5='hello how are you'\n",
    "n=len(string5)\n",
    "for i in range(n):\n",
    "    print(f\"the positive index of {string5[i]} is {i}\")"
   ]
  },
  {
   "cell_type": "code",
   "execution_count": 52,
   "id": "19ef3e96",
   "metadata": {},
   "outputs": [
    {
     "name": "stdout",
     "output_type": "stream",
     "text": [
      "the negative index of h is -17\n",
      "the negative index of e is -16\n",
      "the negative index of l is -15\n",
      "the negative index of l is -14\n",
      "the negative index of o is -13\n",
      "the negative index of   is -12\n",
      "the negative index of h is -11\n",
      "the negative index of o is -10\n",
      "the negative index of w is -9\n",
      "the negative index of   is -8\n",
      "the negative index of a is -7\n",
      "the negative index of r is -6\n",
      "the negative index of e is -5\n",
      "the negative index of   is -4\n",
      "the negative index of y is -3\n",
      "the negative index of o is -2\n",
      "the negative index of u is -1\n"
     ]
    }
   ],
   "source": [
    "string2='hello how are you'\n",
    "n=len(string2)\n",
    "for i in range(-n,0):\n",
    "    print(f\"the negative index of {string2[i]} is {i}\")"
   ]
  },
  {
   "cell_type": "code",
   "execution_count": 53,
   "id": "9b9bab68",
   "metadata": {},
   "outputs": [
    {
     "name": "stdout",
     "output_type": "stream",
     "text": [
      "0 -6\n",
      "1 -5\n",
      "2 -4\n",
      "3 -3\n",
      "4 -2\n",
      "5 -1\n"
     ]
    }
   ],
   "source": [
    "s1='number'\n",
    "n=len(s1)\n",
    "for i in range(6):\n",
    "    print(i,i-6)"
   ]
  },
  {
   "cell_type": "code",
   "execution_count": 54,
   "id": "da2059a6",
   "metadata": {},
   "outputs": [],
   "source": [
    "# task is implement the same\n",
    "# 1) positive index\n",
    "# 2) negative index\n",
    "# 3) posand neg together\n",
    "# using while loop"
   ]
  },
  {
   "cell_type": "code",
   "execution_count": 55,
   "id": "b8c7a7b4",
   "metadata": {},
   "outputs": [
    {
     "name": "stdout",
     "output_type": "stream",
     "text": [
      "the total number of 'o' are: 5\n"
     ]
    }
   ],
   "source": [
    "# wap find the number of 'a' present in a given string\n",
    "# s1='hello how are you i am good'\n",
    "# ans:2\n",
    "# count=0\n",
    "# Idea: iterate using for loop\n",
    "#        get each letter\n",
    "#        whenever that letter equal to a\n",
    "#        count=count+1\n",
    "\n",
    "s1='hello how are you i am good'\n",
    "count=0\n",
    "for i in s1:\n",
    "    if i=='o':\n",
    "        count=count+1\n",
    "        \n",
    "print(\"the total number of 'o' are:\", count)"
   ]
  },
  {
   "cell_type": "code",
   "execution_count": 56,
   "id": "d9a08be4",
   "metadata": {},
   "outputs": [],
   "source": [
    "# wap find the indexes of 'a' present in giving string\n",
    "# s1='hello how are you i am good'\n",
    "# ans:10,20\n",
    "\n",
    "# idea: iterate the loop using range\n",
    "#       automaticall i becomes number\n",
    "#       condition\n",
    "#       print only i"
   ]
  },
  {
   "cell_type": "code",
   "execution_count": 57,
   "id": "b0cdcb28",
   "metadata": {},
   "outputs": [
    {
     "name": "stdout",
     "output_type": "stream",
     "text": [
      "10\n",
      "20\n",
      "the total number of 'a' are: 5\n"
     ]
    }
   ],
   "source": [
    "s1='hello how are you i am good'\n",
    "for i in range(len(s1)):\n",
    "    if s1[i]=='a':\n",
    "        print(i)\n",
    "        \n",
    "print(\"the total number of 'a' are:\", count)"
   ]
  },
  {
   "cell_type": "code",
   "execution_count": 58,
   "id": "1301a73a",
   "metadata": {},
   "outputs": [
    {
     "name": "stdout",
     "output_type": "stream",
     "text": [
      "the number pf vowels are: 0\n"
     ]
    }
   ],
   "source": [
    "# wap ask the user find the number vowels in a given string\n",
    "# s2='hello how are you'\n",
    "\n",
    "s2='hello how are you'\n",
    "count=0\n",
    "for i in range(len(s2)):\n",
    "    if s2[i]=='aeiou':\n",
    "        count=count+1\n",
    "    \n",
    "print(\"the number pf vowels are:\" , count)"
   ]
  },
  {
   "cell_type": "code",
   "execution_count": 59,
   "id": "b64dfa27",
   "metadata": {},
   "outputs": [
    {
     "name": "stdout",
     "output_type": "stream",
     "text": [
      "2\n"
     ]
    }
   ],
   "source": [
    "# in the above problem vowels are reporting\n",
    "# you need to print only single vowel\n",
    "s1='abca'\n",
    "s2=' '\n",
    "for i in s1:\n",
    "    if i in 'aeiou':\n",
    "        if i not in s2:\n",
    "            s2=s2+i\n",
    "            \n",
    "print(len(s2))"
   ]
  },
  {
   "cell_type": "code",
   "execution_count": 60,
   "id": "32ce9551",
   "metadata": {},
   "outputs": [
    {
     "name": "stdout",
     "output_type": "stream",
     "text": [
      "1\n"
     ]
    }
   ],
   "source": [
    "s1='abca'\n",
    "s2=''\n",
    "for i in s1:\n",
    "    if i in 'aeiou':\n",
    "        if i not in s2:\n",
    "            s2=s2+i\n",
    "        \n",
    "print(len(s2))"
   ]
  },
  {
   "cell_type": "markdown",
   "id": "44b632da",
   "metadata": {},
   "source": [
    "$mutable-immutable$"
   ]
  },
  {
   "cell_type": "code",
   "execution_count": 61,
   "id": "ed80557a",
   "metadata": {},
   "outputs": [],
   "source": [
    "s1='hello'\n",
    "\n",
    "# can we change 'l' to 'L'\n",
    "# s1 ='hello'\n",
    "# will you achive this by using index operation"
   ]
  },
  {
   "cell_type": "code",
   "execution_count": 62,
   "id": "44e95af8",
   "metadata": {},
   "outputs": [
    {
     "ename": "TypeError",
     "evalue": "'str' object does not support item assignment",
     "output_type": "error",
     "traceback": [
      "\u001b[1;31m---------------------------------------------------------------------------\u001b[0m",
      "\u001b[1;31mTypeError\u001b[0m                                 Traceback (most recent call last)",
      "Cell \u001b[1;32mIn[62], line 2\u001b[0m\n\u001b[0;32m      1\u001b[0m s1\u001b[38;5;241m=\u001b[39m\u001b[38;5;124m'\u001b[39m\u001b[38;5;124mhello\u001b[39m\u001b[38;5;124m'\u001b[39m\n\u001b[1;32m----> 2\u001b[0m s1[\u001b[38;5;241m1\u001b[39m]\u001b[38;5;241m=\u001b[39m\u001b[38;5;124m'\u001b[39m\u001b[38;5;124mL\u001b[39m\u001b[38;5;124m'\u001b[39m\n",
      "\u001b[1;31mTypeError\u001b[0m: 'str' object does not support item assignment"
     ]
    }
   ],
   "source": [
    "s1='hello'\n",
    "s1[1]='L'\n",
    "\n",
    "\n"
   ]
  },
  {
   "cell_type": "markdown",
   "id": "caf358a1",
   "metadata": {},
   "source": [
    "Note\n",
    " - string are immutable"
   ]
  },
  {
   "cell_type": "code",
   "execution_count": 63,
   "id": "986a5561",
   "metadata": {},
   "outputs": [
    {
     "ename": "NameError",
     "evalue": "name 'l' is not defined",
     "output_type": "error",
     "traceback": [
      "\u001b[1;31m---------------------------------------------------------------------------\u001b[0m",
      "\u001b[1;31mNameError\u001b[0m                                 Traceback (most recent call last)",
      "Cell \u001b[1;32mIn[63], line 2\u001b[0m\n\u001b[0;32m      1\u001b[0m l1\u001b[38;5;241m=\u001b[39m[\u001b[38;5;241m1\u001b[39m,\u001b[38;5;241m2\u001b[39m,\u001b[38;5;241m3\u001b[39m]\n\u001b[1;32m----> 2\u001b[0m l\n",
      "\u001b[1;31mNameError\u001b[0m: name 'l' is not defined"
     ]
    }
   ],
   "source": [
    "l1=[1,2,3]\n",
    "l"
   ]
  },
  {
   "cell_type": "code",
   "execution_count": 64,
   "id": "1652805e",
   "metadata": {},
   "outputs": [],
   "source": [
    "# task is implement the same\n",
    "# 1) positive index\n",
    "# 2) negative index\n",
    "# 3) pos and neg together\n",
    "# using while loop"
   ]
  },
  {
   "cell_type": "code",
   "execution_count": 65,
   "id": "415f3bb6",
   "metadata": {},
   "outputs": [
    {
     "name": "stdout",
     "output_type": "stream",
     "text": [
      "the positive index of h is 0\n",
      "the positive index of y is 1\n",
      "the positive index of d is 2\n",
      "the positive index of e is 3\n",
      "the positive index of r is 4\n",
      "the positive index of a is 5\n",
      "the positive index of b is 6\n",
      "the positive index of a is 7\n",
      "the positive index of d is 8\n"
     ]
    }
   ],
   "source": [
    "s4='hyderabad'\n",
    "n=len(s4)\n",
    "i=0\n",
    "while i< n:\n",
    "    print(f\"the positive index of {s4[i]} is {i}\")\n",
    "    i= i+1\n",
    "    "
   ]
  },
  {
   "cell_type": "code",
   "execution_count": 66,
   "id": "856c5276",
   "metadata": {},
   "outputs": [
    {
     "name": "stdout",
     "output_type": "stream",
     "text": [
      "the negative index of h is -9\n",
      "the negative index of y is -8\n",
      "the negative index of d is -7\n",
      "the negative index of e is -6\n",
      "the negative index of r is -5\n",
      "the negative index of a is -4\n",
      "the negative index of b is -3\n",
      "the negative index of a is -2\n",
      "the negative index of d is -1\n"
     ]
    }
   ],
   "source": [
    "s4='hyderabad'\n",
    "n=len(s4)\n",
    "i=0\n",
    "while i<n:\n",
    "    print(f\"the negative index of {s4[i]} is {i-n}\")\n",
    "    i= i+1\n",
    "    "
   ]
  },
  {
   "cell_type": "code",
   "execution_count": 67,
   "id": "8c1e4f6b",
   "metadata": {},
   "outputs": [
    {
     "name": "stdout",
     "output_type": "stream",
     "text": [
      "h = positive index is 0 and negative index is -9\n",
      "y = positive index is 1 and negative index is -8\n",
      "d = positive index is 2 and negative index is -7\n",
      "e = positive index is 3 and negative index is -6\n",
      "r = positive index is 4 and negative index is -5\n",
      "a = positive index is 5 and negative index is -4\n",
      "b = positive index is 6 and negative index is -3\n",
      "a = positive index is 7 and negative index is -2\n",
      "d = positive index is 8 and negative index is -1\n"
     ]
    }
   ],
   "source": [
    "s4='hyderabad'\n",
    "n=len(s4)\n",
    "i=0\n",
    "while i<n:\n",
    "    print(f\"{s4[i]} = positive index is {i} and negative index is {i-n}\")\n",
    "    i= i+1"
   ]
  },
  {
   "cell_type": "code",
   "execution_count": 68,
   "id": "7aa9b8a6",
   "metadata": {},
   "outputs": [
    {
     "name": "stdout",
     "output_type": "stream",
     "text": [
      " the positive index of g is 0\n",
      " the positive index of a is 1\n",
      " the positive index of u is 2\n",
      " the positive index of r is 3\n",
      " the positive index of a is 4\n",
      " the positive index of v is 5\n"
     ]
    }
   ],
   "source": [
    "s5='gaurav'\n",
    "n=len(s5)\n",
    "for i in range(n):\n",
    "    print(f\" the positive index of {s5[i]} is {i}\")"
   ]
  },
  {
   "cell_type": "code",
   "execution_count": 69,
   "id": "e8a9d458",
   "metadata": {},
   "outputs": [
    {
     "name": "stdout",
     "output_type": "stream",
     "text": [
      "the negative index of g is -6\n",
      "the negative index of a is -5\n",
      "the negative index of u is -4\n",
      "the negative index of r is -3\n",
      "the negative index of a is -2\n",
      "the negative index of v is -1\n"
     ]
    }
   ],
   "source": [
    "string4='gaurav'\n",
    "n=len(string4)\n",
    "for i in range(-n,0):\n",
    "    print(f\"the negative index of {string4[i]} is {i}\")"
   ]
  },
  {
   "cell_type": "code",
   "execution_count": 70,
   "id": "f6b781aa",
   "metadata": {},
   "outputs": [
    {
     "name": "stdout",
     "output_type": "stream",
     "text": [
      "g = positive index is 0 and negative index is -6\n",
      "a = positive index is 1 and negative index is -5\n",
      "u = positive index is 2 and negative index is -4\n",
      "r = positive index is 3 and negative index is -3\n",
      "a = positive index is 4 and negative index is -2\n",
      "v = positive index is 5 and negative index is -1\n"
     ]
    }
   ],
   "source": [
    "string5='gaurav'\n",
    "n=len(string5)\n",
    "for i in range(n):\n",
    "    print(f\"{string5[i]} = positive index is {i} and negative index is {i-n}\")\n",
    "    i=i+1"
   ]
  },
  {
   "cell_type": "code",
   "execution_count": 71,
   "id": "7a450f2d",
   "metadata": {},
   "outputs": [],
   "source": [
    "str1='gaurav'\n"
   ]
  },
  {
   "cell_type": "markdown",
   "id": "7571cc30",
   "metadata": {},
   "source": [
    "$slice$"
   ]
  },
  {
   "cell_type": "code",
   "execution_count": 72,
   "id": "095b88da",
   "metadata": {},
   "outputs": [],
   "source": [
    "s1='hello how are you'"
   ]
  },
  {
   "cell_type": "code",
   "execution_count": 73,
   "id": "f199d4dd",
   "metadata": {},
   "outputs": [
    {
     "ename": "IndentationError",
     "evalue": "unexpected indent (3127825736.py, line 2)",
     "output_type": "error",
     "traceback": [
      "\u001b[1;36m  Cell \u001b[1;32mIn[73], line 2\u001b[1;36m\u001b[0m\n\u001b[1;33m    h   e   l   l   o       h   o   w       a   r   e       y   o   u\u001b[0m\n\u001b[1;37m    ^\u001b[0m\n\u001b[1;31mIndentationError\u001b[0m\u001b[1;31m:\u001b[0m unexpected indent\n"
     ]
    }
   ],
   "source": [
    "-17 -16 -15 -14 -13 -12 -11 -10  -9  -8  -7  -6  -5  -4  -3  -2  -1\n",
    "  h   e   l   l   o       h   o   w       a   r   e       y   o   u\n",
    "  0   1   2   3   4   5   6   7   8   9   10  11  12  13  14  15  16"
   ]
  },
  {
   "cell_type": "code",
   "execution_count": 74,
   "id": "30b7fa8b",
   "metadata": {},
   "outputs": [
    {
     "data": {
      "text/plain": [
       "''"
      ]
     },
     "execution_count": 74,
     "metadata": {},
     "output_type": "execute_result"
    }
   ],
   "source": [
    "s1[11:-11:-1] # ans there\n",
    "s1[11:-3:-1]  # no answer\n",
    "s1[11:-11:1]  # no answer"
   ]
  },
  {
   "cell_type": "code",
   "execution_count": 75,
   "id": "b31d8d62",
   "metadata": {},
   "outputs": [
    {
     "data": {
      "text/plain": [
       "'uoy era woh olleh'"
      ]
     },
     "execution_count": 75,
     "metadata": {},
     "output_type": "execute_result"
    }
   ],
   "source": [
    "s1[3:-14:2]    # \n",
    "s1[3:14:2]     #\n",
    "s1[-3:-14:-2]  #\n",
    "s1[-3:14:2]    #\n",
    "s1[-3:-14:2]   #\n",
    "s1[3:14:-2]    #\n",
    "s1[3:-14]      #\n",
    "s1[3:-14:-1]   #\n",
    "\n",
    "s1[:]          #\n",
    "s1[::1]        #\n",
    "s1[::]         #\n",
    "s1[::-1]       #"
   ]
  },
  {
   "cell_type": "markdown",
   "id": "2f6aea5c",
   "metadata": {},
   "source": [
    "$string$ $methods$\n"
   ]
  },
  {
   "cell_type": "code",
   "execution_count": 76,
   "id": "80cdba33",
   "metadata": {},
   "outputs": [
    {
     "data": {
      "text/plain": [
       "['__add__',\n",
       " '__class__',\n",
       " '__contains__',\n",
       " '__delattr__',\n",
       " '__dir__',\n",
       " '__doc__',\n",
       " '__eq__',\n",
       " '__format__',\n",
       " '__ge__',\n",
       " '__getattribute__',\n",
       " '__getitem__',\n",
       " '__getnewargs__',\n",
       " '__getstate__',\n",
       " '__gt__',\n",
       " '__hash__',\n",
       " '__init__',\n",
       " '__init_subclass__',\n",
       " '__iter__',\n",
       " '__le__',\n",
       " '__len__',\n",
       " '__lt__',\n",
       " '__mod__',\n",
       " '__mul__',\n",
       " '__ne__',\n",
       " '__new__',\n",
       " '__reduce__',\n",
       " '__reduce_ex__',\n",
       " '__repr__',\n",
       " '__rmod__',\n",
       " '__rmul__',\n",
       " '__setattr__',\n",
       " '__sizeof__',\n",
       " '__str__',\n",
       " '__subclasshook__',\n",
       " 'capitalize',\n",
       " 'casefold',\n",
       " 'center',\n",
       " 'count',\n",
       " 'encode',\n",
       " 'endswith',\n",
       " 'expandtabs',\n",
       " 'find',\n",
       " 'format',\n",
       " 'format_map',\n",
       " 'index',\n",
       " 'isalnum',\n",
       " 'isalpha',\n",
       " 'isascii',\n",
       " 'isdecimal',\n",
       " 'isdigit',\n",
       " 'isidentifier',\n",
       " 'islower',\n",
       " 'isnumeric',\n",
       " 'isprintable',\n",
       " 'isspace',\n",
       " 'istitle',\n",
       " 'isupper',\n",
       " 'join',\n",
       " 'ljust',\n",
       " 'lower',\n",
       " 'lstrip',\n",
       " 'maketrans',\n",
       " 'partition',\n",
       " 'removeprefix',\n",
       " 'removesuffix',\n",
       " 'replace',\n",
       " 'rfind',\n",
       " 'rindex',\n",
       " 'rjust',\n",
       " 'rpartition',\n",
       " 'rsplit',\n",
       " 'rstrip',\n",
       " 'split',\n",
       " 'splitlines',\n",
       " 'startswith',\n",
       " 'strip',\n",
       " 'swapcase',\n",
       " 'title',\n",
       " 'translate',\n",
       " 'upper',\n",
       " 'zfill']"
      ]
     },
     "execution_count": 76,
     "metadata": {},
     "output_type": "execute_result"
    }
   ],
   "source": [
    "s1='python'\n",
    "# we stored 'python' in a variable s1\n",
    "# s1 act as package\n",
    "# every packages has some methodes\n",
    "# dir(packages)\n",
    "dir(str)"
   ]
  },
  {
   "cell_type": "markdown",
   "id": "70a37082",
   "metadata": {},
   "source": [
    "$capatalize$"
   ]
  },
  {
   "cell_type": "code",
   "execution_count": 77,
   "id": "9e84f747",
   "metadata": {},
   "outputs": [
    {
     "data": {
      "text/plain": [
       "'Python'"
      ]
     },
     "execution_count": 77,
     "metadata": {},
     "output_type": "execute_result"
    }
   ],
   "source": [
    "s1='python'\n",
    "# s1 act as package\n",
    "# capatalize act as method\n",
    "# help(<package>.<methode_name>)\n",
    "# help.(s1 capatalize)\n",
    "s1.capitalize()"
   ]
  },
  {
   "cell_type": "code",
   "execution_count": 78,
   "id": "e3367e48",
   "metadata": {},
   "outputs": [
    {
     "ename": "SyntaxError",
     "evalue": "invalid syntax (2164146861.py, line 2)",
     "output_type": "error",
     "traceback": [
      "\u001b[1;36m  Cell \u001b[1;32mIn[78], line 2\u001b[1;36m\u001b[0m\n\u001b[1;33m    len(s1)            capitalize(s1)\u001b[0m\n\u001b[1;37m                       ^\u001b[0m\n\u001b[1;31mSyntaxError\u001b[0m\u001b[1;31m:\u001b[0m invalid syntax\n"
     ]
    }
   ],
   "source": [
    "# keywords     vs     methods\n",
    "len(s1)            capitalize(s1)\n",
    "max(s1)\n",
    "min(s1) \n",
    "\n",
    "s1.capitalize()\n",
    "# keywords belongs to entire python\n",
    "# methods are related to only "
   ]
  },
  {
   "cell_type": "markdown",
   "id": "1d1d63fc",
   "metadata": {},
   "source": [
    "$upper-lower-casefold$"
   ]
  },
  {
   "cell_type": "code",
   "execution_count": 79,
   "id": "88b7884f",
   "metadata": {},
   "outputs": [
    {
     "data": {
      "text/plain": [
       "'PYTHON'"
      ]
     },
     "execution_count": 79,
     "metadata": {},
     "output_type": "execute_result"
    }
   ],
   "source": [
    "s1.upper()"
   ]
  },
  {
   "cell_type": "code",
   "execution_count": 80,
   "id": "14ec998f",
   "metadata": {},
   "outputs": [
    {
     "data": {
      "text/plain": [
       "'python'"
      ]
     },
     "execution_count": 80,
     "metadata": {},
     "output_type": "execute_result"
    }
   ],
   "source": [
    "s1.lower()"
   ]
  },
  {
   "cell_type": "code",
   "execution_count": 81,
   "id": "8ae33550",
   "metadata": {},
   "outputs": [
    {
     "data": {
      "text/plain": [
       "'python'"
      ]
     },
     "execution_count": 81,
     "metadata": {},
     "output_type": "execute_result"
    }
   ],
   "source": [
    "s1='pyTHON'\n",
    "s1.casefold()"
   ]
  },
  {
   "cell_type": "markdown",
   "id": "802906d3",
   "metadata": {},
   "source": [
    "$Count$"
   ]
  },
  {
   "cell_type": "code",
   "execution_count": 82,
   "id": "19b893e3",
   "metadata": {},
   "outputs": [
    {
     "data": {
      "text/plain": [
       "3"
      ]
     },
     "execution_count": 82,
     "metadata": {},
     "output_type": "execute_result"
    }
   ],
   "source": [
    "s1='hai hai hai'\n",
    "count=0\n",
    "for i in s1:\n",
    "    if i=='a':\n",
    "        count=count+1\n",
    "count"
   ]
  },
  {
   "cell_type": "code",
   "execution_count": 83,
   "id": "bf43b922",
   "metadata": {},
   "outputs": [
    {
     "data": {
      "text/plain": [
       "1"
      ]
     },
     "execution_count": 83,
     "metadata": {},
     "output_type": "execute_result"
    }
   ],
   "source": [
    "s1='ola ola ola'\n",
    "s1.count('ola')\n",
    "s1.count('ola ')\n",
    "s1.count(s1)"
   ]
  },
  {
   "cell_type": "code",
   "execution_count": 84,
   "id": "b55634c4",
   "metadata": {},
   "outputs": [
    {
     "data": {
      "text/plain": [
       "3"
      ]
     },
     "execution_count": 84,
     "metadata": {},
     "output_type": "execute_result"
    }
   ],
   "source": [
    "s1.count('o')"
   ]
  },
  {
   "cell_type": "code",
   "execution_count": 85,
   "id": "d7170675",
   "metadata": {},
   "outputs": [
    {
     "data": {
      "text/plain": [
       "0"
      ]
     },
     "execution_count": 85,
     "metadata": {},
     "output_type": "execute_result"
    }
   ],
   "source": [
    "s1.count('oa')"
   ]
  },
  {
   "cell_type": "markdown",
   "id": "614899c3",
   "metadata": {},
   "source": [
    "$replace$"
   ]
  },
  {
   "cell_type": "code",
   "execution_count": 86,
   "id": "30c4448f",
   "metadata": {},
   "outputs": [
    {
     "data": {
      "text/plain": [
       "'wEllcomE'"
      ]
     },
     "execution_count": 86,
     "metadata": {},
     "output_type": "execute_result"
    }
   ],
   "source": [
    "s1='wellcome'\n",
    "s1.replace('w','W')\n",
    "s1.replace('e','E')"
   ]
  },
  {
   "cell_type": "code",
   "execution_count": 87,
   "id": "4ad826aa",
   "metadata": {},
   "outputs": [
    {
     "data": {
      "text/plain": [
       "'WeLLllcome'"
      ]
     },
     "execution_count": 87,
     "metadata": {},
     "output_type": "execute_result"
    }
   ],
   "source": [
    "s1='Wellllcome'\n",
    "s1.replace('l','L',2) # shift + tab\n",
    "\n",
    "#whenever slash symbol is there\n",
    "# dont give the argument name"
   ]
  },
  {
   "cell_type": "code",
   "execution_count": 88,
   "id": "146ae11d",
   "metadata": {},
   "outputs": [
    {
     "data": {
      "text/plain": [
       "20"
      ]
     },
     "execution_count": 88,
     "metadata": {},
     "output_type": "execute_result"
    }
   ],
   "source": [
    "import random\n",
    "random.randint(a=20,b=30)"
   ]
  },
  {
   "cell_type": "code",
   "execution_count": 2,
   "id": "2fd9dec0",
   "metadata": {},
   "outputs": [
    {
     "ename": "SyntaxError",
     "evalue": "invalid syntax (270221063.py, line 3)",
     "output_type": "error",
     "traceback": [
      "\u001b[1;36m  Cell \u001b[1;32mIn[2], line 3\u001b[1;36m\u001b[0m\n\u001b[1;33m    s1.\u001b[0m\n\u001b[1;37m       ^\u001b[0m\n\u001b[1;31mSyntaxError\u001b[0m\u001b[1;31m:\u001b[0m invalid syntax\n"
     ]
    }
   ],
   "source": [
    "s1='wellllcome'\n",
    "s1.replace('e','L') # no error\n",
    "s1."
   ]
  },
  {
   "cell_type": "code",
   "execution_count": 90,
   "id": "24d31cdb",
   "metadata": {},
   "outputs": [
    {
     "name": "stdout",
     "output_type": "stream",
     "text": [
      "resta$t\n"
     ]
    }
   ],
   "source": [
    "s1='restart'\n",
    "str1=s1[0]\n",
    "str2=s1[1:].replace('r','$')\n",
    "print(str1+str2)"
   ]
  },
  {
   "cell_type": "code",
   "execution_count": 91,
   "id": "4c581743",
   "metadata": {},
   "outputs": [
    {
     "data": {
      "text/plain": [
       "'resta$t'"
      ]
     },
     "execution_count": 91,
     "metadata": {},
     "output_type": "execute_result"
    }
   ],
   "source": [
    "s1[::-1].replace('r','$',1)[::-1]"
   ]
  },
  {
   "cell_type": "code",
   "execution_count": null,
   "id": "b1ce2ca7",
   "metadata": {
    "scrolled": true
   },
   "outputs": [],
   "source": [
    "if <>:\n",
    "    pass"
   ]
  },
  {
   "cell_type": "code",
   "execution_count": 3,
   "id": "218d90b1",
   "metadata": {},
   "outputs": [
    {
     "data": {
      "text/plain": [
       "'weLcome'"
      ]
     },
     "execution_count": 3,
     "metadata": {},
     "output_type": "execute_result"
    }
   ],
   "source": [
    "str1='welcome'\n",
    "str1.replace('l','L')"
   ]
  },
  {
   "cell_type": "markdown",
   "id": "3bf8ba81",
   "metadata": {},
   "source": [
    "$index$"
   ]
  },
  {
   "cell_type": "code",
   "execution_count": 4,
   "id": "01d740c0",
   "metadata": {},
   "outputs": [
    {
     "data": {
      "text/plain": [
       "1"
      ]
     },
     "execution_count": 4,
     "metadata": {},
     "output_type": "execute_result"
    }
   ],
   "source": [
    "str1='python'\n",
    "str1.index('y')"
   ]
  },
  {
   "cell_type": "code",
   "execution_count": 6,
   "id": "deb48c5e",
   "metadata": {},
   "outputs": [
    {
     "data": {
      "text/plain": [
       "(1, 5, 9)"
      ]
     },
     "execution_count": 6,
     "metadata": {},
     "output_type": "execute_result"
    }
   ],
   "source": [
    "str2='hai hai hai'\n",
    "i1=str2.index('a') # first position: 1\n",
    "i2=str2.index('a',2) # second-a: already 1 a is over,\n",
    "i3=str2.index('a',6)\n",
    "\n",
    "i1,i2,i3\n",
    "\n",
    "# Q1) what is the meaning of index:\n",
    "# ans:      0 h\n",
    "# Q2) what is the index method will do:\n",
    "# ans:     it will find the position"
   ]
  },
  {
   "cell_type": "code",
   "execution_count": null,
   "id": "c6ff4742",
   "metadata": {},
   "outputs": [],
   "source": [
    "# when i, asking you second 'a'\n",
    "# we started seeing after first 'a'\n",
    "#"
   ]
  },
  {
   "cell_type": "code",
   "execution_count": 9,
   "id": "4531b1d9",
   "metadata": {},
   "outputs": [
    {
     "data": {
      "text/plain": [
       "(1, 5, 9, 13)"
      ]
     },
     "execution_count": 9,
     "metadata": {},
     "output_type": "execute_result"
    }
   ],
   "source": [
    "str2='hai hai hai hai'\n",
    "i1=str2.index('a') \n",
    "i2=str2.index('a',i1+1)\n",
    "i3=str2.index('a',i2+1)\n",
    "i4=str2.index('a',i3+1)\n",
    "i1,i2,i3,i4"
   ]
  },
  {
   "cell_type": "code",
   "execution_count": 12,
   "id": "b4ba4bb4",
   "metadata": {},
   "outputs": [
    {
     "ename": "SyntaxError",
     "evalue": "expected ':' (2501772627.py, line 2)",
     "output_type": "error",
     "traceback": [
      "\u001b[1;36m  Cell \u001b[1;32mIn[12], line 2\u001b[1;36m\u001b[0m\n\u001b[1;33m    if str2[i]=='a'\u001b[0m\n\u001b[1;37m                   ^\u001b[0m\n\u001b[1;31mSyntaxError\u001b[0m\u001b[1;31m:\u001b[0m expected ':'\n"
     ]
    }
   ],
   "source": [
    "for i in range(len(str2)):\n",
    "    if str2[i]=='a'\n",
    "        print(i)"
   ]
  },
  {
   "cell_type": "markdown",
   "id": "3bffe53e",
   "metadata": {},
   "source": [
    "**if substring not fount**\n",
    "\n",
    "- replace : same string\n",
    "- count : 0\n",
    "- index : error"
   ]
  },
  {
   "cell_type": "markdown",
   "id": "94de9b81",
   "metadata": {},
   "source": [
    "$find$"
   ]
  },
  {
   "cell_type": "code",
   "execution_count": 17,
   "id": "ffcd54cd",
   "metadata": {},
   "outputs": [
    {
     "data": {
      "text/plain": [
       "-1"
      ]
     },
     "execution_count": 17,
     "metadata": {},
     "output_type": "execute_result"
    }
   ],
   "source": [
    "str2='hai hai hai hai'\n",
    "str2.index('a',3,8)\n",
    "str2.find('a',14)"
   ]
  },
  {
   "cell_type": "code",
   "execution_count": 18,
   "id": "3d51cc66",
   "metadata": {},
   "outputs": [
    {
     "data": {
      "text/plain": [
       "(1, 5, 9, 13)"
      ]
     },
     "execution_count": 18,
     "metadata": {},
     "output_type": "execute_result"
    }
   ],
   "source": [
    "str2='hai hai hai hai'\n",
    "i1=str2.find('a') \n",
    "i2=str2.find('a',i1+1)\n",
    "i3=str2.find('a',i2+1)\n",
    "i4=str2.find('a',i3+1)\n",
    "i5=str2.find('a',i4+1)\n",
    "i1,i2,i3,i4"
   ]
  },
  {
   "cell_type": "markdown",
   "id": "5f72a7e9",
   "metadata": {},
   "source": [
    "**if substring not fount**\n",
    "\n",
    "- replace : same string\n",
    "- count : 0\n",
    "- index : error\n",
    "- find : -1"
   ]
  },
  {
   "cell_type": "code",
   "execution_count": null,
   "id": "3b636350",
   "metadata": {},
   "outputs": [],
   "source": [
    "s1='omkar.nallagoni@cognizant.com'\n",
    "# first name='omkar'\n",
    "# sur name ='nallagoni'\n",
    "# c name = 'cognizant'\n",
    "\n",
    "s2='virat.k0hli@rcb.com'\n",
    "s3='rohit.sharma@mi.com'\n",
    "s4='lokesh.rahul@lsg.com'\n",
    "s5='a.b@c'\n",
    "\n",
    "# idea-1 extract .index s1[0:,.index>]\n",
    "# idea-2 extract  @index  s1[.:@]\n",
    "# idea-3 extract second .index s1[@:.]"
   ]
  },
  {
   "cell_type": "code",
   "execution_count": 21,
   "id": "fb44d219",
   "metadata": {},
   "outputs": [
    {
     "ename": "ValueError",
     "evalue": "substring not found",
     "output_type": "error",
     "traceback": [
      "\u001b[1;31m---------------------------------------------------------------------------\u001b[0m",
      "\u001b[1;31mValueError\u001b[0m                                Traceback (most recent call last)",
      "Cell \u001b[1;32mIn[21], line 2\u001b[0m\n\u001b[0;32m      1\u001b[0m str2\u001b[38;5;241m=\u001b[39m\u001b[38;5;124m'\u001b[39m\u001b[38;5;124momkar.nallagoni@cognizant.com\u001b[39m\u001b[38;5;124m'\u001b[39m\n\u001b[1;32m----> 2\u001b[0m i1\u001b[38;5;241m=\u001b[39mstr2\u001b[38;5;241m.\u001b[39mindex(\u001b[38;5;124m'\u001b[39m\u001b[38;5;124m0,4\u001b[39m\u001b[38;5;124m'\u001b[39m) \n\u001b[0;32m      3\u001b[0m i2\u001b[38;5;241m=\u001b[39mstr2\u001b[38;5;241m.\u001b[39mindex(\u001b[38;5;124m'\u001b[39m\u001b[38;5;124m6,14\u001b[39m\u001b[38;5;124m'\u001b[39m)\n\u001b[0;32m      4\u001b[0m i3\u001b[38;5;241m=\u001b[39mstr2\u001b[38;5;241m.\u001b[39mindex(\u001b[38;5;124m'\u001b[39m\u001b[38;5;124m16,24\u001b[39m\u001b[38;5;124m'\u001b[39m)\n",
      "\u001b[1;31mValueError\u001b[0m: substring not found"
     ]
    }
   ],
   "source": [
    "str2='omkar.nallagoni@cognizant.com'\n",
    "i1=str2.index('0,4') \n",
    "i2=str2.index('6,14')\n",
    "i3=str2.index('16,24')\n",
    "i1,i2,i3"
   ]
  },
  {
   "cell_type": "code",
   "execution_count": 22,
   "id": "35a90404",
   "metadata": {},
   "outputs": [
    {
     "name": "stdout",
     "output_type": "stream",
     "text": [
      "Email: omkar.nallagoni@cognizant.com\n",
      "First Name: omkar\n",
      "Surname: nallagoni\n",
      "Company Name: cognizant\n",
      "\n"
     ]
    }
   ],
   "source": [
    "\n",
    "s1 = 'omkar.nallagoni@cognizant.com'\n",
    "\n",
    "def extract_info(email):\n",
    "    parts = email.split('@')\n",
    "    if len(parts) != 2:\n",
    "        return None, None, None\n",
    "    name_part = parts[0]\n",
    "    domain_part = parts[1]\n",
    "\n",
    "    name_parts = name_part.split('.')\n",
    "    if len(name_parts) < 2:\n",
    "        return None, None, None\n",
    "\n",
    "    first_name = name_parts[0]\n",
    "    surname = '.'.join(name_parts[1:])\n",
    "    company_name = domain_part.split('.')[0]\n",
    "\n",
    "    return first_name, surname, company_name\n",
    "\n",
    "for email in [s1]:\n",
    "    first_name, surname, company_name = extract_info(email)\n",
    "    print(\"Email:\", email)\n",
    "    print(\"First Name:\", first_name)\n",
    "    print(\"Surname:\", surname)\n",
    "    print(\"Company Name:\", company_name)\n",
    "    print()\n"
   ]
  },
  {
   "cell_type": "code",
   "execution_count": 30,
   "id": "486d0550",
   "metadata": {},
   "outputs": [
    {
     "data": {
      "text/plain": [
       "('omkar', 'nallagoni', 'cognizant')"
      ]
     },
     "execution_count": 30,
     "metadata": {},
     "output_type": "execute_result"
    }
   ],
   "source": [
    "s1='omkar.nallagoni@cognizant.com'\n",
    "\n",
    "i1=s1.index('.')\n",
    "i2=s1.index('@')\n",
    "i3=s1.index('.',i1+1)\n",
    "fname=s1[:i1]\n",
    "sname=s1[i1+1:i2]\n",
    "cname=s1[i2+1:i3]\n",
    "fname,sname,cname"
   ]
  },
  {
   "cell_type": "code",
   "execution_count": 31,
   "id": "a4d2f06c",
   "metadata": {},
   "outputs": [
    {
     "data": {
      "text/plain": [
       "('virat', 'k0hli', 'rcb')"
      ]
     },
     "execution_count": 31,
     "metadata": {},
     "output_type": "execute_result"
    }
   ],
   "source": [
    "s2='virat.k0hli@rcb.com'\n",
    "i1=s2.index('.')\n",
    "i2=s2.index('@')\n",
    "i3=s2.index('.',i1+1)\n",
    "fname=s2[:i1]\n",
    "sname=s2[i1+1:i2]\n",
    "cname=s2[i2+1:i3]\n",
    "fname,sname,cname"
   ]
  },
  {
   "cell_type": "markdown",
   "id": "d1e77871",
   "metadata": {},
   "source": [
    "$lstrip-rstrip-strip$"
   ]
  },
  {
   "cell_type": "code",
   "execution_count": 35,
   "id": "d130b5ab",
   "metadata": {},
   "outputs": [],
   "source": [
    "str1=' python '\n",
    "str2=' python'\n",
    "str3='python '"
   ]
  },
  {
   "cell_type": "code",
   "execution_count": 36,
   "id": "081ce050",
   "metadata": {},
   "outputs": [
    {
     "data": {
      "text/plain": [
       "('python', 'python ', ' python')"
      ]
     },
     "execution_count": 36,
     "metadata": {},
     "output_type": "execute_result"
    }
   ],
   "source": [
    "str1.strip(),str1.lstrip(),str1.rstrip()"
   ]
  },
  {
   "cell_type": "code",
   "execution_count": 38,
   "id": "34f1fc94",
   "metadata": {},
   "outputs": [
    {
     "data": {
      "text/plain": [
       "('python', ' python', 'python')"
      ]
     },
     "execution_count": 38,
     "metadata": {},
     "output_type": "execute_result"
    }
   ],
   "source": [
    "str2.strip(),str2.rstrip(),str2.lstrip()"
   ]
  },
  {
   "cell_type": "code",
   "execution_count": 39,
   "id": "71d5a216",
   "metadata": {},
   "outputs": [
    {
     "data": {
      "text/plain": [
       "'python'"
      ]
     },
     "execution_count": 39,
     "metadata": {},
     "output_type": "execute_result"
    }
   ],
   "source": [
    "str2='@@@@python@@@'\n",
    "str2.strip('@')"
   ]
  },
  {
   "cell_type": "code",
   "execution_count": 44,
   "id": "2fb768f4",
   "metadata": {},
   "outputs": [
    {
     "data": {
      "text/plain": [
       "'python'"
      ]
     },
     "execution_count": 44,
     "metadata": {},
     "output_type": "execute_result"
    }
   ],
   "source": [
    "str3='@@@@python$$$'\n",
    "str3.strip('@,$')"
   ]
  },
  {
   "cell_type": "code",
   "execution_count": 11,
   "id": "79cb43ba",
   "metadata": {},
   "outputs": [
    {
     "data": {
      "text/plain": [
       "'hello /r/r/r/n/ how are you'"
      ]
     },
     "execution_count": 11,
     "metadata": {},
     "output_type": "execute_result"
    }
   ],
   "source": [
    "str1='hello /r/r/r/n/ how are you'\n",
    "str1.removesuffix (' /r/r/r/n/')"
   ]
  },
  {
   "cell_type": "markdown",
   "id": "170647be",
   "metadata": {},
   "source": [
    "$Startswitch-endswitch$"
   ]
  },
  {
   "cell_type": "code",
   "execution_count": 51,
   "id": "cbd27620",
   "metadata": {},
   "outputs": [
    {
     "data": {
      "text/plain": [
       "True"
      ]
     },
     "execution_count": 51,
     "metadata": {},
     "output_type": "execute_result"
    }
   ],
   "source": [
    "s1='hai how are you'\n",
    "s1.startswith('hai')"
   ]
  },
  {
   "cell_type": "code",
   "execution_count": 52,
   "id": "5436a72f",
   "metadata": {},
   "outputs": [
    {
     "data": {
      "text/plain": [
       "True"
      ]
     },
     "execution_count": 52,
     "metadata": {},
     "output_type": "execute_result"
    }
   ],
   "source": [
    "s1.startswith(s1)"
   ]
  },
  {
   "cell_type": "code",
   "execution_count": 53,
   "id": "50fae010",
   "metadata": {},
   "outputs": [
    {
     "data": {
      "text/plain": [
       "True"
      ]
     },
     "execution_count": 53,
     "metadata": {},
     "output_type": "execute_result"
    }
   ],
   "source": [
    "s1='hai how are you'\n",
    "s1.endswith('you')\n",
    "s1.endswith(s1)"
   ]
  },
  {
   "cell_type": "markdown",
   "id": "debd1e2b",
   "metadata": {},
   "source": [
    "$split$"
   ]
  },
  {
   "cell_type": "code",
   "execution_count": 54,
   "id": "440ee960",
   "metadata": {},
   "outputs": [
    {
     "data": {
      "text/plain": [
       "['hai', 'how', 'are', 'you']"
      ]
     },
     "execution_count": 54,
     "metadata": {},
     "output_type": "execute_result"
    }
   ],
   "source": [
    "s1='hai how are you'\n",
    "s1.split()"
   ]
  },
  {
   "cell_type": "code",
   "execution_count": 56,
   "id": "8d2925a9",
   "metadata": {},
   "outputs": [
    {
     "data": {
      "text/plain": [
       "['hai how', 'are you']"
      ]
     },
     "execution_count": 56,
     "metadata": {},
     "output_type": "execute_result"
    }
   ],
   "source": [
    "s1='hai how,are you'\n",
    "s1.split(',')"
   ]
  },
  {
   "cell_type": "code",
   "execution_count": 57,
   "id": "25672d3b",
   "metadata": {},
   "outputs": [
    {
     "data": {
      "text/plain": [
       "['h', 'i how ', 're you']"
      ]
     },
     "execution_count": 57,
     "metadata": {},
     "output_type": "execute_result"
    }
   ],
   "source": [
    "s3='hai how are you'\n",
    "s3.split('a')"
   ]
  },
  {
   "cell_type": "code",
   "execution_count": 59,
   "id": "6b76aa36",
   "metadata": {},
   "outputs": [
    {
     "ename": "SyntaxError",
     "evalue": "invalid syntax (1206592075.py, line 1)",
     "output_type": "error",
     "traceback": [
      "\u001b[1;36m  Cell \u001b[1;32mIn[59], line 1\u001b[1;36m\u001b[0m\n\u001b[1;33m    dir.\u001b[0m\n\u001b[1;37m        ^\u001b[0m\n\u001b[1;31mSyntaxError\u001b[0m\u001b[1;31m:\u001b[0m invalid syntax\n"
     ]
    }
   ],
   "source": [
    "dir."
   ]
  },
  {
   "cell_type": "code",
   "execution_count": 60,
   "id": "7e245f27",
   "metadata": {},
   "outputs": [
    {
     "data": {
      "text/plain": [
       "True"
      ]
     },
     "execution_count": 60,
     "metadata": {},
     "output_type": "execute_result"
    }
   ],
   "source": [
    "s1='alks'\n",
    "s1.isalpha()"
   ]
  },
  {
   "cell_type": "code",
   "execution_count": 61,
   "id": "c547b0e0",
   "metadata": {},
   "outputs": [
    {
     "data": {
      "text/plain": [
       "True"
      ]
     },
     "execution_count": 61,
     "metadata": {},
     "output_type": "execute_result"
    }
   ],
   "source": [
    "s2='fbmh124'\n",
    "s2.isalnum()"
   ]
  },
  {
   "cell_type": "code",
   "execution_count": 64,
   "id": "07038b69",
   "metadata": {},
   "outputs": [
    {
     "data": {
      "text/plain": [
       "True"
      ]
     },
     "execution_count": 64,
     "metadata": {},
     "output_type": "execute_result"
    }
   ],
   "source": [
    "s3='123@'\n",
    "s3.isascii()"
   ]
  },
  {
   "cell_type": "code",
   "execution_count": 88,
   "id": "fcdf1bd3",
   "metadata": {},
   "outputs": [
    {
     "data": {
      "text/plain": [
       "True"
      ]
     },
     "execution_count": 88,
     "metadata": {},
     "output_type": "execute_result"
    }
   ],
   "source": [
    "s4='354'\n",
    "s4.isdecimal()"
   ]
  },
  {
   "cell_type": "code",
   "execution_count": 71,
   "id": "ae2482d4",
   "metadata": {},
   "outputs": [
    {
     "data": {
      "text/plain": [
       "True"
      ]
     },
     "execution_count": 71,
     "metadata": {},
     "output_type": "execute_result"
    }
   ],
   "source": [
    "s5='124'\n",
    "s5.isdigit()"
   ]
  },
  {
   "cell_type": "code",
   "execution_count": 72,
   "id": "ea739caf",
   "metadata": {},
   "outputs": [
    {
     "data": {
      "text/plain": [
       "True"
      ]
     },
     "execution_count": 72,
     "metadata": {},
     "output_type": "execute_result"
    }
   ],
   "source": [
    "s6='fbmh124'\n",
    "s6.isidentifier()"
   ]
  },
  {
   "cell_type": "code",
   "execution_count": 85,
   "id": "4351c88f",
   "metadata": {},
   "outputs": [
    {
     "data": {
      "text/plain": [
       "True"
      ]
     },
     "execution_count": 85,
     "metadata": {},
     "output_type": "execute_result"
    }
   ],
   "source": [
    "s7='fmh124'\n",
    "s7.islower()"
   ]
  },
  {
   "cell_type": "code",
   "execution_count": 87,
   "id": "9c1c900c",
   "metadata": {},
   "outputs": [
    {
     "data": {
      "text/plain": [
       "False"
      ]
     },
     "execution_count": 87,
     "metadata": {},
     "output_type": "execute_result"
    }
   ],
   "source": [
    "s8='12+JH'\n",
    "s8.isnumeric()"
   ]
  },
  {
   "cell_type": "code",
   "execution_count": 77,
   "id": "4d562387",
   "metadata": {},
   "outputs": [
    {
     "data": {
      "text/plain": [
       "True"
      ]
     },
     "execution_count": 77,
     "metadata": {},
     "output_type": "execute_result"
    }
   ],
   "source": [
    "s9='fbmh124'\n",
    "s9.isprintable()"
   ]
  },
  {
   "cell_type": "code",
   "execution_count": 84,
   "id": "93c66bf6",
   "metadata": {},
   "outputs": [
    {
     "data": {
      "text/plain": [
       "True"
      ]
     },
     "execution_count": 84,
     "metadata": {},
     "output_type": "execute_result"
    }
   ],
   "source": [
    "s2=' '\n",
    "s2.isspace()"
   ]
  },
  {
   "cell_type": "code",
   "execution_count": 81,
   "id": "f446cf3f",
   "metadata": {},
   "outputs": [
    {
     "data": {
      "text/plain": [
       "True"
      ]
     },
     "execution_count": 81,
     "metadata": {},
     "output_type": "execute_result"
    }
   ],
   "source": [
    "s3='Super'\n",
    "s3.istitle()"
   ]
  },
  {
   "cell_type": "code",
   "execution_count": 83,
   "id": "2970d3bb",
   "metadata": {},
   "outputs": [
    {
     "data": {
      "text/plain": [
       "True"
      ]
     },
     "execution_count": 83,
     "metadata": {},
     "output_type": "execute_result"
    }
   ],
   "source": [
    "s2='NMHVNGC'\n",
    "s2.isupper()"
   ]
  },
  {
   "cell_type": "code",
   "execution_count": 25,
   "id": "1868731b",
   "metadata": {},
   "outputs": [
    {
     "ename": "TypeError",
     "evalue": "if you give only one argument to maketrans it must be a dict",
     "output_type": "error",
     "traceback": [
      "\u001b[1;31m---------------------------------------------------------------------------\u001b[0m",
      "\u001b[1;31mTypeError\u001b[0m                                 Traceback (most recent call last)",
      "Cell \u001b[1;32mIn[25], line 2\u001b[0m\n\u001b[0;32m      1\u001b[0m str1\u001b[38;5;241m=\u001b[39m\u001b[38;5;124m'\u001b[39m\u001b[38;5;124mvitthal teli am i\u001b[39m\u001b[38;5;124m'\u001b[39m\n\u001b[1;32m----> 2\u001b[0m str1\u001b[38;5;241m.\u001b[39mmaketrans(\u001b[38;5;124m'\u001b[39m\u001b[38;5;124mam\u001b[39m\u001b[38;5;124m'\u001b[39m)\n",
      "\u001b[1;31mTypeError\u001b[0m: if you give only one argument to maketrans it must be a dict"
     ]
    }
   ],
   "source": [
    "str1='vitthal teli am i'\n",
    "str1.maketrans('')"
   ]
  },
  {
   "cell_type": "code",
   "execution_count": null,
   "id": "1894a81b",
   "metadata": {},
   "outputs": [],
   "source": [
    "-16 -15 -14 -13 -12 -11 -10  -9  -8  -7  -6  -5  -4  -3    -2    -1  \n",
    "\n",
    " 1   2   3   4   5   A   B   C    D   E  100 200 300 400  Apple Banana\n",
    "    \n",
    " 0   2   3   4   5   6   7   8    9   10  11  12  13  14   15     16\n"
   ]
  },
  {
   "cell_type": "code",
   "execution_count": 5,
   "id": "ea3c16eb",
   "metadata": {},
   "outputs": [],
   "source": [
    "list1=[1,2,3,4,5,'A','B','C','D','E',100,200,300,400,'Apple','Banana']"
   ]
  },
  {
   "cell_type": "code",
   "execution_count": 6,
   "id": "717821c2",
   "metadata": {},
   "outputs": [
    {
     "data": {
      "text/plain": [
       "[4, 'A', 'C', 'E', 200, 400]"
      ]
     },
     "execution_count": 6,
     "metadata": {},
     "output_type": "execute_result"
    }
   ],
   "source": [
    "list1[3:14:2]"
   ]
  },
  {
   "cell_type": "code",
   "execution_count": 7,
   "id": "1e28e997",
   "metadata": {},
   "outputs": [
    {
     "data": {
      "text/plain": [
       "[]"
      ]
     },
     "execution_count": 7,
     "metadata": {},
     "output_type": "execute_result"
    }
   ],
   "source": [
    "list1[3:14:-2]"
   ]
  },
  {
   "cell_type": "code",
   "execution_count": 8,
   "id": "9bdaa75a",
   "metadata": {},
   "outputs": [
    {
     "data": {
      "text/plain": [
       "[]"
      ]
     },
     "execution_count": 8,
     "metadata": {},
     "output_type": "execute_result"
    }
   ],
   "source": [
    "list1[3:-14:2]"
   ]
  },
  {
   "cell_type": "code",
   "execution_count": 9,
   "id": "9ffb3bd8",
   "metadata": {},
   "outputs": [
    {
     "data": {
      "text/plain": [
       "[4]"
      ]
     },
     "execution_count": 9,
     "metadata": {},
     "output_type": "execute_result"
    }
   ],
   "source": [
    "list1[3:-14:-2]"
   ]
  },
  {
   "cell_type": "code",
   "execution_count": 10,
   "id": "5e56627b",
   "metadata": {},
   "outputs": [
    {
     "data": {
      "text/plain": [
       "[400, 200, 'E', 'C', 'A', 4]"
      ]
     },
     "execution_count": 10,
     "metadata": {},
     "output_type": "execute_result"
    }
   ],
   "source": [
    "list1[-3:-14:-2]"
   ]
  },
  {
   "cell_type": "code",
   "execution_count": 11,
   "id": "acd0ed92",
   "metadata": {},
   "outputs": [
    {
     "data": {
      "text/plain": [
       "[400]"
      ]
     },
     "execution_count": 11,
     "metadata": {},
     "output_type": "execute_result"
    }
   ],
   "source": [
    "list1[-3:14:2]"
   ]
  },
  {
   "cell_type": "code",
   "execution_count": 12,
   "id": "cacc3401",
   "metadata": {},
   "outputs": [
    {
     "data": {
      "text/plain": [
       "[]"
      ]
     },
     "execution_count": 12,
     "metadata": {},
     "output_type": "execute_result"
    }
   ],
   "source": [
    "list1[-3:-14:2]"
   ]
  },
  {
   "cell_type": "code",
   "execution_count": 13,
   "id": "80521640",
   "metadata": {},
   "outputs": [
    {
     "data": {
      "text/plain": [
       "[1, 2, 3, 4, 5, 'A', 'B', 'C', 'D', 'E', 100, 200, 300, 400, 'Apple', 'Banana']"
      ]
     },
     "execution_count": 13,
     "metadata": {},
     "output_type": "execute_result"
    }
   ],
   "source": [
    "list1[::]"
   ]
  },
  {
   "cell_type": "code",
   "execution_count": 14,
   "id": "56cc62b1",
   "metadata": {},
   "outputs": [
    {
     "data": {
      "text/plain": [
       "['Banana', 'Apple', 400, 300, 200, 100, 'E', 'D', 'C', 'B', 'A', 5, 4, 3, 2, 1]"
      ]
     },
     "execution_count": 14,
     "metadata": {},
     "output_type": "execute_result"
    }
   ],
   "source": [
    "list1[::-1]"
   ]
  },
  {
   "cell_type": "code",
   "execution_count": null,
   "id": "dd1b8ba2",
   "metadata": {},
   "outputs": [],
   "source": [
    "Q10 find the number of lines"
   ]
  }
 ],
 "metadata": {
  "kernelspec": {
   "display_name": "Python 3 (ipykernel)",
   "language": "python",
   "name": "python3"
  },
  "language_info": {
   "codemirror_mode": {
    "name": "ipython",
    "version": 3
   },
   "file_extension": ".py",
   "mimetype": "text/x-python",
   "name": "python",
   "nbconvert_exporter": "python",
   "pygments_lexer": "ipython3",
   "version": "3.11.4"
  }
 },
 "nbformat": 4,
 "nbformat_minor": 5
}
