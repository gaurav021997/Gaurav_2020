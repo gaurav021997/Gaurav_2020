{
 "cells": [
  {
   "cell_type": "code",
   "execution_count": null,
   "id": "43ebc3c4",
   "metadata": {},
   "outputs": [],
   "source": [
    "# if - else"
   ]
  },
  {
   "cell_type": "code",
   "execution_count": null,
   "id": "154fb015",
   "metadata": {},
   "outputs": [],
   "source": [
    "# whenever condition is true ====if block\n",
    "#          condition is false ====else block\n",
    "\n",
    "#Inndentation is Main\n"
   ]
  },
  {
   "cell_type": "code",
   "execution_count": 1,
   "id": "1320bdae",
   "metadata": {},
   "outputs": [
    {
     "name": "stdout",
     "output_type": "stream",
     "text": [
      "enter a number :65\n",
      "65is an odd\n"
     ]
    }
   ],
   "source": [
    "####################### M-1 ################\n",
    "num=eval(input(\"enter a number :\"))\n",
    "if num%2==0:\n",
    "    print(f\"{num}is an even\")\n",
    "else:\n",
    "    print(f\"{num}is an odd\")"
   ]
  },
  {
   "cell_type": "code",
   "execution_count": 6,
   "id": "9faaf0d0",
   "metadata": {},
   "outputs": [
    {
     "name": "stdout",
     "output_type": "stream",
     "text": [
      "37is an odd\n"
     ]
    }
   ],
   "source": [
    "#################### M-2 ################\n",
    "import random\n",
    "num=random.randint(10,50)\n",
    "\n",
    "if num%2==0:\n",
    "    print(f\"{num}is an even\")\n",
    "else:\n",
    "    print(f\"{num}is an odd\")"
   ]
  },
  {
   "cell_type": "code",
   "execution_count": 7,
   "id": "bee32d4a",
   "metadata": {},
   "outputs": [
    {
     "name": "stdout",
     "output_type": "stream",
     "text": [
      "enter a number :50\n"
     ]
    }
   ],
   "source": [
    "\n",
    "num=25\n",
    "num=eval(input(\"enter a number :\"))\n",
    "import random\n",
    "num=random.randint(10,50)"
   ]
  },
  {
   "cell_type": "code",
   "execution_count": null,
   "id": "40223cc6",
   "metadata": {},
   "outputs": [],
   "source": [
    "# Write a program ask the user enter the number between 1 to 100\n",
    "# print 'grater than 50' if the value grater than 50\n",
    "# else print 'less than 50'\n",
    "\n"
   ]
  },
  {
   "cell_type": "code",
   "execution_count": 10,
   "id": "6c409831",
   "metadata": {},
   "outputs": [
    {
     "name": "stdout",
     "output_type": "stream",
     "text": [
      "enter the number : 40\n",
      "less than 50\n"
     ]
    }
   ],
   "source": [
    "num=eval(input(\"enter the number : \"))\n",
    "if num>50:\n",
    "    print(\"grater than or equal to 50\")\n",
    "else:\n",
    "    print(\"less than 50\")\n",
    "               \n",
    "\n",
    "    "
   ]
  },
  {
   "cell_type": "code",
   "execution_count": 11,
   "id": "107b38d9",
   "metadata": {},
   "outputs": [
    {
     "name": "stdout",
     "output_type": "stream",
     "text": [
      "80grater than or equal to 50\n"
     ]
    }
   ],
   "source": [
    "num=random.randint(1,100)\n",
    "if num>50:\n",
    "    print(f\"{num}grater than or equal to 50\")\n",
    "else:\n",
    "    print(f\"{num}less than 50\")\n",
    "\n",
    "               "
   ]
  },
  {
   "cell_type": "code",
   "execution_count": 16,
   "id": "d8c78a9a",
   "metadata": {},
   "outputs": [
    {
     "name": "stdout",
     "output_type": "stream",
     "text": [
      "enter a number :4\n",
      "you lost\n"
     ]
    }
   ],
   "source": [
    "import random\n",
    "num1=random.randint(1,10)\n",
    "num2=eval(input(\"enter a number :\"))\n",
    "if num1==num2:\n",
    "    print(\"you won\")\n",
    "else:\n",
    "    print(\"you lost\")\n"
   ]
  },
  {
   "cell_type": "code",
   "execution_count": 28,
   "id": "4ebf63e6",
   "metadata": {},
   "outputs": [
    {
     "name": "stdout",
     "output_type": "stream",
     "text": [
      "conductor: show\n",
      "mother: no\n",
      "conductor: pa\n",
      "Mother: how\n",
      "conductor: how many\n",
      "mother: 25\n",
      "mother: how much\n",
      "conductor: 2\n"
     ]
    },
    {
     "ename": "NameError",
     "evalue": "name 'tatal' is not defined",
     "output_type": "error",
     "traceback": [
      "\u001b[1;31m---------------------------------------------------------------------------\u001b[0m",
      "\u001b[1;31mNameError\u001b[0m                                 Traceback (most recent call last)",
      "Cell \u001b[1;32mIn[28], line 13\u001b[0m\n\u001b[0;32m     11\u001b[0m fare \u001b[38;5;241m=\u001b[39m \u001b[38;5;28minput\u001b[39m(\u001b[38;5;124m\"\u001b[39m\u001b[38;5;124mconductor: \u001b[39m\u001b[38;5;124m\"\u001b[39m)\n\u001b[0;32m     12\u001b[0m total \u001b[38;5;241m=\u001b[39m dis\u001b[38;5;241m*\u001b[39mfare\n\u001b[1;32m---> 13\u001b[0m \u001b[38;5;28mprint\u001b[39m(\u001b[38;5;124mf\u001b[39m\u001b[38;5;124m\"\u001b[39m\u001b[38;5;124mfor the distance \u001b[39m\u001b[38;5;132;01m{\u001b[39;00mdis\u001b[38;5;132;01m}\u001b[39;00m\u001b[38;5;124m, total charge is \u001b[39m\u001b[38;5;132;01m{\u001b[39;00mtatal\u001b[38;5;132;01m}\u001b[39;00m\u001b[38;5;124m\"\u001b[39m)\n",
      "\u001b[1;31mNameError\u001b[0m: name 'tatal' is not defined"
     ]
    }
   ],
   "source": [
    "input(\"conductor: \") \n",
    "id1=input(\"mother: \")\n",
    "if id1 =='yes':\n",
    "    print(\"enjoy the free bus\")\n",
    "else:\n",
    "    input (\"conductor: \")\n",
    "    input (\"Mother: \")\n",
    "    input (\"conductor: \")\n",
    "    dis = eval(input(\"mother: \"))\n",
    "    input(\"mother: \")\n",
    "    fare = input(\"conductor: \")\n",
    "    total = dis*fare\n",
    "    print(f\"for the distance {dis}, total charge is {tatal}\")"
   ]
  },
  {
   "cell_type": "code",
   "execution_count": 21,
   "id": "2058c5b7",
   "metadata": {},
   "outputs": [
    {
     "name": "stdout",
     "output_type": "stream",
     "text": [
      "enter a number :5\n",
      "positive\n"
     ]
    }
   ],
   "source": [
    "num=eval(input(\"enter a number :\"))\n",
    "if num>0: \n",
    "    print(\"positive\")\n",
    "elif num<0: \n",
    "    print(\"negative\")\n",
    "else :\n",
    "    print ('zero')\n",
    "    "
   ]
  },
  {
   "cell_type": "code",
   "execution_count": 25,
   "id": "4fc6341c",
   "metadata": {},
   "outputs": [
    {
     "name": "stdout",
     "output_type": "stream",
     "text": [
      "enter a number :6\n",
      "Greater than two\n"
     ]
    }
   ],
   "source": [
    "num=eval(input(\"enter a number :\"))\n",
    "if num==0: \n",
    "    print(\"zero\")\n",
    "elif num==1: \n",
    "    print(\"one\")\n",
    "elif num==2: \n",
    "    print(\"two\")    \n",
    "else :\n",
    "    print (\"Greater than two\")\n",
    "    "
   ]
  },
  {
   "cell_type": "code",
   "execution_count": 4,
   "id": "2688e1ae",
   "metadata": {},
   "outputs": [
    {
     "ename": "SyntaxError",
     "evalue": "expected ':' (2978417081.py, line 10)",
     "output_type": "error",
     "traceback": [
      "\u001b[1;36m  Cell \u001b[1;32mIn[4], line 10\u001b[1;36m\u001b[0m\n\u001b[1;33m    else per==( \"> 90\"):\u001b[0m\n\u001b[1;37m         ^\u001b[0m\n\u001b[1;31mSyntaxError\u001b[0m\u001b[1;31m:\u001b[0m expected ':'\n"
     ]
    }
   ],
   "source": [
    "per=eval(input(\"enter a percentage :\"))\n",
    "if per==(45,60):\n",
    "    print(\"C Grade\")\n",
    "elif per==(60,75):\n",
    "    print(\"B Grade\")\n",
    "elif per==(75,90):\n",
    "    print(\"A Grade\")\n",
    "elif per==(\" < 45\"):\n",
    "    print(\"fail\")\n",
    "else per==( \"> 90\"):\n",
    "    print(\"A+ Grade\") "
   ]
  },
  {
   "cell_type": "code",
   "execution_count": 8,
   "id": "621ed6f7",
   "metadata": {},
   "outputs": [
    {
     "name": "stdout",
     "output_type": "stream",
     "text": [
      "B\n"
     ]
    }
   ],
   "source": [
    "per=60\n",
    "if per>=90:\n",
    "    print(\"A+\")\n",
    "    \n",
    "elif per>=75:\n",
    "    print(\"A\")\n",
    "    \n",
    "elif per>=60:\n",
    "    print(\"B\")\n",
    "    \n",
    "elif per>=45:\n",
    "    print(\"C\")\n",
    "    \n",
    "else :\n",
    "    print(\"D\")"
   ]
  },
  {
   "cell_type": "code",
   "execution_count": 10,
   "id": "528c8e50",
   "metadata": {},
   "outputs": [
    {
     "name": "stdout",
     "output_type": "stream",
     "text": [
      "Middle aged\n"
     ]
    }
   ],
   "source": [
    "age=40\n",
    "if age>=60:\n",
    "    print(\"Sc\")\n",
    "    \n",
    "elif age>=45:\n",
    "    print(\" aged\")\n",
    "    \n",
    "elif age>=30:\n",
    "    print(\"Middle aged\")\n",
    "    \n",
    "elif age>=20:\n",
    "    print(\"Young\")\n",
    "    \n",
    "elif age>=13:\n",
    "    print(\"Teenage\")\n",
    "    \n",
    "else :\n",
    "    print(\"kid\")"
   ]
  },
  {
   "cell_type": "code",
   "execution_count": 5,
   "id": "737d0c75",
   "metadata": {},
   "outputs": [
    {
     "name": "stdout",
     "output_type": "stream",
     "text": [
      "enter a Distance :56\n",
      "your distance is 56  km\n",
      "for distance more than 50 2 rs km\n",
      "enter The charge per km: 2\n"
     ]
    },
    {
     "ename": "NameError",
     "evalue": "name 'tatal' is not defined",
     "output_type": "error",
     "traceback": [
      "\u001b[1;31m---------------------------------------------------------------------------\u001b[0m",
      "\u001b[1;31mNameError\u001b[0m                                 Traceback (most recent call last)",
      "Cell \u001b[1;32mIn[5], line 7\u001b[0m\n\u001b[0;32m      5\u001b[0m     fare\u001b[38;5;241m=\u001b[39m\u001b[38;5;28meval\u001b[39m(\u001b[38;5;28minput\u001b[39m(\u001b[38;5;124m\"\u001b[39m\u001b[38;5;124menter The charge per km: \u001b[39m\u001b[38;5;124m\"\u001b[39m))\n\u001b[0;32m      6\u001b[0m     total\u001b[38;5;241m=\u001b[39mdis\u001b[38;5;241m*\u001b[39mfare\n\u001b[1;32m----> 7\u001b[0m     \u001b[38;5;28mprint\u001b[39m(\u001b[38;5;124mf\u001b[39m\u001b[38;5;124m\"\u001b[39m\u001b[38;5;124mfor the \u001b[39m\u001b[38;5;132;01m{\u001b[39;00mdis\u001b[38;5;132;01m}\u001b[39;00m\u001b[38;5;124m km total fare is \u001b[39m\u001b[38;5;132;01m{\u001b[39;00mtatal\u001b[38;5;132;01m}\u001b[39;00m\u001b[38;5;124m\"\u001b[39m)\n\u001b[0;32m      9\u001b[0m \u001b[38;5;28;01melif\u001b[39;00m dis\u001b[38;5;241m>\u001b[39m\u001b[38;5;241m=\u001b[39m\u001b[38;5;241m30\u001b[39m:\n\u001b[0;32m     10\u001b[0m     \u001b[38;5;28mprint\u001b[39m(\u001b[38;5;124mf\u001b[39m\u001b[38;5;124m\"\u001b[39m\u001b[38;5;124myour distance is \u001b[39m\u001b[38;5;132;01m{\u001b[39;00mdis\u001b[38;5;132;01m}\u001b[39;00m\u001b[38;5;124m km\u001b[39m\u001b[38;5;124m\"\u001b[39m)\n",
      "\u001b[1;31mNameError\u001b[0m: name 'tatal' is not defined"
     ]
    }
   ],
   "source": [
    "dis=eval(input(\"enter a Distance :\"))\n",
    "if dis>=50:\n",
    "    print(f\"your distance is {dis}  km\")\n",
    "    print(\"for distance more than 50 2 rs km\")\n",
    "    fare=eval(input(\"enter The charge per km: \"))\n",
    "    total=dis*fare\n",
    "    print(f\"for the {dis} km total fare is {tatal}\")\n",
    "                    \n",
    "elif dis>=30:\n",
    "    print(f\"your distance is {dis} km\")\n",
    "    fare=eval(input(\"enter The charge per km: \"))\n",
    "    total=dis*fare\n",
    "    print(f\"for the {dis} km total fare is {tatal}\")\n",
    "                      \n",
    "elif per>=10:\n",
    "    print(f\"your distance is {dis} km\")\n",
    "    fare=eval(input(\"enter The charge per km: \"))\n",
    "    total=dis*fare\n",
    "    print(f\"for the {dis} km total fare is {tatal}\")\n",
    "\n",
    "else :\n",
    "    print(f\"your distance is {dis} km\")\n",
    "    print(\"free ride\")\n",
    "                  "
   ]
  },
  {
   "cell_type": "code",
   "execution_count": 10,
   "id": "ad0d60cd",
   "metadata": {},
   "outputs": [
    {
     "name": "stdout",
     "output_type": "stream",
     "text": [
      "enter a gender if the gender is male or female:42\n",
      "enter the appropriate gender\n"
     ]
    }
   ],
   "source": [
    "gender=input('enter a gender if the gender is male or female:')\n",
    "if gender =='male':\n",
    "    age= eval(input('enter the age of the male candidate'))\n",
    "    if age>45:\n",
    "        print('aged male')\n",
    "    elif age>30:\n",
    "        print('MA male')\n",
    "    elif age>15:\n",
    "        print('Young male')\n",
    "    else :\n",
    "        print('boy')\n",
    "        \n",
    "elif gender=='female':\n",
    "    age= eval(input('enter the age of the female candidate'))\n",
    "    if age>=45:\n",
    "        print('aged female')\n",
    "    elif age>=30:\n",
    "        print('MA female')\n",
    "    elif age>=15:\n",
    "        print('Young female')\n",
    "    else :\n",
    "        print('girl')\n",
    "        \n",
    "else:\n",
    "    print('enter the appropriate gender')\n",
    "    \n",
    "    "
   ]
  },
  {
   "cell_type": "code",
   "execution_count": 21,
   "id": "d10a1a12",
   "metadata": {},
   "outputs": [
    {
     "name": "stdout",
     "output_type": "stream",
     "text": [
      "enter a number :0\n",
      "it is a zero\n"
     ]
    }
   ],
   "source": [
    "num=eval(input(\"enter a number :\"))\n",
    "if num>=0: \n",
    "    if num==0:\n",
    "        print(\"it is a zero\")\n",
    "    else:\n",
    "        print(\"it is a pos number\")\n",
    "else:\n",
    "    print(\"it is a neg number\")"
   ]
  },
  {
   "cell_type": "code",
   "execution_count": null,
   "id": "a28ef6f8",
   "metadata": {},
   "outputs": [],
   "source": [
    "num=eval(input(\"enter a number :\"))\n",
    "if num>0: \n",
    "    print(\"it is a pos number\")\n",
    "elif:\n",
    "    print(\"it is a neg number\")\n",
    "else:\n",
    "    print(\"it is a zero\")\n",
    "    \n",
    "    \n",
    "num=eval(input(\"enter a number :\"))\n",
    "if num>0: \n",
    "    if num==0:\n",
    "        print(\"it is a zero\")\n",
    "    else:\n",
    "        print(\"it is a pos number\")\n",
    "else:\n",
    "    print(\"it is a neg number\")\n",
    "    \n",
    "    "
   ]
  },
  {
   "cell_type": "code",
   "execution_count": null,
   "id": "d733bc5a",
   "metadata": {},
   "outputs": [],
   "source": [
    "num=eval(input(\"Give the number :\"))\n",
    "if "
   ]
  }
 ],
 "metadata": {
  "kernelspec": {
   "display_name": "Python 3 (ipykernel)",
   "language": "python",
   "name": "python3"
  },
  "language_info": {
   "codemirror_mode": {
    "name": "ipython",
    "version": 3
   },
   "file_extension": ".py",
   "mimetype": "text/x-python",
   "name": "python",
   "nbconvert_exporter": "python",
   "pygments_lexer": "ipython3",
   "version": "3.11.4"
  }
 },
 "nbformat": 4,
 "nbformat_minor": 5
}
