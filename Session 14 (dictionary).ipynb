{
 "cells": [
  {
   "cell_type": "code",
   "execution_count": 1,
   "id": "2ecbdd7c",
   "metadata": {},
   "outputs": [
    {
     "data": {
      "text/plain": [
       "['hai', 'how', 'are', 'you']"
      ]
     },
     "execution_count": 1,
     "metadata": {},
     "output_type": "execute_result"
    }
   ],
   "source": [
    "str1= 'hai how are you'\n",
    "l1=str1.split()\n",
    "l1"
   ]
  },
  {
   "cell_type": "code",
   "execution_count": 2,
   "id": "d467c1c1",
   "metadata": {},
   "outputs": [
    {
     "data": {
      "text/plain": [
       "['hai', 'how', 'are', 'you']"
      ]
     },
     "execution_count": 2,
     "metadata": {},
     "output_type": "execute_result"
    }
   ],
   "source": [
    "# now we have list of elements are there\n",
    "# we want to join\n",
    "l1"
   ]
  },
  {
   "cell_type": "code",
   "execution_count": 5,
   "id": "37bcbc6a",
   "metadata": {},
   "outputs": [
    {
     "data": {
      "text/plain": [
       "'hai how are you'"
      ]
     },
     "execution_count": 5,
     "metadata": {},
     "output_type": "execute_result"
    }
   ],
   "source": [
    "' '.join(l1)"
   ]
  },
  {
   "cell_type": "code",
   "execution_count": 7,
   "id": "6ec11d96",
   "metadata": {},
   "outputs": [
    {
     "data": {
      "text/plain": [
       "' haihowareyou'"
      ]
     },
     "execution_count": 7,
     "metadata": {},
     "output_type": "execute_result"
    }
   ],
   "source": [
    "s=''\n",
    "for i in l1:\n",
    "    s=s+i\n",
    "s"
   ]
  },
  {
   "cell_type": "code",
   "execution_count": 9,
   "id": "300a7a19",
   "metadata": {},
   "outputs": [
    {
     "name": "stdout",
     "output_type": "stream",
     "text": [
      "ramesh 20\n",
      "suresh 25\n",
      "sathish 30\n"
     ]
    }
   ],
   "source": [
    "names=['ramesh','suresh','sathish']\n",
    "age=[20,25,30]\n",
    "\n",
    "for i in range(len(names)):\n",
    "    print(names[i],age[i])"
   ]
  },
  {
   "cell_type": "markdown",
   "id": "9ef3d5da",
   "metadata": {},
   "source": [
    "$zip$"
   ]
  },
  {
   "cell_type": "code",
   "execution_count": 12,
   "id": "cd601175",
   "metadata": {},
   "outputs": [
    {
     "name": "stdout",
     "output_type": "stream",
     "text": [
      "ramesh age is 20\n",
      "suresh age is 25\n",
      "sathish age is 30\n"
     ]
    }
   ],
   "source": [
    "for i,j in zip(names,age):\n",
    "    print(f\"{i} age is {j}\")"
   ]
  },
  {
   "cell_type": "code",
   "execution_count": 11,
   "id": "b1eb9327",
   "metadata": {},
   "outputs": [
    {
     "ename": "NameError",
     "evalue": "name 'n1' is not defined",
     "output_type": "error",
     "traceback": [
      "\u001b[1;31m---------------------------------------------------------------------------\u001b[0m",
      "\u001b[1;31mNameError\u001b[0m                                 Traceback (most recent call last)",
      "Cell \u001b[1;32mIn[11], line 4\u001b[0m\n\u001b[0;32m      1\u001b[0m \u001b[38;5;28;01mdef\u001b[39;00m \u001b[38;5;21mavg\u001b[39m(n1,n2,n3):\n\u001b[0;32m      2\u001b[0m     \u001b[38;5;28;01mreturn\u001b[39;00m(n1\u001b[38;5;241m+\u001b[39mn2\u001b[38;5;241m+\u001b[39mn3,(n1\u001b[38;5;241m+\u001b[39mn2\u001b[38;5;241m+\u001b[39mn3)\u001b[38;5;241m/\u001b[39m\u001b[38;5;241m3\u001b[39m)\n\u001b[1;32m----> 4\u001b[0m o1,o2\u001b[38;5;241m=\u001b[39mavg(n1,n2,n3)\n\u001b[0;32m      5\u001b[0m o1\n\u001b[0;32m      6\u001b[0m o2\n",
      "\u001b[1;31mNameError\u001b[0m: name 'n1' is not defined"
     ]
    }
   ],
   "source": [
    "def avg(n1,n2,n3):\n",
    "    return(n1+n2+n3,(n1+n2+n3)/3)\n",
    "\n",
    "o1,o2=avg(n1,n2,n3)\n",
    "o1\n",
    "o2"
   ]
  },
  {
   "cell_type": "code",
   "execution_count": null,
   "id": "577679d0",
   "metadata": {},
   "outputs": [],
   "source": [
    "num1,num2=10,20\n",
    "age="
   ]
  },
  {
   "cell_type": "code",
   "execution_count": null,
   "id": "021d9dc2",
   "metadata": {},
   "outputs": [],
   "source": [
    "names=['ramesh','suresh','sathish']\n",
    "age=[20,25,30]\n",
    "\n",
    "if both are together why two lists ===== Dictionary"
   ]
  },
  {
   "cell_type": "code",
   "execution_count": null,
   "id": "6d880f50",
   "metadata": {},
   "outputs": [],
   "source": [
    "{<key>:<value>}\n"
   ]
  },
  {
   "cell_type": "code",
   "execution_count": 13,
   "id": "566565fb",
   "metadata": {},
   "outputs": [
    {
     "data": {
      "text/plain": [
       "{'ramesh': 20, 'suresh': 25, 'sathish': 30}"
      ]
     },
     "execution_count": 13,
     "metadata": {},
     "output_type": "execute_result"
    }
   ],
   "source": [
    "d1={\"ramesh\":20,\"suresh\":25,\"sathish\":30}\n",
    "d1"
   ]
  },
  {
   "cell_type": "code",
   "execution_count": 16,
   "id": "d4757d59",
   "metadata": {},
   "outputs": [
    {
     "data": {
      "text/plain": [
       "{20: 'ramesh', 25: 'suresh', 30: 'sathish'}"
      ]
     },
     "execution_count": 16,
     "metadata": {},
     "output_type": "execute_result"
    }
   ],
   "source": [
    "d2={20:\"ramesh\",25:\"suresh\",30:\"sathish\"}\n",
    "d2"
   ]
  },
  {
   "cell_type": "code",
   "execution_count": 18,
   "id": "4423480d",
   "metadata": {},
   "outputs": [
    {
     "data": {
      "text/plain": [
       "{20: 20}"
      ]
     },
     "execution_count": 18,
     "metadata": {},
     "output_type": "execute_result"
    }
   ],
   "source": [
    "d3={20:20}\n",
    "d3"
   ]
  },
  {
   "cell_type": "code",
   "execution_count": 19,
   "id": "c578fb81",
   "metadata": {},
   "outputs": [
    {
     "data": {
      "text/plain": [
       "{'$': 30}"
      ]
     },
     "execution_count": 19,
     "metadata": {},
     "output_type": "execute_result"
    }
   ],
   "source": [
    "d4={'$':30}\n",
    "d4"
   ]
  },
  {
   "cell_type": "code",
   "execution_count": 20,
   "id": "f78b11fe",
   "metadata": {},
   "outputs": [
    {
     "data": {
      "text/plain": [
       "{'names': ['R', 'S', 'A']}"
      ]
     },
     "execution_count": 20,
     "metadata": {},
     "output_type": "execute_result"
    }
   ],
   "source": [
    "d5={'names':['R','S','A']}\n",
    "d5"
   ]
  },
  {
   "cell_type": "code",
   "execution_count": 21,
   "id": "2b4d5254",
   "metadata": {},
   "outputs": [
    {
     "ename": "TypeError",
     "evalue": "unhashable type: 'list'",
     "output_type": "error",
     "traceback": [
      "\u001b[1;31m---------------------------------------------------------------------------\u001b[0m",
      "\u001b[1;31mTypeError\u001b[0m                                 Traceback (most recent call last)",
      "Cell \u001b[1;32mIn[21], line 1\u001b[0m\n\u001b[1;32m----> 1\u001b[0m d6\u001b[38;5;241m=\u001b[39m{[\u001b[38;5;124m'\u001b[39m\u001b[38;5;124mR\u001b[39m\u001b[38;5;124m'\u001b[39m,\u001b[38;5;124m'\u001b[39m\u001b[38;5;124mS\u001b[39m\u001b[38;5;124m'\u001b[39m,\u001b[38;5;124m'\u001b[39m\u001b[38;5;124mA\u001b[39m\u001b[38;5;124m'\u001b[39m]:\u001b[38;5;124m'\u001b[39m\u001b[38;5;124mnames\u001b[39m\u001b[38;5;124m'\u001b[39m}\n\u001b[0;32m      2\u001b[0m d6\n",
      "\u001b[1;31mTypeError\u001b[0m: unhashable type: 'list'"
     ]
    }
   ],
   "source": [
    "d6={['R','S','A']:'names'}\n",
    "d6"
   ]
  },
  {
   "cell_type": "code",
   "execution_count": 22,
   "id": "e2a878dd",
   "metadata": {},
   "outputs": [
    {
     "data": {
      "text/plain": [
       "{('R', 'S', 'A'): 'names'}"
      ]
     },
     "execution_count": 22,
     "metadata": {},
     "output_type": "execute_result"
    }
   ],
   "source": [
    "d7={('R','S','A'):'names'}\n",
    "d7"
   ]
  },
  {
   "cell_type": "code",
   "execution_count": 23,
   "id": "2dbe909f",
   "metadata": {},
   "outputs": [
    {
     "data": {
      "text/plain": [
       "{'names': ('R', 'S', 'A')}"
      ]
     },
     "execution_count": 23,
     "metadata": {},
     "output_type": "execute_result"
    }
   ],
   "source": [
    "d8={'names':('R','S','A')}\n",
    "d8"
   ]
  },
  {
   "cell_type": "markdown",
   "id": "01f9c721",
   "metadata": {},
   "source": [
    "$watch$ $only$ $keys$"
   ]
  },
  {
   "cell_type": "code",
   "execution_count": 25,
   "id": "69c634cc",
   "metadata": {},
   "outputs": [
    {
     "ename": "TypeError",
     "evalue": "'>' not supported between instances of 'str' and 'int'",
     "output_type": "error",
     "traceback": [
      "\u001b[1;31m---------------------------------------------------------------------------\u001b[0m",
      "\u001b[1;31mTypeError\u001b[0m                                 Traceback (most recent call last)",
      "Cell \u001b[1;32mIn[25], line 2\u001b[0m\n\u001b[0;32m      1\u001b[0m d2\u001b[38;5;241m=\u001b[39m{\u001b[38;5;241m20\u001b[39m:\u001b[38;5;124m\"\u001b[39m\u001b[38;5;124mramesh\u001b[39m\u001b[38;5;124m\"\u001b[39m,\u001b[38;5;124m'\u001b[39m\u001b[38;5;124msuresh\u001b[39m\u001b[38;5;124m'\u001b[39m:\u001b[38;5;241m30\u001b[39m}\n\u001b[1;32m----> 2\u001b[0m \u001b[38;5;28mmax\u001b[39m(d2)\n",
      "\u001b[1;31mTypeError\u001b[0m: '>' not supported between instances of 'str' and 'int'"
     ]
    }
   ],
   "source": [
    "d2={20:\"ramesh\",'suresh':30}\n",
    "max(d2)"
   ]
  },
  {
   "cell_type": "code",
   "execution_count": 26,
   "id": "b8cb175f",
   "metadata": {},
   "outputs": [
    {
     "data": {
      "text/plain": [
       "30"
      ]
     },
     "execution_count": 26,
     "metadata": {},
     "output_type": "execute_result"
    }
   ],
   "source": [
    "d2={20:\"ramesh\",25:\"suresh\",30:\"sathish\"}\n",
    "max(d2)"
   ]
  },
  {
   "cell_type": "code",
   "execution_count": 27,
   "id": "eac2357f",
   "metadata": {},
   "outputs": [
    {
     "data": {
      "text/plain": [
       "'suresh'"
      ]
     },
     "execution_count": 27,
     "metadata": {},
     "output_type": "execute_result"
    }
   ],
   "source": [
    "d1={\"ramesh\":20,\"suresh\":25,\"sathish\":30}\n",
    "max(d1)"
   ]
  },
  {
   "cell_type": "code",
   "execution_count": 28,
   "id": "2342af52",
   "metadata": {},
   "outputs": [
    {
     "data": {
      "text/plain": [
       "3"
      ]
     },
     "execution_count": 28,
     "metadata": {},
     "output_type": "execute_result"
    }
   ],
   "source": [
    "d3={\"ramesh\":20,\"suresh\":25,\"sathish\":30}\n",
    "len(d3)"
   ]
  },
  {
   "cell_type": "code",
   "execution_count": 29,
   "id": "8206fda0",
   "metadata": {},
   "outputs": [
    {
     "data": {
      "text/plain": [
       "['ramesh', 'sathish', 'suresh']"
      ]
     },
     "execution_count": 29,
     "metadata": {},
     "output_type": "execute_result"
    }
   ],
   "source": [
    "sorted(d3)"
   ]
  },
  {
   "cell_type": "code",
   "execution_count": 31,
   "id": "e935738d",
   "metadata": {},
   "outputs": [
    {
     "name": "stdout",
     "output_type": "stream",
     "text": [
      "sathish\n",
      "suresh\n",
      "ramesh\n"
     ]
    }
   ],
   "source": [
    "for i in reversed(d3):\n",
    "    print(i)"
   ]
  },
  {
   "cell_type": "code",
   "execution_count": 32,
   "id": "6da38f30",
   "metadata": {},
   "outputs": [
    {
     "ename": "TypeError",
     "evalue": "unsupported operand type(s) for +: 'int' and 'str'",
     "output_type": "error",
     "traceback": [
      "\u001b[1;31m---------------------------------------------------------------------------\u001b[0m",
      "\u001b[1;31mTypeError\u001b[0m                                 Traceback (most recent call last)",
      "Cell \u001b[1;32mIn[32], line 2\u001b[0m\n\u001b[0;32m      1\u001b[0m d1\u001b[38;5;241m=\u001b[39m{\u001b[38;5;124m\"\u001b[39m\u001b[38;5;124mramesh\u001b[39m\u001b[38;5;124m\"\u001b[39m:\u001b[38;5;241m20\u001b[39m,\u001b[38;5;124m\"\u001b[39m\u001b[38;5;124msuresh\u001b[39m\u001b[38;5;124m\"\u001b[39m:\u001b[38;5;241m25\u001b[39m,\u001b[38;5;124m\"\u001b[39m\u001b[38;5;124msathish\u001b[39m\u001b[38;5;124m\"\u001b[39m:\u001b[38;5;241m30\u001b[39m}\n\u001b[1;32m----> 2\u001b[0m \u001b[38;5;28msum\u001b[39m(d1)\n",
      "\u001b[1;31mTypeError\u001b[0m: unsupported operand type(s) for +: 'int' and 'str'"
     ]
    }
   ],
   "source": [
    "d1={\"ramesh\":20,\"suresh\":25,\"sathish\":30}\n",
    "sum(d1)"
   ]
  },
  {
   "cell_type": "code",
   "execution_count": 33,
   "id": "b9da7281",
   "metadata": {},
   "outputs": [
    {
     "data": {
      "text/plain": [
       "75"
      ]
     },
     "execution_count": 33,
     "metadata": {},
     "output_type": "execute_result"
    }
   ],
   "source": [
    "d2={20:\"ramesh\",25:\"suresh\",30:\"sathish\"}\n",
    "sum(d2)"
   ]
  },
  {
   "cell_type": "code",
   "execution_count": null,
   "id": "ba0ed4e4",
   "metadata": {},
   "outputs": [],
   "source": [
    "l1=['Ramesh','suresh','sathish']\n",
    "l2="
   ]
  },
  {
   "cell_type": "code",
   "execution_count": 1,
   "id": "8c0770b7",
   "metadata": {},
   "outputs": [
    {
     "ename": "TypeError",
     "evalue": "unsupported operand type(s) for +: 'dict' and 'dict'",
     "output_type": "error",
     "traceback": [
      "\u001b[1;31m---------------------------------------------------------------------------\u001b[0m",
      "\u001b[1;31mTypeError\u001b[0m                                 Traceback (most recent call last)",
      "Cell \u001b[1;32mIn[1], line 3\u001b[0m\n\u001b[0;32m      1\u001b[0m d1\u001b[38;5;241m=\u001b[39m{\u001b[38;5;124m\"\u001b[39m\u001b[38;5;124mramesh\u001b[39m\u001b[38;5;124m\"\u001b[39m:\u001b[38;5;241m20\u001b[39m}\n\u001b[0;32m      2\u001b[0m d2\u001b[38;5;241m=\u001b[39m{\u001b[38;5;124m'\u001b[39m\u001b[38;5;124msyresh\u001b[39m\u001b[38;5;124m'\u001b[39m:\u001b[38;5;241m30\u001b[39m}\n\u001b[1;32m----> 3\u001b[0m d1\u001b[38;5;241m+\u001b[39md2\n",
      "\u001b[1;31mTypeError\u001b[0m: unsupported operand type(s) for +: 'dict' and 'dict'"
     ]
    }
   ],
   "source": [
    "d1={\"ramesh\":20}\n",
    "d2={'syresh':30}\n",
    "d1+d2"
   ]
  },
  {
   "cell_type": "code",
   "execution_count": 2,
   "id": "37b20fd8",
   "metadata": {},
   "outputs": [
    {
     "data": {
      "text/plain": [
       "False"
      ]
     },
     "execution_count": 2,
     "metadata": {},
     "output_type": "execute_result"
    }
   ],
   "source": [
    "d1={\"Ramesh\":20,\"Suresh\":25,\"Satish\":30}\n",
    "'Ramesh' in d1\n",
    "20 in d1"
   ]
  },
  {
   "cell_type": "code",
   "execution_count": 3,
   "id": "b1ebbf71",
   "metadata": {},
   "outputs": [
    {
     "name": "stdout",
     "output_type": "stream",
     "text": [
      "Ramesh\n",
      "Suresh\n",
      "Satish\n"
     ]
    }
   ],
   "source": [
    "for i in d1:\n",
    "    print(i)"
   ]
  },
  {
   "cell_type": "code",
   "execution_count": 6,
   "id": "49bd7a18",
   "metadata": {},
   "outputs": [
    {
     "name": "stdout",
     "output_type": "stream",
     "text": [
      "Ramesh 20\n",
      "Suresh 25\n",
      "Satish 30\n"
     ]
    }
   ],
   "source": [
    "d1={\"Ramesh\":20,\"Suresh\":25,\"Satish\":30}\n",
    "# Normal index will not work for dictionary\n",
    "#d1[0]  # Error\n",
    "\n",
    "# If you want retrive the value, by using key we can get\n",
    "d1['Ramesh']\n",
    "d1['Suresh']\n",
    "d1['Satish']\n",
    "\n",
    "d1[i]\n",
    "\n",
    "for i in d1:\n",
    "    print(i,d1[i])\n"
   ]
  },
  {
   "cell_type": "code",
   "execution_count": 10,
   "id": "b91ccf23",
   "metadata": {},
   "outputs": [
    {
     "name": "stdout",
     "output_type": "stream",
     "text": [
      "Ramesh age is 20\n",
      "Suresh age is 25\n",
      "Satish age is 30\n"
     ]
    }
   ],
   "source": [
    "names=['Ramesh','Suresh','Satish']\n",
    "age = [20,25,30]\n",
    "for i,j in zip(names,age):\n",
    "    print(f\"{i} age is {j}\")"
   ]
  },
  {
   "cell_type": "code",
   "execution_count": 12,
   "id": "695ad3b2",
   "metadata": {},
   "outputs": [
    {
     "name": "stdout",
     "output_type": "stream",
     "text": [
      "Ramesh age is 20\n",
      "Suresh age is 25\n",
      "Satish age is 30\n"
     ]
    }
   ],
   "source": [
    "d1={\"Ramesh\":20,\"Suresh\":25,\"Satish\":30}\n",
    "for i in d1:\n",
    "    print(f\"{i} age is {d1[i]}\")"
   ]
  },
  {
   "cell_type": "code",
   "execution_count": 1,
   "id": "d0539a3c",
   "metadata": {},
   "outputs": [
    {
     "name": "stdout",
     "output_type": "stream",
     "text": [
      "Ramesh\n",
      "Suresh\n",
      "Satish\n",
      "Ramesh 20\n",
      "Suresh 25\n",
      "Satish 30\n"
     ]
    }
   ],
   "source": [
    "d1={\"Ramesh\":20,\"Suresh\":25,\"Satish\":30}\n",
    "\n",
    "for i in d1:\n",
    "    print(i)     # only keys\n",
    "    \n",
    "for i in d1:\n",
    "    print(i,d1[i])   # keys and values"
   ]
  },
  {
   "cell_type": "code",
   "execution_count": 17,
   "id": "f58ad569",
   "metadata": {},
   "outputs": [
    {
     "data": {
      "text/plain": [
       "'abc'"
      ]
     },
     "execution_count": 17,
     "metadata": {},
     "output_type": "execute_result"
    }
   ],
   "source": [
    "d1,l1,s1={},[],''\n",
    "s1=s1+'a'\n",
    "s1=s1+'b'\n",
    "s1=s1+'c'\n",
    "s1"
   ]
  },
  {
   "cell_type": "code",
   "execution_count": 18,
   "id": "d7e59011",
   "metadata": {},
   "outputs": [
    {
     "data": {
      "text/plain": [
       "[10, 20]"
      ]
     },
     "execution_count": 18,
     "metadata": {},
     "output_type": "execute_result"
    }
   ],
   "source": [
    "l1=[]\n",
    "l1.append(10)\n",
    "l1.append(20)\n",
    "l1"
   ]
  },
  {
   "cell_type": "code",
   "execution_count": 21,
   "id": "c4207685",
   "metadata": {},
   "outputs": [
    {
     "data": {
      "text/plain": [
       "{'even': [20, 30, 40], 'odd': [31, 33]}"
      ]
     },
     "execution_count": 21,
     "metadata": {},
     "output_type": "execute_result"
    }
   ],
   "source": [
    "d1={}\n",
    "d1['even']=[20,30,40]\n",
    "d1['odd']=[31,33]\n",
    "d1"
   ]
  },
  {
   "cell_type": "code",
   "execution_count": 22,
   "id": "357e4abc",
   "metadata": {},
   "outputs": [
    {
     "name": "stdout",
     "output_type": "stream",
     "text": [
      "enter the name: gaurav\n",
      "enter the city: nashik\n",
      "enter the age: 26\n"
     ]
    },
    {
     "ename": "NameError",
     "evalue": "name 'd3' is not defined",
     "output_type": "error",
     "traceback": [
      "\u001b[1;31m---------------------------------------------------------------------------\u001b[0m",
      "\u001b[1;31mNameError\u001b[0m                                 Traceback (most recent call last)",
      "Cell \u001b[1;32mIn[22], line 7\u001b[0m\n\u001b[0;32m      5\u001b[0m d1[\u001b[38;5;124m'\u001b[39m\u001b[38;5;124mNAME\u001b[39m\u001b[38;5;124m'\u001b[39m]\u001b[38;5;241m=\u001b[39mname\n\u001b[0;32m      6\u001b[0m d2[\u001b[38;5;124m'\u001b[39m\u001b[38;5;124mCITY\u001b[39m\u001b[38;5;124m'\u001b[39m]\u001b[38;5;241m=\u001b[39mcity\n\u001b[1;32m----> 7\u001b[0m d3[\u001b[38;5;124m'\u001b[39m\u001b[38;5;124mAGE\u001b[39m\u001b[38;5;124m'\u001b[39m]\u001b[38;5;241m=\u001b[39mage\n\u001b[0;32m      8\u001b[0m d1\n",
      "\u001b[1;31mNameError\u001b[0m: name 'd3' is not defined"
     ]
    }
   ],
   "source": [
    "d1={}\n",
    "name=input(\"enter the name: \")\n",
    "city=input(\"enter the city: \")\n",
    "age=eval(input(\"enter the age: \"))\n",
    "d1['NAME']=name\n",
    "d2['CITY']=city\n",
    "d3['AGE']=age\n",
    "d1"
   ]
  },
  {
   "cell_type": "code",
   "execution_count": 30,
   "id": "c7eead28",
   "metadata": {},
   "outputs": [
    {
     "data": {
      "text/plain": [
       "{'Even': [32, 94, 16, 18, 60], 'odd': [25, 27, 53, 57, 33]}"
      ]
     },
     "execution_count": 30,
     "metadata": {},
     "output_type": "execute_result"
    }
   ],
   "source": [
    "import random\n",
    "\n",
    "even_list,odd_list,d1=[],[],{}\n",
    "\n",
    "for i in range(10):\n",
    "    num=random.randint(10,100)\n",
    "    if num%2==0:\n",
    "        even_list.append(num)\n",
    "    else:\n",
    "        odd_list.append(num)\n",
    "d1['Even']=even_list\n",
    "d1['odd']=odd_list\n",
    "d1"
   ]
  },
  {
   "cell_type": "code",
   "execution_count": 32,
   "id": "48e5f3cd",
   "metadata": {},
   "outputs": [
    {
     "name": "stdout",
     "output_type": "stream",
     "text": [
      "hello 3\n",
      "how 3\n",
      "are 2\n",
      "you, 1\n",
      "hello 3\n",
      "how 3\n",
      "im 1\n",
      "good, 1\n",
      "hello 3\n",
      "how 3\n",
      "what 1\n",
      "are 2\n",
      "you 1\n",
      "doing 1\n"
     ]
    }
   ],
   "source": [
    "# word frequency\n",
    "s1='hello how are you, hello how im good, hello how what are you doing'\n",
    "#{'hello':3,'how':4,.....}\n",
    "\n",
    "l1=s1.split()\n",
    "l2=[]\n",
    "for i in l1:\n",
    "    if i not in l2:\n",
    "        print(i,l1.count(i))\n",
    "        l2.append"
   ]
  },
  {
   "cell_type": "code",
   "execution_count": 35,
   "id": "dcb6f58f",
   "metadata": {},
   "outputs": [
    {
     "data": {
      "text/plain": [
       "{'hello': 3,\n",
       " 'how': 3,\n",
       " 'are': 2,\n",
       " 'you,': 1,\n",
       " 'im': 1,\n",
       " 'good,': 1,\n",
       " 'what': 1,\n",
       " 'you': 1,\n",
       " 'doing': 1}"
      ]
     },
     "execution_count": 35,
     "metadata": {},
     "output_type": "execute_result"
    }
   ],
   "source": [
    "s1='hello how are you, hello how im good, hello how what are you doing'\n",
    "#{'hello':3,'how':4,.....}\n",
    "\n",
    "l1=s1.split()\n",
    "l2=[]\n",
    "d1={}\n",
    "for i in l1:\n",
    "    if i not in l2:\n",
    "        d1[i]=l1.count(i)\n",
    "        l2.append(i)\n",
    "d1"
   ]
  },
  {
   "cell_type": "code",
   "execution_count": 37,
   "id": "fb1a1504",
   "metadata": {},
   "outputs": [],
   "source": [
    "d1={}\n",
    "d1['hello']=3\n",
    "d1[i]=l1.count(i)"
   ]
  },
  {
   "cell_type": "code",
   "execution_count": 38,
   "id": "897c8e71",
   "metadata": {},
   "outputs": [
    {
     "data": {
      "text/plain": [
       "('apple', 'banana')"
      ]
     },
     "execution_count": 38,
     "metadata": {},
     "output_type": "execute_result"
    }
   ],
   "source": [
    "d1={'fruites':['apple','banana']}\n",
    "d1['fruites'][0],d1['fruites'][1]"
   ]
  },
  {
   "cell_type": "code",
   "execution_count": 40,
   "id": "3a847641",
   "metadata": {},
   "outputs": [
    {
     "data": {
      "text/plain": [
       "20"
      ]
     },
     "execution_count": 40,
     "metadata": {},
     "output_type": "execute_result"
    }
   ],
   "source": [
    "d1={'fruites':[{'apple':50},{'banana':20}]}\n",
    "d1['fruites']\n",
    "d1['fruites'][1]\n",
    "d1['fruites'][1]['banana']"
   ]
  },
  {
   "cell_type": "code",
   "execution_count": 45,
   "id": "86c6b1ad",
   "metadata": {},
   "outputs": [
    {
     "data": {
      "text/plain": [
       "300"
      ]
     },
     "execution_count": 45,
     "metadata": {},
     "output_type": "execute_result"
    }
   ],
   "source": [
    "d1={'fruites':[{'apple':[50,150,300]},{'banana':20}]}\n",
    "d1['fruites'][0]['apple'][2]\n"
   ]
  },
  {
   "cell_type": "code",
   "execution_count": 49,
   "id": "8f8c870d",
   "metadata": {},
   "outputs": [
    {
     "data": {
      "text/plain": [
       "'average'"
      ]
     },
     "execution_count": 49,
     "metadata": {},
     "output_type": "execute_result"
    }
   ],
   "source": [
    "d1={'fruites':\n",
    "     [{'apple':[{50:'normal',\n",
    "                150:'average',\n",
    "                300:'good'}]},\n",
    "     {'banana':20}]}\n",
    "d1['fruites'][0]['apple'][0][150]"
   ]
  },
  {
   "cell_type": "code",
   "execution_count": null,
   "id": "ab239320",
   "metadata": {},
   "outputs": [],
   "source": [
    "d1={'fruites':\n",
    "   [{'apple':[{50:\n",
    "              [\n",
    "                  {'normal':[100,300,400]\n",
    "                  }\n",
    "              ]\n",
    "             }]}]}"
   ]
  },
  {
   "cell_type": "code",
   "execution_count": null,
   "id": "19afa456",
   "metadata": {},
   "outputs": [],
   "source": []
  },
  {
   "cell_type": "markdown",
   "id": "bfc1d7c0",
   "metadata": {},
   "source": [
    "$Methodes$"
   ]
  },
  {
   "cell_type": "code",
   "execution_count": 52,
   "id": "e2a8cc2e",
   "metadata": {
    "scrolled": true
   },
   "outputs": [
    {
     "data": {
      "text/plain": [
       "['__class__',\n",
       " '__class_getitem__',\n",
       " '__contains__',\n",
       " '__delattr__',\n",
       " '__delitem__',\n",
       " '__dir__',\n",
       " '__doc__',\n",
       " '__eq__',\n",
       " '__format__',\n",
       " '__ge__',\n",
       " '__getattribute__',\n",
       " '__getitem__',\n",
       " '__getstate__',\n",
       " '__gt__',\n",
       " '__hash__',\n",
       " '__init__',\n",
       " '__init_subclass__',\n",
       " '__ior__',\n",
       " '__iter__',\n",
       " '__le__',\n",
       " '__len__',\n",
       " '__lt__',\n",
       " '__ne__',\n",
       " '__new__',\n",
       " '__or__',\n",
       " '__reduce__',\n",
       " '__reduce_ex__',\n",
       " '__repr__',\n",
       " '__reversed__',\n",
       " '__ror__',\n",
       " '__setattr__',\n",
       " '__setitem__',\n",
       " '__sizeof__',\n",
       " '__str__',\n",
       " '__subclasshook__',\n",
       " 'clear',\n",
       " 'copy',\n",
       " 'fromkeys',\n",
       " 'get',\n",
       " 'items',\n",
       " 'keys',\n",
       " 'pop',\n",
       " 'popitem',\n",
       " 'setdefault',\n",
       " 'update',\n",
       " 'values']"
      ]
     },
     "execution_count": 52,
     "metadata": {},
     "output_type": "execute_result"
    }
   ],
   "source": [
    "dir({})"
   ]
  },
  {
   "cell_type": "code",
   "execution_count": null,
   "id": "c4ba7d2e",
   "metadata": {},
   "outputs": [],
   "source": [
    "'clear',\n",
    " 'copy',\n",
    " 'fromkeys',\n",
    " 'get',\n",
    " 'items',\n",
    " 'keys',\n",
    " 'pop',\n",
    " 'popitem',\n",
    " 'setdefault',\n",
    " 'update',\n",
    " 'values'"
   ]
  },
  {
   "cell_type": "code",
   "execution_count": null,
   "id": "4dc58bd6",
   "metadata": {},
   "outputs": [],
   "source": [
    "keys values items"
   ]
  },
  {
   "cell_type": "code",
   "execution_count": 53,
   "id": "5793b69e",
   "metadata": {},
   "outputs": [
    {
     "data": {
      "text/plain": [
       "{'ramesh': 20, 'suresh': 25, 'piyush': 27}"
      ]
     },
     "execution_count": 53,
     "metadata": {},
     "output_type": "execute_result"
    }
   ],
   "source": [
    "d1={'ramesh':20,'suresh':25,'piyush':27}\n",
    "d1"
   ]
  },
  {
   "cell_type": "code",
   "execution_count": 54,
   "id": "61e64fdd",
   "metadata": {},
   "outputs": [
    {
     "data": {
      "text/plain": [
       "dict_keys(['ramesh', 'suresh', 'piyush'])"
      ]
     },
     "execution_count": 54,
     "metadata": {},
     "output_type": "execute_result"
    }
   ],
   "source": [
    "d1.keys()"
   ]
  },
  {
   "cell_type": "code",
   "execution_count": 55,
   "id": "88bc19ae",
   "metadata": {},
   "outputs": [
    {
     "data": {
      "text/plain": [
       "dict_items([('ramesh', 20), ('suresh', 25), ('piyush', 27)])"
      ]
     },
     "execution_count": 55,
     "metadata": {},
     "output_type": "execute_result"
    }
   ],
   "source": [
    "d1.items()"
   ]
  },
  {
   "cell_type": "code",
   "execution_count": 57,
   "id": "661e7d3b",
   "metadata": {},
   "outputs": [
    {
     "data": {
      "text/plain": [
       "dict_keys"
      ]
     },
     "execution_count": 57,
     "metadata": {},
     "output_type": "execute_result"
    }
   ],
   "source": [
    "d1.keys()\n",
    "type(d1.keys())"
   ]
  },
  {
   "cell_type": "code",
   "execution_count": 56,
   "id": "a753aeb9",
   "metadata": {},
   "outputs": [
    {
     "data": {
      "text/plain": [
       "'ramesh'"
      ]
     },
     "execution_count": 56,
     "metadata": {},
     "output_type": "execute_result"
    }
   ],
   "source": [
    "list(d1.keys())[0].lower()"
   ]
  },
  {
   "cell_type": "code",
   "execution_count": 58,
   "id": "177e72a1",
   "metadata": {},
   "outputs": [
    {
     "data": {
      "text/plain": [
       "['ramesh', 'suresh', 'piyush']"
      ]
     },
     "execution_count": 58,
     "metadata": {},
     "output_type": "execute_result"
    }
   ],
   "source": [
    "list(d1.keys())"
   ]
  },
  {
   "cell_type": "code",
   "execution_count": null,
   "id": "59eee75c",
   "metadata": {},
   "outputs": [],
   "source": [
    "clear\n",
    "copy \n",
    "get\n",
    "pop\n",
    "popitem"
   ]
  },
  {
   "cell_type": "code",
   "execution_count": 60,
   "id": "f0582891",
   "metadata": {},
   "outputs": [
    {
     "ename": "NameError",
     "evalue": "name 'list1' is not defined",
     "output_type": "error",
     "traceback": [
      "\u001b[1;31m---------------------------------------------------------------------------\u001b[0m",
      "\u001b[1;31mNameError\u001b[0m                                 Traceback (most recent call last)",
      "Cell \u001b[1;32mIn[60], line 1\u001b[0m\n\u001b[1;32m----> 1\u001b[0m list1\u001b[38;5;241m.\u001b[39mclear()\n\u001b[0;32m      2\u001b[0m list1\n\u001b[0;32m      4\u001b[0m l1\u001b[38;5;241m=\u001b[39m[\u001b[38;5;124m'\u001b[39m\u001b[38;5;124mA\u001b[39m\u001b[38;5;124m'\u001b[39m,\u001b[38;5;124m'\u001b[39m\u001b[38;5;124mB\u001b[39m\u001b[38;5;124m'\u001b[39m,\u001b[38;5;124m'\u001b[39m\u001b[38;5;124mC\u001b[39m\u001b[38;5;124m'\u001b[39m]\n",
      "\u001b[1;31mNameError\u001b[0m: name 'list1' is not defined"
     ]
    }
   ],
   "source": [
    "list1.clear()\n",
    "list1\n",
    "\n",
    "l1=['A','B','C']\n",
    "l2=l1.copy()\n",
    "# l1.clear()\n",
    "l1,l"
   ]
  },
  {
   "cell_type": "code",
   "execution_count": 61,
   "id": "1c7d8606",
   "metadata": {},
   "outputs": [
    {
     "data": {
      "text/plain": [
       "{}"
      ]
     },
     "execution_count": 61,
     "metadata": {},
     "output_type": "execute_result"
    }
   ],
   "source": [
    "d1={'ramesh':20,'suresh':25,'piyush':27}\n",
    "d1.clear()\n",
    "d1"
   ]
  },
  {
   "cell_type": "code",
   "execution_count": null,
   "id": "0993e32f",
   "metadata": {},
   "outputs": [],
   "source": [
    "pop\n",
    "popitem\n",
    "fromkeys\n",
    "setdefault\n",
    "update"
   ]
  },
  {
   "cell_type": "code",
   "execution_count": 3,
   "id": "c5632945",
   "metadata": {},
   "outputs": [
    {
     "data": {
      "text/plain": [
       "{'suresh': 25, 'piyush': 27}"
      ]
     },
     "execution_count": 3,
     "metadata": {},
     "output_type": "execute_result"
    }
   ],
   "source": [
    "d1={'ramesh':20,'suresh':25,'piyush':27}\n",
    "d1.pop('ramesh')\n",
    "d1"
   ]
  },
  {
   "cell_type": "code",
   "execution_count": 5,
   "id": "4615af6e",
   "metadata": {},
   "outputs": [
    {
     "data": {
      "text/plain": [
       "{'ramesh': 20, 'suresh': 25}"
      ]
     },
     "execution_count": 5,
     "metadata": {},
     "output_type": "execute_result"
    }
   ],
   "source": [
    "d1={'ramesh':20,'suresh':25,'piyush':27}\n",
    "d1.popitem()\n",
    "d1"
   ]
  },
  {
   "cell_type": "markdown",
   "id": "e9c729eb",
   "metadata": {},
   "source": [
    "$get$"
   ]
  },
  {
   "cell_type": "code",
   "execution_count": 6,
   "id": "6f484837",
   "metadata": {},
   "outputs": [
    {
     "data": {
      "text/plain": [
       "20"
      ]
     },
     "execution_count": 6,
     "metadata": {},
     "output_type": "execute_result"
    }
   ],
   "source": [
    "d1={'ramesh':20,'suresh':25,'piyush':27}\n",
    "d1.get('ramesh')"
   ]
  },
  {
   "cell_type": "code",
   "execution_count": 7,
   "id": "5ca69b7b",
   "metadata": {},
   "outputs": [
    {
     "data": {
      "text/plain": [
       "20"
      ]
     },
     "execution_count": 7,
     "metadata": {},
     "output_type": "execute_result"
    }
   ],
   "source": [
    "d1['ramesh'] # by reference as a key you an get the value"
   ]
  },
  {
   "cell_type": "markdown",
   "id": "ee8c1589",
   "metadata": {},
   "source": [
    "$update$"
   ]
  },
  {
   "cell_type": "code",
   "execution_count": 9,
   "id": "f87e17d2",
   "metadata": {},
   "outputs": [
    {
     "data": {
      "text/plain": [
       "{'ramesh': 20, 'suresh': 30}"
      ]
     },
     "execution_count": 9,
     "metadata": {},
     "output_type": "execute_result"
    }
   ],
   "source": [
    "d1={'ramesh':20}\n",
    "d2={'suresh':30}\n",
    "d1.update(d2)\n",
    "d1"
   ]
  },
  {
   "cell_type": "code",
   "execution_count": null,
   "id": "bb6f3921",
   "metadata": {},
   "outputs": [],
   "source": [
    "d1={'ramesh':20}\n",
    "d2={'suresh':30}\n",
    "d1.update(d2)\n",
    "d1"
   ]
  }
 ],
 "metadata": {
  "kernelspec": {
   "display_name": "Python 3 (ipykernel)",
   "language": "python",
   "name": "python3"
  },
  "language_info": {
   "codemirror_mode": {
    "name": "ipython",
    "version": 3
   },
   "file_extension": ".py",
   "mimetype": "text/x-python",
   "name": "python",
   "nbconvert_exporter": "python",
   "pygments_lexer": "ipython3",
   "version": "3.11.4"
  }
 },
 "nbformat": 4,
 "nbformat_minor": 5
}
