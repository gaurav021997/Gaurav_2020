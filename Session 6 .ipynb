{
 "cells": [
  {
   "cell_type": "code",
   "execution_count": null,
   "id": "5fdfaf05",
   "metadata": {},
   "outputs": [],
   "source": [
    "num1=10\n",
    "num2=20\n",
    "add=num1+num2\n",
    "print(f\"the addition of {num1} and {num2} is {add}\")"
   ]
  },
  {
   "cell_type": "markdown",
   "id": "0ee23893",
   "metadata": {},
   "source": [
    "Input Method"
   ]
  },
  {
   "cell_type": "code",
   "execution_count": null,
   "id": "ffbfc6f4",
   "metadata": {},
   "outputs": [],
   "source": [
    "input()"
   ]
  },
  {
   "cell_type": "code",
   "execution_count": null,
   "id": "7cbd480d",
   "metadata": {},
   "outputs": [],
   "source": [
    "input(\"enter a number:\")"
   ]
  },
  {
   "cell_type": "code",
   "execution_count": null,
   "id": "b868abdf",
   "metadata": {},
   "outputs": [],
   "source": [
    "input(\"enter a number:\")"
   ]
  },
  {
   "cell_type": "code",
   "execution_count": null,
   "id": "e74bc97c",
   "metadata": {},
   "outputs": [],
   "source": [
    "num1=input(\"enter a number1\")\n",
    "num2=input(\"enter a number2\")\n",
    "num1+num2"
   ]
  },
  {
   "cell_type": "code",
   "execution_count": null,
   "id": "bd55049b",
   "metadata": {},
   "outputs": [],
   "source": [
    "'100'+'200'"
   ]
  },
  {
   "cell_type": "code",
   "execution_count": null,
   "id": "abf71a10",
   "metadata": {},
   "outputs": [],
   "source": [
    "num1 = 10\n",
    "type(num1)\n",
    "\n",
    "num2=input(\"enter a number:\")\n",
    "type(num2)"
   ]
  },
  {
   "cell_type": "code",
   "execution_count": null,
   "id": "c019985a",
   "metadata": {},
   "outputs": [],
   "source": [
    "num1=int(input(\"enter a number1: \"))\n",
    "num2=int(input(\"enter a number2: \"))\n",
    "print(f\"the additon of {num1} and {num2} is {num1+num2}\")"
   ]
  },
  {
   "cell_type": "code",
   "execution_count": null,
   "id": "40c349d5",
   "metadata": {},
   "outputs": [],
   "source": [
    "num1=int(input(\"enter a number1: \")) \n",
    "num2=int(input(\"enter a number2: \"))\n",
    "add= int(num1)+int(num2)\n",
    "print(f\"the additon of {num1} and {num2} is {add}\")"
   ]
  },
  {
   "cell_type": "markdown",
   "id": "cc338d18",
   "metadata": {},
   "source": [
    "eval:evaluate the number automatically based on original data type"
   ]
  },
  {
   "cell_type": "code",
   "execution_count": null,
   "id": "c61ac1db",
   "metadata": {},
   "outputs": [],
   "source": [
    "num1=eval(input(\"enter a number1: \")) \n",
    "num2=eval(input(\"enter a number2: \"))\n",
    "add= num1+num2\n",
    "print(f\"the addition of {num1} and {num2} is {add}\")"
   ]
  },
  {
   "cell_type": "code",
   "execution_count": 1,
   "id": "889de0fd",
   "metadata": {},
   "outputs": [
    {
     "name": "stdout",
     "output_type": "stream",
     "text": [
      "enter a number1: 1\n",
      "enter a number2: 2\n",
      "enter a number3: 4\n"
     ]
    },
    {
     "ename": "NameError",
     "evalue": "name 'n1' is not defined",
     "output_type": "error",
     "traceback": [
      "\u001b[1;31m---------------------------------------------------------------------------\u001b[0m",
      "\u001b[1;31mNameError\u001b[0m                                 Traceback (most recent call last)",
      "Cell \u001b[1;32mIn[1], line 4\u001b[0m\n\u001b[0;32m      2\u001b[0m num2\u001b[38;5;241m=\u001b[39m\u001b[38;5;28meval\u001b[39m(\u001b[38;5;28minput\u001b[39m(\u001b[38;5;124m\"\u001b[39m\u001b[38;5;124menter a number2: \u001b[39m\u001b[38;5;124m\"\u001b[39m))\n\u001b[0;32m      3\u001b[0m num3\u001b[38;5;241m=\u001b[39m\u001b[38;5;28meval\u001b[39m(\u001b[38;5;28minput\u001b[39m(\u001b[38;5;124m\"\u001b[39m\u001b[38;5;124menter a number3: \u001b[39m\u001b[38;5;124m\"\u001b[39m)) \n\u001b[1;32m----> 4\u001b[0m add\u001b[38;5;241m=\u001b[39mn1\u001b[38;5;241m+\u001b[39mn2\u001b[38;5;241m+\u001b[39mn3\n\u001b[0;32m      5\u001b[0m avg\u001b[38;5;241m=\u001b[39madd\u001b[38;5;241m/\u001b[39m\u001b[38;5;241m3\u001b[39m\n\u001b[0;32m      6\u001b[0m \u001b[38;5;28mprint\u001b[39m(\u001b[38;5;124mf\u001b[39m\u001b[38;5;124m\"\u001b[39m\u001b[38;5;124mthe avarage of \u001b[39m\u001b[38;5;132;01m{\u001b[39;00mn1\u001b[38;5;132;01m}\u001b[39;00m\u001b[38;5;124m,\u001b[39m\u001b[38;5;132;01m{\u001b[39;00mn2\u001b[38;5;132;01m}\u001b[39;00m\u001b[38;5;124m and \u001b[39m\u001b[38;5;132;01m{\u001b[39;00mn3\u001b[38;5;132;01m}\u001b[39;00m\u001b[38;5;124m is : \u001b[39m\u001b[38;5;132;01m{\u001b[39;00mavg\u001b[38;5;132;01m}\u001b[39;00m\u001b[38;5;124m\"\u001b[39m)\n",
      "\u001b[1;31mNameError\u001b[0m: name 'n1' is not defined"
     ]
    }
   ],
   "source": [
    "num1=eval(input(\"enter a number1: \")) \n",
    "num2=eval(input(\"enter a number2: \"))\n",
    "num3=eval(input(\"enter a number3: \")) \n",
    "add=n1+n2+n3\n",
    "avg=add/3\n",
    "print(f\"the avarage of {n1},{n2} and {n3} is : {avg}\")\n"
   ]
  },
  {
   "cell_type": "code",
   "execution_count": 2,
   "id": "1bcdc35d",
   "metadata": {},
   "outputs": [
    {
     "name": "stdout",
     "output_type": "stream",
     "text": [
      "salary100000\n",
      "tax_per 10\n",
      "persentage of tax100\n"
     ]
    }
   ],
   "source": [
    "num1=eval(input(\" enter the salary\")) \n",
    "num2=eval(input(\"tax_per \"))\n",
    "num3=eval(input(\"persentage of tax\"))\n",
    "multiply =num1*num2\n",
    "avg = multiply/100"
   ]
  },
  {
   "cell_type": "code",
   "execution_count": 1,
   "id": "703ec328",
   "metadata": {},
   "outputs": [
    {
     "name": "stdout",
     "output_type": "stream",
     "text": [
      "========conversatiin between mother and daughter=========\n",
      "Daughter: Hey mom\n",
      "Mother: Hello beta\n",
      "Daughter: Did you know government has implented free bus service\n",
      "Mother: oh really!\n",
      "Daughter: Will go to grand house\n",
      "Mother: nice idea beta \n",
      "==============after they reach bus stop==================\n",
      "conductor: please show me your id cards\n",
      "Mother: sorry id card is forgot \n",
      "conductor: then pay the charge \n",
      "Mother: how many charge of this rout\n",
      "conductor: its charge by km and 2 rs per km\n",
      "Mother: 2\n",
      "Mother: 25 km long this rout\n",
      "conductor: 25\n"
     ]
    },
    {
     "ename": "TypeError",
     "evalue": "can't multiply sequence by non-int of type 'str'",
     "output_type": "error",
     "traceback": [
      "\u001b[1;31m---------------------------------------------------------------------------\u001b[0m",
      "\u001b[1;31mTypeError\u001b[0m                                 Traceback (most recent call last)",
      "Cell \u001b[1;32mIn[1], line 17\u001b[0m\n\u001b[0;32m     15\u001b[0m \u001b[38;5;28minput\u001b[39m (\u001b[38;5;124m\"\u001b[39m\u001b[38;5;124mMother: \u001b[39m\u001b[38;5;124m\"\u001b[39m)\n\u001b[0;32m     16\u001b[0m fare\u001b[38;5;241m=\u001b[39m\u001b[38;5;28minput\u001b[39m (\u001b[38;5;124m\"\u001b[39m\u001b[38;5;124mconductor: \u001b[39m\u001b[38;5;124m\"\u001b[39m)\n\u001b[1;32m---> 17\u001b[0m total\u001b[38;5;241m=\u001b[39mkm\u001b[38;5;241m*\u001b[39mfare\n",
      "\u001b[1;31mTypeError\u001b[0m: can't multiply sequence by non-int of type 'str'"
     ]
    }
   ],
   "source": [
    "print (\"========conversatiin between mother and daughter=========\")\n",
    "input (\"Daughter: \")\n",
    "input (\"Mother: \")\n",
    "input (\"Daughter: \")\n",
    "input (\"Mother: \")\n",
    "input (\"Daughter: \")\n",
    "input (\"Mother: \")\n",
    "print (\"==============after they reach bus stop==================\")\n",
    "input (\"conductor: \")\n",
    "input (\"Mother: \")\n",
    "input (\"conductor: \")\n",
    "input (\"Mother: \")\n",
    "input (\"conductor: \")\n",
    "km=input (\"Mother: \")\n",
    "input (\"Mother: \")\n",
    "fare=input (\"conductor: \")\n",
    "total=km*fare\n",
    "\n"
   ]
  },
  {
   "cell_type": "code",
   "execution_count": 5,
   "id": "5678b2a0",
   "metadata": {},
   "outputs": [
    {
     "name": "stdout",
     "output_type": "stream",
     "text": [
      "Daughter :Did you know Government has implemented free bus service\n",
      "Mother :Oh really\n"
     ]
    },
    {
     "data": {
      "text/plain": [
       "'Oh really'"
      ]
     },
     "execution_count": 5,
     "metadata": {},
     "output_type": "execute_result"
    }
   ],
   "source": []
  },
  {
   "cell_type": "code",
   "execution_count": 6,
   "id": "24a921b4",
   "metadata": {},
   "outputs": [
    {
     "name": "stdout",
     "output_type": "stream",
     "text": [
      "you: how much the bill\n",
      "enter the bill800\n",
      "Bar: 800\n",
      "You: I have only USD\n",
      "Bar: We accept INR only\n",
      "You: what should you do Now \n",
      "Bar: Lets convert USD to INR\n",
      "you :How many INR is equal to 1 USD 80\n",
      "Bar: Give me 10.0 dollers\n"
     ]
    }
   ],
   "source": [
    "print(\"you: how much the bill\")\n",
    "bill = eval(input(\"enter the bill\"))\n",
    "print(\"Bar:\",bill)\n",
    "print(\"You: I have only USD\")\n",
    "print(\"Bar: We accept INR only\")\n",
    "print(\"You: what should you do Now \")\n",
    "print(\"Bar: Lets convert USD to INR\")\n",
    "INR=eval(input (\"you :How many INR is equal to 1 USD \"))\n",
    "total=bill/INR\n",
    "print(f\"Bar: Give me {total} dollers\")"
   ]
  },
  {
   "cell_type": "code",
   "execution_count": 7,
   "id": "c4d553eb",
   "metadata": {},
   "outputs": [
    {
     "data": {
      "text/plain": [
       "11.25"
      ]
     },
     "execution_count": 7,
     "metadata": {},
     "output_type": "execute_result"
    }
   ],
   "source": [
    "45/4 # 45 division 4\n",
    "#it is the normal division"
   ]
  },
  {
   "cell_type": "code",
   "execution_count": 8,
   "id": "4845c265",
   "metadata": {},
   "outputs": [
    {
     "data": {
      "text/plain": [
       "1"
      ]
     },
     "execution_count": 8,
     "metadata": {},
     "output_type": "execute_result"
    }
   ],
   "source": [
    "45%4 # 45 Modulus 4"
   ]
  },
  {
   "cell_type": "code",
   "execution_count": 9,
   "id": "ab9df5d2",
   "metadata": {},
   "outputs": [
    {
     "data": {
      "text/plain": [
       "11"
      ]
     },
     "execution_count": 9,
     "metadata": {},
     "output_type": "execute_result"
    }
   ],
   "source": [
    "45//4 # 45 floor division 4\n",
    "# it will give the quotient"
   ]
  },
  {
   "cell_type": "code",
   "execution_count": 10,
   "id": "0054c1f6",
   "metadata": {},
   "outputs": [],
   "source": [
    "# condisional operation\n",
    "# if-else"
   ]
  },
  {
   "cell_type": "markdown",
   "id": "efa606ab",
   "metadata": {},
   "source": [
    "pattern - 1"
   ]
  },
  {
   "cell_type": "markdown",
   "id": "9139bd0e",
   "metadata": {},
   "source": [
    "if"
   ]
  },
  {
   "cell_type": "code",
   "execution_count": 12,
   "id": "409d856f",
   "metadata": {},
   "outputs": [
    {
     "data": {
      "text/plain": [
       "True"
      ]
     },
     "execution_count": 12,
     "metadata": {},
     "output_type": "execute_result"
    }
   ],
   "source": [
    "10>5"
   ]
  },
  {
   "cell_type": "code",
   "execution_count": 13,
   "id": "61249153",
   "metadata": {},
   "outputs": [
    {
     "data": {
      "text/plain": [
       "False"
      ]
     },
     "execution_count": 13,
     "metadata": {},
     "output_type": "execute_result"
    }
   ],
   "source": [
    "10<5"
   ]
  },
  {
   "cell_type": "code",
   "execution_count": null,
   "id": "4c2b820b",
   "metadata": {},
   "outputs": [],
   "source": [
    "Whenever it is True do some thing \n",
    "If that is True then do some thing"
   ]
  },
  {
   "cell_type": "code",
   "execution_count": null,
   "id": "2779a2f6",
   "metadata": {},
   "outputs": [],
   "source": [
    "if <condition>:\n",
    "    abc"
   ]
  },
  {
   "cell_type": "code",
   "execution_count": 14,
   "id": "141372e0",
   "metadata": {},
   "outputs": [
    {
     "name": "stdout",
     "output_type": "stream",
     "text": [
      "hello\n",
      "hello\n",
      "hello\n"
     ]
    }
   ],
   "source": [
    "name='python'\n",
    "if name=='python':\n",
    "    print(\"hello\")\n",
    "    \n",
    "if True:\n",
    "    print(\"hello\")\n",
    "    \n",
    "if False:\n",
    "    print(\"hello\")\n",
    "    \n",
    "yes=True\n",
    "if yes:\n",
    "    print(\"hello\")"
   ]
  },
  {
   "cell_type": "code",
   "execution_count": 15,
   "id": "34611939",
   "metadata": {},
   "outputs": [
    {
     "name": "stdout",
     "output_type": "stream",
     "text": [
      "30\n"
     ]
    }
   ],
   "source": [
    "name='python'\n",
    "if name=='python':\n",
    "    a=10\n",
    "    b=20\n",
    "    c=a+b\n",
    "    print(c)"
   ]
  },
  {
   "cell_type": "code",
   "execution_count": 21,
   "id": "9375b09e",
   "metadata": {},
   "outputs": [
    {
     "name": "stdout",
     "output_type": "stream",
     "text": [
      "hello\n"
     ]
    }
   ],
   "source": [
    "#name='python'\n",
    "if name=='python':\n",
    "    print(\"hello\")\n",
    "    \n",
    "# backspace till : and then do enter\n",
    "# use space bar till you avoid the red colour\n",
    "# enter tab\n",
    "# error name: indentation"
   ]
  },
  {
   "cell_type": "code",
   "execution_count": 17,
   "id": "9ba0347f",
   "metadata": {},
   "outputs": [
    {
     "name": "stdout",
     "output_type": "stream",
     "text": [
      "hello\n"
     ]
    }
   ],
   "source": [
    "if True:\n",
    "    print(\"hello\")"
   ]
  },
  {
   "cell_type": "code",
   "execution_count": 18,
   "id": "a7b30be3",
   "metadata": {},
   "outputs": [],
   "source": [
    "if False:\n",
    "    print(\"hello\")"
   ]
  },
  {
   "cell_type": "code",
   "execution_count": 19,
   "id": "96469bda",
   "metadata": {},
   "outputs": [
    {
     "name": "stdout",
     "output_type": "stream",
     "text": [
      "hello\n"
     ]
    }
   ],
   "source": [
    "yes= True\n",
    "if yes:\n",
    "    print(\"hello\")"
   ]
  },
  {
   "cell_type": "code",
   "execution_count": 22,
   "id": "c6b2dc17",
   "metadata": {},
   "outputs": [
    {
     "name": "stdout",
     "output_type": "stream",
     "text": [
      "1\n",
      "2\n",
      "hello\n",
      "hai\n",
      "bye\n"
     ]
    }
   ],
   "source": [
    "print(1)\n",
    "print(2)\n",
    "if True:\n",
    "    print(\"hello\")\n",
    "    print('hai')\n",
    "print(\"bye\")"
   ]
  },
  {
   "cell_type": "code",
   "execution_count": 25,
   "id": "807ac54b",
   "metadata": {},
   "outputs": [
    {
     "name": "stdout",
     "output_type": "stream",
     "text": [
      "1\n",
      "2\n",
      "bye\n",
      "hello\n",
      "hai\n"
     ]
    }
   ],
   "source": [
    "print(1)\n",
    "print(2)\n",
    "#############################\n",
    "if False:\n",
    "    print(\"hello\")\n",
    "    print('hai')\n",
    "####################################\n",
    "print(\"bye\")\n",
    "#######################################\n",
    "if True:\n",
    "    print(\"hello\")\n",
    "    print('hai')"
   ]
  },
  {
   "cell_type": "markdown",
   "id": "644ba000",
   "metadata": {},
   "source": [
    "$pattern-2$\n",
    "\n",
    "**if-else**"
   ]
  },
  {
   "cell_type": "code",
   "execution_count": 29,
   "id": "5958a9c2",
   "metadata": {},
   "outputs": [
    {
     "name": "stdout",
     "output_type": "stream",
     "text": [
      "hello\n"
     ]
    }
   ],
   "source": [
    "name= 'python'\n",
    "\n",
    "if name=='python':  #'python'=='Python' if false\n",
    "    print(\"hello\")\n",
    "    \n",
    "else:\n",
    "    print(\"bye\")"
   ]
  },
  {
   "cell_type": "code",
   "execution_count": null,
   "id": "dedb2183",
   "metadata": {},
   "outputs": [],
   "source": [
    "# wap ask the user enter a number from keyboard\n",
    "# print if it is even number or odd number\n",
    "num=eval(input(\"enter the number\"))\n",
    "if num%2==0:\n",
    "    print(\"it is the even\")\n",
    "else"
   ]
  }
 ],
 "metadata": {
  "kernelspec": {
   "display_name": "Python 3 (ipykernel)",
   "language": "python",
   "name": "python3"
  },
  "language_info": {
   "codemirror_mode": {
    "name": "ipython",
    "version": 3
   },
   "file_extension": ".py",
   "mimetype": "text/x-python",
   "name": "python",
   "nbconvert_exporter": "python",
   "pygments_lexer": "ipython3",
   "version": "3.11.4"
  }
 },
 "nbformat": 4,
 "nbformat_minor": 5
}
