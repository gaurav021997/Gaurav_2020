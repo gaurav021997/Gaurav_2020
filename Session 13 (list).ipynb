{
 "cells": [
  {
   "cell_type": "markdown",
   "id": "5eb9fb18",
   "metadata": {},
   "source": [
    "- how to read\n",
    "- how many ways we can represent\n",
    "- type\n",
    "- len\n",
    "- max\n",
    "- sorted\n",
    "- reversed\n",
    "- concatenation\n",
    "- in \n",
    "- index\n",
    "- for loopiteration\n",
    "- mutable-immutable\n",
    "- slice\n",
    "- methods"
   ]
  },
  {
   "cell_type": "code",
   "execution_count": 17,
   "id": "f546de6d",
   "metadata": {},
   "outputs": [],
   "source": [
    "str1=''"
   ]
  },
  {
   "cell_type": "code",
   "execution_count": 68,
   "id": "1569068b",
   "metadata": {},
   "outputs": [
    {
     "data": {
      "text/plain": [
       "[1, 2, 3, 4]"
      ]
     },
     "execution_count": 68,
     "metadata": {},
     "output_type": "execute_result"
    }
   ],
   "source": [
    "l1=[1,2,3,4]\n",
    "l1"
   ]
  },
  {
   "cell_type": "code",
   "execution_count": 19,
   "id": "6c13fbfc",
   "metadata": {},
   "outputs": [
    {
     "data": {
      "text/plain": [
       "list"
      ]
     },
     "execution_count": 19,
     "metadata": {},
     "output_type": "execute_result"
    }
   ],
   "source": [
    "type(l1)"
   ]
  },
  {
   "cell_type": "code",
   "execution_count": 22,
   "id": "73e9827c",
   "metadata": {},
   "outputs": [
    {
     "data": {
      "text/plain": [
       "['Apple', 'Banana', 'Cherry']"
      ]
     },
     "execution_count": 22,
     "metadata": {},
     "output_type": "execute_result"
    }
   ],
   "source": [
    "l3 =['Apple','Banana','Cherry']\n",
    "l3"
   ]
  },
  {
   "cell_type": "code",
   "execution_count": 23,
   "id": "52f4b783",
   "metadata": {},
   "outputs": [
    {
     "data": {
      "text/plain": [
       "[1, 2, 3, 'A', 'B', 'C', 10.5, True, (10+20j)]"
      ]
     },
     "execution_count": 23,
     "metadata": {},
     "output_type": "execute_result"
    }
   ],
   "source": [
    "l4=[1,2,3,'A','B','C',10.5,True,10+20j]\n",
    "l4"
   ]
  },
  {
   "cell_type": "code",
   "execution_count": 24,
   "id": "b09c17b2",
   "metadata": {},
   "outputs": [
    {
     "data": {
      "text/plain": [
       "[100, 200, 300]"
      ]
     },
     "execution_count": 24,
     "metadata": {},
     "output_type": "execute_result"
    }
   ],
   "source": [
    "l5=[100,200,300]\n",
    "l5"
   ]
  },
  {
   "cell_type": "code",
   "execution_count": 26,
   "id": "dc77eccd",
   "metadata": {},
   "outputs": [
    {
     "data": {
      "text/plain": [
       "[1, 2, 3, ['A', 'B', 'C']]"
      ]
     },
     "execution_count": 26,
     "metadata": {},
     "output_type": "execute_result"
    }
   ],
   "source": [
    "l6=[1,2,3,['A','B','C']]\n",
    "l6"
   ]
  },
  {
   "cell_type": "code",
   "execution_count": null,
   "id": "1b46b84b",
   "metadata": {},
   "outputs": [],
   "source": [
    "l1=[1,2,3,4]\n",
    "l3 =['Apple','Banana','Cherry']\n",
    "l4=[1,2,3,'A','B','C',10.5,True,10+20j]\n",
    "l5=[100,200,300]\n",
    "l6=[1,2,3,['A','B','C']]\n"
   ]
  },
  {
   "cell_type": "code",
   "execution_count": 40,
   "id": "ed4752bb",
   "metadata": {},
   "outputs": [
    {
     "data": {
      "text/plain": [
       "['%', '@']"
      ]
     },
     "execution_count": 40,
     "metadata": {},
     "output_type": "execute_result"
    }
   ],
   "source": [
    "l7=['%', '@']\n",
    "l7"
   ]
  },
  {
   "cell_type": "code",
   "execution_count": null,
   "id": "c3a318c6",
   "metadata": {},
   "outputs": [],
   "source": [
    "\n",
    "\n",
    "- Heteregeneous\n",
    "- list allows duplicates\n",
    "- list can extend with any values\n",
    "- list in list possible\n",
    "- list of underscore , is nothing but list in list"
   ]
  },
  {
   "cell_type": "code",
   "execution_count": 32,
   "id": "888fb51e",
   "metadata": {},
   "outputs": [
    {
     "data": {
      "text/plain": [
       "(4, 4, 1, 10)"
      ]
     },
     "execution_count": 32,
     "metadata": {},
     "output_type": "execute_result"
    }
   ],
   "source": [
    "len(l1),max(l1),min(l1),sum(l1)"
   ]
  },
  {
   "cell_type": "code",
   "execution_count": 33,
   "id": "52368aac",
   "metadata": {},
   "outputs": [
    {
     "ename": "TypeError",
     "evalue": "unsupported operand type(s) for +: 'int' and 'str'",
     "output_type": "error",
     "traceback": [
      "\u001b[1;31m---------------------------------------------------------------------------\u001b[0m",
      "\u001b[1;31mTypeError\u001b[0m                                 Traceback (most recent call last)",
      "Cell \u001b[1;32mIn[33], line 1\u001b[0m\n\u001b[1;32m----> 1\u001b[0m \u001b[38;5;28mlen\u001b[39m(l3),\u001b[38;5;28mmax\u001b[39m(l3),\u001b[38;5;28mmin\u001b[39m(l3),\u001b[38;5;28msum\u001b[39m(l3)\n",
      "\u001b[1;31mTypeError\u001b[0m: unsupported operand type(s) for +: 'int' and 'str'"
     ]
    }
   ],
   "source": [
    "len(l3),max(l3),min(l3),sum(l3)"
   ]
  },
  {
   "cell_type": "code",
   "execution_count": 34,
   "id": "9f66f1f3",
   "metadata": {},
   "outputs": [
    {
     "ename": "TypeError",
     "evalue": "'>' not supported between instances of 'str' and 'int'",
     "output_type": "error",
     "traceback": [
      "\u001b[1;31m---------------------------------------------------------------------------\u001b[0m",
      "\u001b[1;31mTypeError\u001b[0m                                 Traceback (most recent call last)",
      "Cell \u001b[1;32mIn[34], line 1\u001b[0m\n\u001b[1;32m----> 1\u001b[0m \u001b[38;5;28mlen\u001b[39m(l4),\u001b[38;5;28mmax\u001b[39m(l4),\u001b[38;5;28mmin\u001b[39m(l4),\u001b[38;5;28msum\u001b[39m(l4)\n",
      "\u001b[1;31mTypeError\u001b[0m: '>' not supported between instances of 'str' and 'int'"
     ]
    }
   ],
   "source": [
    "len(l4),max(l4),min(l4),sum(l4)"
   ]
  },
  {
   "cell_type": "code",
   "execution_count": 35,
   "id": "5022a6fc",
   "metadata": {},
   "outputs": [
    {
     "data": {
      "text/plain": [
       "(3, 300, 100, 600)"
      ]
     },
     "execution_count": 35,
     "metadata": {},
     "output_type": "execute_result"
    }
   ],
   "source": [
    "len(l5),max(l5),min(l5),sum(l5)"
   ]
  },
  {
   "cell_type": "code",
   "execution_count": 36,
   "id": "7609d2ed",
   "metadata": {},
   "outputs": [
    {
     "ename": "TypeError",
     "evalue": "'>' not supported between instances of 'list' and 'int'",
     "output_type": "error",
     "traceback": [
      "\u001b[1;31m---------------------------------------------------------------------------\u001b[0m",
      "\u001b[1;31mTypeError\u001b[0m                                 Traceback (most recent call last)",
      "Cell \u001b[1;32mIn[36], line 1\u001b[0m\n\u001b[1;32m----> 1\u001b[0m \u001b[38;5;28mlen\u001b[39m(l6),\u001b[38;5;28mmax\u001b[39m(l6),\u001b[38;5;28mmin\u001b[39m(l6),\u001b[38;5;28msum\u001b[39m(l6)\n",
      "\u001b[1;31mTypeError\u001b[0m: '>' not supported between instances of 'list' and 'int'"
     ]
    }
   ],
   "source": [
    "len(l6),max(l6),min(l6),sum(l6)"
   ]
  },
  {
   "cell_type": "code",
   "execution_count": 39,
   "id": "cf458df6",
   "metadata": {},
   "outputs": [
    {
     "ename": "TypeError",
     "evalue": "unsupported operand type(s) for +: 'int' and 'str'",
     "output_type": "error",
     "traceback": [
      "\u001b[1;31m---------------------------------------------------------------------------\u001b[0m",
      "\u001b[1;31mTypeError\u001b[0m                                 Traceback (most recent call last)",
      "Cell \u001b[1;32mIn[39], line 1\u001b[0m\n\u001b[1;32m----> 1\u001b[0m \u001b[38;5;28mlen\u001b[39m(l7),\u001b[38;5;28mmax\u001b[39m(l7),\u001b[38;5;28mmin\u001b[39m(l7),\u001b[38;5;28msum\u001b[39m(l7)\n",
      "\u001b[1;31mTypeError\u001b[0m: unsupported operand type(s) for +: 'int' and 'str'"
     ]
    }
   ],
   "source": [
    "len(l7),max(l7),min(l7),sum(l7)"
   ]
  },
  {
   "cell_type": "code",
   "execution_count": 41,
   "id": "64d69562",
   "metadata": {},
   "outputs": [
    {
     "data": {
      "text/plain": [
       "[1, 2, 3, 4]"
      ]
     },
     "execution_count": 41,
     "metadata": {},
     "output_type": "execute_result"
    }
   ],
   "source": [
    "sorted(l1)"
   ]
  },
  {
   "cell_type": "code",
   "execution_count": 42,
   "id": "4c1852a9",
   "metadata": {},
   "outputs": [
    {
     "data": {
      "text/plain": [
       "['Apple', 'Banana', 'Cherry']"
      ]
     },
     "execution_count": 42,
     "metadata": {},
     "output_type": "execute_result"
    }
   ],
   "source": [
    "sorted(l3)"
   ]
  },
  {
   "cell_type": "code",
   "execution_count": 43,
   "id": "82f35038",
   "metadata": {},
   "outputs": [
    {
     "ename": "TypeError",
     "evalue": "'<' not supported between instances of 'str' and 'int'",
     "output_type": "error",
     "traceback": [
      "\u001b[1;31m---------------------------------------------------------------------------\u001b[0m",
      "\u001b[1;31mTypeError\u001b[0m                                 Traceback (most recent call last)",
      "Cell \u001b[1;32mIn[43], line 1\u001b[0m\n\u001b[1;32m----> 1\u001b[0m \u001b[38;5;28msorted\u001b[39m(l4)\n",
      "\u001b[1;31mTypeError\u001b[0m: '<' not supported between instances of 'str' and 'int'"
     ]
    }
   ],
   "source": [
    "sorted(l4)"
   ]
  },
  {
   "cell_type": "code",
   "execution_count": 44,
   "id": "672a5f8c",
   "metadata": {},
   "outputs": [
    {
     "data": {
      "text/plain": [
       "[100, 200, 300]"
      ]
     },
     "execution_count": 44,
     "metadata": {},
     "output_type": "execute_result"
    }
   ],
   "source": [
    "sorted(l5)"
   ]
  },
  {
   "cell_type": "code",
   "execution_count": 61,
   "id": "5438a3dd",
   "metadata": {},
   "outputs": [
    {
     "ename": "TypeError",
     "evalue": "'<' not supported between instances of 'list' and 'int'",
     "output_type": "error",
     "traceback": [
      "\u001b[1;31m---------------------------------------------------------------------------\u001b[0m",
      "\u001b[1;31mTypeError\u001b[0m                                 Traceback (most recent call last)",
      "Cell \u001b[1;32mIn[61], line 1\u001b[0m\n\u001b[1;32m----> 1\u001b[0m \u001b[38;5;28msorted\u001b[39m(l6)\n",
      "\u001b[1;31mTypeError\u001b[0m: '<' not supported between instances of 'list' and 'int'"
     ]
    }
   ],
   "source": [
    "sorted(l6)"
   ]
  },
  {
   "cell_type": "code",
   "execution_count": 47,
   "id": "8659cf2b",
   "metadata": {},
   "outputs": [
    {
     "data": {
      "text/plain": [
       "[4, 3, 2, 1]"
      ]
     },
     "execution_count": 47,
     "metadata": {},
     "output_type": "execute_result"
    }
   ],
   "source": [
    "sorted(l1,reverse=True)"
   ]
  },
  {
   "cell_type": "code",
   "execution_count": 49,
   "id": "9ed2986c",
   "metadata": {},
   "outputs": [
    {
     "data": {
      "text/plain": [
       "['Cherry', 'Banana', 'Apple']"
      ]
     },
     "execution_count": 49,
     "metadata": {},
     "output_type": "execute_result"
    }
   ],
   "source": [
    "sorted(l3,reverse=True)"
   ]
  },
  {
   "cell_type": "code",
   "execution_count": 60,
   "id": "74a72e71",
   "metadata": {},
   "outputs": [
    {
     "ename": "TypeError",
     "evalue": "'<' not supported between instances of 'bool' and 'complex'",
     "output_type": "error",
     "traceback": [
      "\u001b[1;31m---------------------------------------------------------------------------\u001b[0m",
      "\u001b[1;31mTypeError\u001b[0m                                 Traceback (most recent call last)",
      "Cell \u001b[1;32mIn[60], line 1\u001b[0m\n\u001b[1;32m----> 1\u001b[0m \u001b[38;5;28msorted\u001b[39m(l4,reverse\u001b[38;5;241m=\u001b[39m\u001b[38;5;28;01mTrue\u001b[39;00m)\n",
      "\u001b[1;31mTypeError\u001b[0m: '<' not supported between instances of 'bool' and 'complex'"
     ]
    }
   ],
   "source": [
    "sorted(l4,reverse=True)"
   ]
  },
  {
   "cell_type": "code",
   "execution_count": 51,
   "id": "cc21e75c",
   "metadata": {},
   "outputs": [
    {
     "data": {
      "text/plain": [
       "[300, 200, 100]"
      ]
     },
     "execution_count": 51,
     "metadata": {},
     "output_type": "execute_result"
    }
   ],
   "source": [
    "sorted(l5,reverse=True)"
   ]
  },
  {
   "cell_type": "code",
   "execution_count": 59,
   "id": "b3c57042",
   "metadata": {},
   "outputs": [
    {
     "ename": "TypeError",
     "evalue": "'<' not supported between instances of 'int' and 'list'",
     "output_type": "error",
     "traceback": [
      "\u001b[1;31m---------------------------------------------------------------------------\u001b[0m",
      "\u001b[1;31mTypeError\u001b[0m                                 Traceback (most recent call last)",
      "Cell \u001b[1;32mIn[59], line 1\u001b[0m\n\u001b[1;32m----> 1\u001b[0m \u001b[38;5;28msorted\u001b[39m(l6,reverse\u001b[38;5;241m=\u001b[39m\u001b[38;5;28;01mTrue\u001b[39;00m)\n",
      "\u001b[1;31mTypeError\u001b[0m: '<' not supported between instances of 'int' and 'list'"
     ]
    }
   ],
   "source": [
    "sorted(l6,reverse=True)"
   ]
  },
  {
   "cell_type": "code",
   "execution_count": 53,
   "id": "832434db",
   "metadata": {},
   "outputs": [
    {
     "data": {
      "text/plain": [
       "['@', '%']"
      ]
     },
     "execution_count": 53,
     "metadata": {},
     "output_type": "execute_result"
    }
   ],
   "source": [
    "sorted(l7,reverse=True)"
   ]
  },
  {
   "cell_type": "code",
   "execution_count": 64,
   "id": "be5b231d",
   "metadata": {},
   "outputs": [
    {
     "data": {
      "text/plain": [
       "[100, 200, 300]"
      ]
     },
     "execution_count": 64,
     "metadata": {},
     "output_type": "execute_result"
    }
   ],
   "source": [
    "l5"
   ]
  },
  {
   "cell_type": "code",
   "execution_count": 70,
   "id": "0ba5daa7",
   "metadata": {},
   "outputs": [],
   "source": [
    "val=reversed(l1)"
   ]
  },
  {
   "cell_type": "code",
   "execution_count": 71,
   "id": "2d59c0b9",
   "metadata": {},
   "outputs": [
    {
     "name": "stdout",
     "output_type": "stream",
     "text": [
      "4\n",
      "3\n",
      "2\n",
      "1\n"
     ]
    }
   ],
   "source": [
    "for i in val:\n",
    "    print(i)"
   ]
  },
  {
   "cell_type": "code",
   "execution_count": 72,
   "id": "dd919ce3",
   "metadata": {},
   "outputs": [],
   "source": [
    "val=reversed(l3)"
   ]
  },
  {
   "cell_type": "code",
   "execution_count": 73,
   "id": "d4844cd9",
   "metadata": {},
   "outputs": [
    {
     "name": "stdout",
     "output_type": "stream",
     "text": [
      "Cherry\n",
      "Banana\n",
      "Apple\n"
     ]
    }
   ],
   "source": [
    "for i in val:\n",
    "    print(i)"
   ]
  },
  {
   "cell_type": "code",
   "execution_count": 74,
   "id": "d16ee861",
   "metadata": {},
   "outputs": [],
   "source": [
    "val=reversed(l4)"
   ]
  },
  {
   "cell_type": "code",
   "execution_count": 75,
   "id": "2f834c96",
   "metadata": {},
   "outputs": [
    {
     "name": "stdout",
     "output_type": "stream",
     "text": [
      "(10+20j)\n",
      "True\n",
      "10.5\n",
      "C\n",
      "B\n",
      "A\n",
      "3\n",
      "2\n",
      "1\n"
     ]
    }
   ],
   "source": [
    "for i in val:\n",
    "    print(i)"
   ]
  },
  {
   "cell_type": "code",
   "execution_count": 76,
   "id": "4a7d59d3",
   "metadata": {},
   "outputs": [],
   "source": [
    "val=reversed(l5)"
   ]
  },
  {
   "cell_type": "code",
   "execution_count": 77,
   "id": "d808ae75",
   "metadata": {},
   "outputs": [
    {
     "name": "stdout",
     "output_type": "stream",
     "text": [
      "300\n",
      "200\n",
      "100\n"
     ]
    }
   ],
   "source": [
    "for i in val:\n",
    "    print(i)"
   ]
  },
  {
   "cell_type": "code",
   "execution_count": 78,
   "id": "2ba534cd",
   "metadata": {},
   "outputs": [],
   "source": [
    "val=reversed(l6)"
   ]
  },
  {
   "cell_type": "code",
   "execution_count": 79,
   "id": "c36d7c19",
   "metadata": {},
   "outputs": [
    {
     "name": "stdout",
     "output_type": "stream",
     "text": [
      "['A', 'B', 'C']\n",
      "3\n",
      "2\n",
      "1\n"
     ]
    }
   ],
   "source": [
    "for i in val:\n",
    "    print(i)"
   ]
  },
  {
   "cell_type": "markdown",
   "id": "7f685037",
   "metadata": {},
   "source": [
    "$Concatination$"
   ]
  },
  {
   "cell_type": "code",
   "execution_count": 80,
   "id": "f2da5f0a",
   "metadata": {},
   "outputs": [
    {
     "data": {
      "text/plain": [
       "[1, 2, 3, 4]"
      ]
     },
     "execution_count": 80,
     "metadata": {},
     "output_type": "execute_result"
    }
   ],
   "source": [
    "l1"
   ]
  },
  {
   "cell_type": "code",
   "execution_count": 81,
   "id": "a53f627f",
   "metadata": {},
   "outputs": [
    {
     "data": {
      "text/plain": [
       "['Apple', 'Banana', 'Cherry']"
      ]
     },
     "execution_count": 81,
     "metadata": {},
     "output_type": "execute_result"
    }
   ],
   "source": [
    "l3"
   ]
  },
  {
   "cell_type": "code",
   "execution_count": 82,
   "id": "32f1e227",
   "metadata": {},
   "outputs": [
    {
     "data": {
      "text/plain": [
       "[1, 2, 3, 'A', 'B', 'C', 10.5, True, (10+20j)]"
      ]
     },
     "execution_count": 82,
     "metadata": {},
     "output_type": "execute_result"
    }
   ],
   "source": [
    "l4"
   ]
  },
  {
   "cell_type": "code",
   "execution_count": 84,
   "id": "541220cf",
   "metadata": {},
   "outputs": [
    {
     "data": {
      "text/plain": [
       "[1, 2, 3, 4, 'Apple', 'Banana', 'Cherry']"
      ]
     },
     "execution_count": 84,
     "metadata": {},
     "output_type": "execute_result"
    }
   ],
   "source": [
    "l1+l3"
   ]
  },
  {
   "cell_type": "code",
   "execution_count": 85,
   "id": "b57eff2f",
   "metadata": {},
   "outputs": [
    {
     "data": {
      "text/plain": [
       "['Apple', 'Banana', 'Cherry', 1, 2, 3, 4]"
      ]
     },
     "execution_count": 85,
     "metadata": {},
     "output_type": "execute_result"
    }
   ],
   "source": [
    "l3+l1"
   ]
  },
  {
   "cell_type": "code",
   "execution_count": 86,
   "id": "61d5c8bb",
   "metadata": {},
   "outputs": [
    {
     "data": {
      "text/plain": [
       "[1, 2, 3, 4, 1, 2, 3, 4, 1, 2, 3, 4]"
      ]
     },
     "execution_count": 86,
     "metadata": {},
     "output_type": "execute_result"
    }
   ],
   "source": [
    "l1*3"
   ]
  },
  {
   "cell_type": "markdown",
   "id": "364ac052",
   "metadata": {},
   "source": [
    "$in$"
   ]
  },
  {
   "cell_type": "code",
   "execution_count": 92,
   "id": "4a0a5a46",
   "metadata": {},
   "outputs": [
    {
     "name": "stdout",
     "output_type": "stream",
     "text": [
      "p\n",
      "y\n",
      "t\n",
      "h\n",
      "o\n",
      "n\n"
     ]
    }
   ],
   "source": [
    "s1 ='python'\n",
    "for i in s1:\n",
    "    print(i)"
   ]
  },
  {
   "cell_type": "code",
   "execution_count": 93,
   "id": "54cf9b31",
   "metadata": {},
   "outputs": [
    {
     "name": "stdout",
     "output_type": "stream",
     "text": [
      "1\n",
      "2\n",
      "3\n",
      "4\n"
     ]
    }
   ],
   "source": [
    "for i in l1:\n",
    "    print(i)"
   ]
  },
  {
   "cell_type": "code",
   "execution_count": 94,
   "id": "c66f8d48",
   "metadata": {},
   "outputs": [
    {
     "name": "stdout",
     "output_type": "stream",
     "text": [
      "Apple\n",
      "Banana\n",
      "Cherry\n"
     ]
    }
   ],
   "source": [
    "for i in l3:\n",
    "    print(i)"
   ]
  },
  {
   "cell_type": "code",
   "execution_count": 95,
   "id": "13f9d853",
   "metadata": {},
   "outputs": [
    {
     "name": "stdout",
     "output_type": "stream",
     "text": [
      "1\n",
      "2\n",
      "3\n",
      "A\n",
      "B\n",
      "C\n",
      "10.5\n",
      "True\n",
      "(10+20j)\n"
     ]
    }
   ],
   "source": [
    "for i in l4:\n",
    "    print(i)"
   ]
  },
  {
   "cell_type": "code",
   "execution_count": 96,
   "id": "e808c06c",
   "metadata": {},
   "outputs": [
    {
     "name": "stdout",
     "output_type": "stream",
     "text": [
      "100\n",
      "200\n",
      "300\n"
     ]
    }
   ],
   "source": [
    "for i in l5:\n",
    "    print(i)"
   ]
  },
  {
   "cell_type": "code",
   "execution_count": 97,
   "id": "c9afb289",
   "metadata": {},
   "outputs": [
    {
     "name": "stdout",
     "output_type": "stream",
     "text": [
      "1\n",
      "2\n",
      "3\n",
      "['A', 'B', 'C']\n"
     ]
    }
   ],
   "source": [
    "for i in l6:\n",
    "    print(i)"
   ]
  },
  {
   "cell_type": "code",
   "execution_count": 98,
   "id": "00001b23",
   "metadata": {},
   "outputs": [
    {
     "name": "stdout",
     "output_type": "stream",
     "text": [
      "%\n",
      "@\n"
     ]
    }
   ],
   "source": [
    "for i in l7:\n",
    "    print(i)"
   ]
  },
  {
   "cell_type": "markdown",
   "id": "bdc179a4",
   "metadata": {},
   "source": [
    "$index$"
   ]
  },
  {
   "cell_type": "code",
   "execution_count": 103,
   "id": "844021c4",
   "metadata": {},
   "outputs": [
    {
     "data": {
      "text/plain": [
       "(1, 2, 3)"
      ]
     },
     "execution_count": 103,
     "metadata": {},
     "output_type": "execute_result"
    }
   ],
   "source": [
    "l1[0],l1[1],l1[2]"
   ]
  },
  {
   "cell_type": "code",
   "execution_count": 105,
   "id": "41d51dda",
   "metadata": {},
   "outputs": [
    {
     "data": {
      "text/plain": [
       "('Apple', 'Banana', 'Cherry')"
      ]
     },
     "execution_count": 105,
     "metadata": {},
     "output_type": "execute_result"
    }
   ],
   "source": [
    "l3[0],l3[1],l3[2]"
   ]
  },
  {
   "cell_type": "code",
   "execution_count": 109,
   "id": "cabb3076",
   "metadata": {},
   "outputs": [
    {
     "data": {
      "text/plain": [
       "(1, 2, 3, 'A', 'B', 'C')"
      ]
     },
     "execution_count": 109,
     "metadata": {},
     "output_type": "execute_result"
    }
   ],
   "source": [
    "l4[0],l4[1],l4[2],l4[3],l4[4],l4[5]"
   ]
  },
  {
   "cell_type": "code",
   "execution_count": 107,
   "id": "9d6779c0",
   "metadata": {},
   "outputs": [
    {
     "data": {
      "text/plain": [
       "(100, 200, 300)"
      ]
     },
     "execution_count": 107,
     "metadata": {},
     "output_type": "execute_result"
    }
   ],
   "source": [
    "l5[0],l5[1],l5[2]"
   ]
  },
  {
   "cell_type": "code",
   "execution_count": 108,
   "id": "5456d881",
   "metadata": {},
   "outputs": [
    {
     "data": {
      "text/plain": [
       "(1, 2, 3)"
      ]
     },
     "execution_count": 108,
     "metadata": {},
     "output_type": "execute_result"
    }
   ],
   "source": [
    "l6[0],l6[1],l6[2]"
   ]
  },
  {
   "cell_type": "code",
   "execution_count": 113,
   "id": "df565361",
   "metadata": {},
   "outputs": [
    {
     "name": "stdout",
     "output_type": "stream",
     "text": [
      "0 Apple\n",
      "1 Banana\n",
      "2 Cherry\n"
     ]
    }
   ],
   "source": [
    "for i in range(len(l3)):\n",
    "    print(i,l3[i])"
   ]
  },
  {
   "cell_type": "code",
   "execution_count": 114,
   "id": "9ce63e6e",
   "metadata": {},
   "outputs": [
    {
     "name": "stdout",
     "output_type": "stream",
     "text": [
      "0 1\n",
      "1 2\n",
      "2 3\n",
      "3 4\n"
     ]
    }
   ],
   "source": [
    "for i in range(len(l1)):\n",
    "    print(i,l1[i])"
   ]
  },
  {
   "cell_type": "code",
   "execution_count": 115,
   "id": "c9b9e79c",
   "metadata": {},
   "outputs": [
    {
     "name": "stdout",
     "output_type": "stream",
     "text": [
      "0 1\n",
      "1 2\n",
      "2 3\n",
      "3 A\n",
      "4 B\n",
      "5 C\n",
      "6 10.5\n",
      "7 True\n",
      "8 (10+20j)\n"
     ]
    }
   ],
   "source": [
    "for i in range(len(l4)):\n",
    "    print(i,l4[i])"
   ]
  },
  {
   "cell_type": "code",
   "execution_count": 116,
   "id": "f8ff1f50",
   "metadata": {},
   "outputs": [
    {
     "name": "stdout",
     "output_type": "stream",
     "text": [
      "0 100\n",
      "1 200\n",
      "2 300\n"
     ]
    }
   ],
   "source": [
    "for i in range(len(l5)):\n",
    "    print(i,l5[i])"
   ]
  },
  {
   "cell_type": "code",
   "execution_count": 117,
   "id": "9ae7cf56",
   "metadata": {},
   "outputs": [
    {
     "name": "stdout",
     "output_type": "stream",
     "text": [
      "0 1\n",
      "1 2\n",
      "2 3\n",
      "3 ['A', 'B', 'C']\n"
     ]
    }
   ],
   "source": [
    "for i in range(len(l6)):\n",
    "    print(i,l6[i])"
   ]
  },
  {
   "cell_type": "code",
   "execution_count": 144,
   "id": "ddff7954",
   "metadata": {},
   "outputs": [
    {
     "name": "stdout",
     "output_type": "stream",
     "text": [
      "-3 Apple\n",
      "-2 Banana\n",
      "-1 Cherry\n"
     ]
    }
   ],
   "source": [
    "for i in range(len(l3)):\n",
    "    print(i-3,l3[i])\n",
    "    i=i+1"
   ]
  },
  {
   "cell_type": "code",
   "execution_count": 143,
   "id": "29c62cc8",
   "metadata": {},
   "outputs": [
    {
     "name": "stdout",
     "output_type": "stream",
     "text": [
      "-4 1\n",
      "-3 2\n",
      "-2 3\n",
      "-1 4\n"
     ]
    }
   ],
   "source": [
    "for i in range(len(l1)):\n",
    "    print(i-4,l1[i])\n",
    "    i=i+1"
   ]
  },
  {
   "cell_type": "code",
   "execution_count": 142,
   "id": "846c14b7",
   "metadata": {},
   "outputs": [
    {
     "name": "stdout",
     "output_type": "stream",
     "text": [
      "-9 1\n",
      "-8 2\n",
      "-7 3\n",
      "-6 A\n",
      "-5 B\n",
      "-4 C\n",
      "-3 10.5\n",
      "-2 True\n",
      "-1 (10+20j)\n"
     ]
    }
   ],
   "source": [
    "for i in range(len(l4)):\n",
    "    print(i-9,l4[i])\n",
    "    i=i+1"
   ]
  },
  {
   "cell_type": "code",
   "execution_count": 141,
   "id": "b2d797d0",
   "metadata": {},
   "outputs": [
    {
     "name": "stdout",
     "output_type": "stream",
     "text": [
      "-3 100\n",
      "-2 200\n",
      "-1 300\n"
     ]
    }
   ],
   "source": [
    "for i in range(len(l5)):\n",
    "    print(i-3,l5[i])\n",
    "    "
   ]
  },
  {
   "cell_type": "code",
   "execution_count": 139,
   "id": "8bfe0828",
   "metadata": {},
   "outputs": [
    {
     "name": "stdout",
     "output_type": "stream",
     "text": [
      "-4 1\n",
      "-3 2\n",
      "-2 3\n",
      "-1 ['A', 'B', 'C']\n"
     ]
    }
   ],
   "source": [
    "for i in range(len(l6)):\n",
    "    print(i-4,l6[i])\n",
    "    i=i+1"
   ]
  },
  {
   "cell_type": "code",
   "execution_count": 135,
   "id": "fce479b1",
   "metadata": {},
   "outputs": [
    {
     "name": "stdout",
     "output_type": "stream",
     "text": [
      "-3 0 Apple\n",
      "-2 1 Banana\n",
      "-1 2 Cherry\n"
     ]
    }
   ],
   "source": [
    "for i in range(len(l3)):\n",
    "    print(i-3,i,l3[i])\n",
    "    i=i+1"
   ]
  },
  {
   "cell_type": "code",
   "execution_count": 147,
   "id": "3b4e48c7",
   "metadata": {},
   "outputs": [
    {
     "name": "stdout",
     "output_type": "stream",
     "text": [
      "-3 0 = 1\n",
      "-2 1 = 2\n",
      "-1 2 = 3\n",
      "0 3 = 4\n"
     ]
    }
   ],
   "source": [
    "for i in range(len(l1)):\n",
    "    print(i-3,i,'=',l1[i])\n",
    "    i=i+1"
   ]
  },
  {
   "cell_type": "code",
   "execution_count": 149,
   "id": "c56bb985",
   "metadata": {},
   "outputs": [
    {
     "name": "stdout",
     "output_type": "stream",
     "text": [
      "-9 0 = 1\n",
      "-8 1 = 2\n",
      "-7 2 = 3\n",
      "-6 3 = A\n",
      "-5 4 = B\n",
      "-4 5 = C\n",
      "-3 6 = 10.5\n",
      "-2 7 = True\n",
      "-1 8 = (10+20j)\n"
     ]
    }
   ],
   "source": [
    "for i in range(len(l4)):\n",
    "    print(i-9,i,'=',l4[i])\n",
    "    i=i+1"
   ]
  },
  {
   "cell_type": "markdown",
   "id": "297ca37c",
   "metadata": {},
   "source": [
    "$mutable-immutable$"
   ]
  },
  {
   "cell_type": "code",
   "execution_count": 3,
   "id": "19a5114f",
   "metadata": {},
   "outputs": [
    {
     "data": {
      "text/plain": [
       "'B'"
      ]
     },
     "execution_count": 3,
     "metadata": {},
     "output_type": "execute_result"
    }
   ],
   "source": [
    "list1=[1,2,3,['A','B']]\n",
    "o1=list1[3]\n",
    "o1[1]\n",
    "\n",
    "list1[3][1]"
   ]
  },
  {
   "cell_type": "code",
   "execution_count": 10,
   "id": "7b6290c7",
   "metadata": {},
   "outputs": [
    {
     "data": {
      "text/plain": [
       "('Apple', 'Banana')"
      ]
     },
     "execution_count": 10,
     "metadata": {},
     "output_type": "execute_result"
    }
   ],
   "source": [
    "list2=[['Apple','Banana']]\n",
    "len(list2)  # 1 mean only 0\n",
    "list2[0]    # 2  0,1\n",
    "list2[0][0],list2[0][1]\n"
   ]
  },
  {
   "cell_type": "code",
   "execution_count": 16,
   "id": "6096365e",
   "metadata": {},
   "outputs": [
    {
     "data": {
      "text/plain": [
       "[1, 20]"
      ]
     },
     "execution_count": 16,
     "metadata": {},
     "output_type": "execute_result"
    }
   ],
   "source": [
    "list3=[['A','B',[1,20]]]\n",
    "len(list3)\n",
    "list3[0]\n",
    "list3[0][2]"
   ]
  },
  {
   "cell_type": "code",
   "execution_count": 25,
   "id": "9435c061",
   "metadata": {},
   "outputs": [
    {
     "data": {
      "text/plain": [
       "20"
      ]
     },
     "execution_count": 25,
     "metadata": {},
     "output_type": "execute_result"
    }
   ],
   "source": [
    "list4=['hyderabad',['A','B',[1,20]]]\n",
    "len(list4)\n",
    "list4[0]\n",
    "list4[1][2][1]\n"
   ]
  },
  {
   "cell_type": "code",
   "execution_count": 26,
   "id": "97d39616",
   "metadata": {},
   "outputs": [
    {
     "data": {
      "text/plain": [
       "'car'"
      ]
     },
     "execution_count": 26,
     "metadata": {},
     "output_type": "execute_result"
    }
   ],
   "source": [
    "list5=[['car']]\n",
    "list5[0][0]"
   ]
  },
  {
   "cell_type": "code",
   "execution_count": 27,
   "id": "1a72b228",
   "metadata": {},
   "outputs": [
    {
     "data": {
      "text/plain": [
       "'bus'"
      ]
     },
     "execution_count": 27,
     "metadata": {},
     "output_type": "execute_result"
    }
   ],
   "source": [
    "list6=[[['bus']]]\n",
    "list6[0][0][0]"
   ]
  },
  {
   "cell_type": "code",
   "execution_count": 32,
   "id": "9d682d09",
   "metadata": {},
   "outputs": [
    {
     "data": {
      "text/plain": [
       "'Apple'"
      ]
     },
     "execution_count": 32,
     "metadata": {},
     "output_type": "execute_result"
    }
   ],
   "source": [
    "list7=[[[[[[[['cherry',['Apple']]]]]]]]]\n",
    "len(list7)\n",
    "list7[0][0][0][0][0][0][0][1][0]"
   ]
  },
  {
   "cell_type": "code",
   "execution_count": 38,
   "id": "d44e260c",
   "metadata": {},
   "outputs": [
    {
     "name": "stdout",
     "output_type": "stream",
     "text": [
      "mumbai\n",
      "bhopal\n",
      "chennei\n"
     ]
    }
   ],
   "source": [
    "\n",
    "l1=['hyd','mumbai','bhopal','chennei']\n",
    "for i in l1:\n",
    "    if len(i)>5:\n",
    "        print(i)\n"
   ]
  },
  {
   "cell_type": "code",
   "execution_count": 41,
   "id": "0f8c0d14",
   "metadata": {},
   "outputs": [
    {
     "name": "stdout",
     "output_type": "stream",
     "text": [
      "HYD\n",
      "MUMBAI\n",
      "BHOPAL\n",
      "CHENNEI\n"
     ]
    }
   ],
   "source": [
    "l1=['hyd','mumbai','bhopal','chennei']\n",
    "for i in l1:\n",
    "    print(i.upper())"
   ]
  },
  {
   "cell_type": "code",
   "execution_count": 49,
   "id": "5282addc",
   "metadata": {},
   "outputs": [
    {
     "name": "stdout",
     "output_type": "stream",
     "text": [
      "hyd\n",
      "chennei\n"
     ]
    }
   ],
   "source": [
    "l1=['hyd','mu#mbai','bh#opal','chennei']\n",
    "for i in l1:\n",
    "    if '#' not in i:\n",
    "        print(i)"
   ]
  },
  {
   "cell_type": "code",
   "execution_count": 59,
   "id": "c74bb79d",
   "metadata": {},
   "outputs": [
    {
     "data": {
      "text/plain": [
       "('python', 'my')"
      ]
     },
     "execution_count": 59,
     "metadata": {},
     "output_type": "execute_result"
    }
   ],
   "source": [
    "str1='hello my name is python'\n",
    "l1=str1.split()\n",
    "max(l1,key=len),min(l1,key=len)\n",
    "\n",
    "    "
   ]
  },
  {
   "cell_type": "markdown",
   "id": "dcaadaeb",
   "metadata": {},
   "source": [
    "$iterable$\n",
    "\n",
    " - if you able to print char or elements using for loop\n",
    " - list,string,tuple,dic"
   ]
  },
  {
   "cell_type": "code",
   "execution_count": 79,
   "id": "6dcd458d",
   "metadata": {},
   "outputs": [
    {
     "ename": "NameError",
     "evalue": "name 'questionsanswer' is not defined",
     "output_type": "error",
     "traceback": [
      "\u001b[1;31m---------------------------------------------------------------------------\u001b[0m",
      "\u001b[1;31mNameError\u001b[0m                                 Traceback (most recent call last)",
      "Cell \u001b[1;32mIn[79], line 8\u001b[0m\n\u001b[0;32m      1\u001b[0m question\u001b[38;5;241m=\u001b[39m[\u001b[38;5;124m'\u001b[39m\u001b[38;5;124mwho is PM of india?\u001b[39m\u001b[38;5;124m'\u001b[39m,\n\u001b[0;32m      2\u001b[0m           \u001b[38;5;124m'\u001b[39m\u001b[38;5;124mwhat is capital of india?\u001b[39m\u001b[38;5;124m'\u001b[39m,\n\u001b[0;32m      3\u001b[0m           \u001b[38;5;124m'\u001b[39m\u001b[38;5;124mno. of state in india?\u001b[39m\u001b[38;5;124m'\u001b[39m,\n\u001b[0;32m      4\u001b[0m           \u001b[38;5;124m'\u001b[39m\u001b[38;5;124mwho is the captain of ict\u001b[39m\u001b[38;5;124m'\u001b[39m]\n\u001b[0;32m      6\u001b[0m answer\u001b[38;5;241m=\u001b[39m[\u001b[38;5;124m'\u001b[39m\u001b[38;5;124mmodi\u001b[39m\u001b[38;5;124m'\u001b[39m,\u001b[38;5;124m'\u001b[39m\u001b[38;5;124mNew delhi\u001b[39m\u001b[38;5;124m'\u001b[39m,\u001b[38;5;241m29\u001b[39m,\u001b[38;5;124m'\u001b[39m\u001b[38;5;124mrohit sharma\u001b[39m\u001b[38;5;124m'\u001b[39m]\n\u001b[1;32m----> 8\u001b[0m questionsanswer\u001b[38;5;241m==\u001b[39m \u001b[38;5;28minput\u001b[39m(\u001b[38;5;124m'\u001b[39m\u001b[38;5;124mquestion, answer\u001b[39m\u001b[38;5;124m'\u001b[39m)\n\u001b[0;32m     10\u001b[0m \u001b[38;5;28;01mdef\u001b[39;00m \u001b[38;5;21mget_answer\u001b[39m(question):\n\u001b[0;32m     11\u001b[0m     \u001b[38;5;28;01mreturn\u001b[39;00m questionsanswer\u001b[38;5;241m.\u001b[39mget(question, \u001b[38;5;124m\"\u001b[39m\u001b[38;5;124mAnswer not found\u001b[39m\u001b[38;5;124m\"\u001b[39m)\n",
      "\u001b[1;31mNameError\u001b[0m: name 'questionsanswer' is not defined"
     ]
    }
   ],
   "source": [
    "question=['who is PM of india?',\n",
    "          'what is capital of india?',\n",
    "          'no. of state in india?',\n",
    "          'who is the captain of ict']\n",
    "\n",
    "answer=['modi','New delhi',29,'rohit sharma']\n",
    "          \n",
    "questionsanswer== input('question, answer')\n",
    "\n",
    "def get_answer(question):\n",
    "    return questionsanswer.get(question, \"Answer not found\")\n",
    "\n",
    "question = print('who is PM of india?')\n",
    "print(\"Answer:\", get_answer(question))\n",
    "question =print('what is capital of india?')\n",
    "print(\"Answer:\", get_answer(question))\n",
    "question =print('no. of state in india?')\n",
    "print(\"Answer:\", get_answer(question))\n",
    "question =print('who is the captain of ict')\n",
    "print(\"Answer:\", get_answer(question))"
   ]
  },
  {
   "cell_type": "code",
   "execution_count": 84,
   "id": "1db69512",
   "metadata": {},
   "outputs": [
    {
     "name": "stdout",
     "output_type": "stream",
     "text": [
      "who is PM of india?\n",
      "enter the answer: modi\n",
      "what is capital of india?\n",
      "enter the answer: new dwlhi\n",
      "no. of state in india?\n",
      "enter the answer: 25\n",
      "who is the captain of ict\n",
      "enter the answer: rohit sharma\n"
     ]
    },
    {
     "data": {
      "text/plain": [
       "2"
      ]
     },
     "execution_count": 84,
     "metadata": {},
     "output_type": "execute_result"
    }
   ],
   "source": [
    "ques_list=['who is PM of india?',\n",
    "          'what is capital of india?',\n",
    "          'no. of state in india?',\n",
    "          'who is the captain of ict']\n",
    "\n",
    "ans_list=['modi','New delhi','29','rohit sharma']\n",
    "\n",
    "marks=0\n",
    "for i in range(len(ques_list)):\n",
    "    print(ques_list[i])\n",
    "    answer=input(\"enter the answer: \")\n",
    "    if answer.casefold()==ans_list[i].casefold():\n",
    "        marks=marks+1\n",
    "        \n",
    "marks"
   ]
  },
  {
   "cell_type": "markdown",
   "id": "36101e6b",
   "metadata": {},
   "source": [
    "$Methods$"
   ]
  },
  {
   "cell_type": "code",
   "execution_count": 2,
   "id": "6ad847a7",
   "metadata": {},
   "outputs": [
    {
     "data": {
      "text/plain": [
       "['__add__',\n",
       " '__class__',\n",
       " '__class_getitem__',\n",
       " '__contains__',\n",
       " '__delattr__',\n",
       " '__delitem__',\n",
       " '__dir__',\n",
       " '__doc__',\n",
       " '__eq__',\n",
       " '__format__',\n",
       " '__ge__',\n",
       " '__getattribute__',\n",
       " '__getitem__',\n",
       " '__getstate__',\n",
       " '__gt__',\n",
       " '__hash__',\n",
       " '__iadd__',\n",
       " '__imul__',\n",
       " '__init__',\n",
       " '__init_subclass__',\n",
       " '__iter__',\n",
       " '__le__',\n",
       " '__len__',\n",
       " '__lt__',\n",
       " '__mul__',\n",
       " '__ne__',\n",
       " '__new__',\n",
       " '__reduce__',\n",
       " '__reduce_ex__',\n",
       " '__repr__',\n",
       " '__reversed__',\n",
       " '__rmul__',\n",
       " '__setattr__',\n",
       " '__setitem__',\n",
       " '__sizeof__',\n",
       " '__str__',\n",
       " '__subclasshook__',\n",
       " 'append',\n",
       " 'clear',\n",
       " 'copy',\n",
       " 'count',\n",
       " 'extend',\n",
       " 'index',\n",
       " 'insert',\n",
       " 'pop',\n",
       " 'remove',\n",
       " 'reverse',\n",
       " 'sort']"
      ]
     },
     "execution_count": 2,
     "metadata": {},
     "output_type": "execute_result"
    }
   ],
   "source": [
    "dir(list)"
   ]
  },
  {
   "cell_type": "code",
   "execution_count": null,
   "id": "83cf75ad",
   "metadata": {},
   "outputs": [],
   "source": [
    "'append',\n",
    "'clear',\n",
    "'copy',\n",
    "'count',\n",
    "'extend',\n",
    "'index',\n",
    "'insert',\n",
    "'pop',\n",
    "'remove',\n",
    "'reverse',\n",
    "'sort'"
   ]
  },
  {
   "cell_type": "code",
   "execution_count": 5,
   "id": "189591b8",
   "metadata": {},
   "outputs": [],
   "source": [
    "list1=[1,2,3,4]"
   ]
  },
  {
   "cell_type": "markdown",
   "id": "0e2a4947",
   "metadata": {},
   "source": [
    "$Clear$"
   ]
  },
  {
   "cell_type": "code",
   "execution_count": 6,
   "id": "aa103004",
   "metadata": {},
   "outputs": [
    {
     "data": {
      "text/plain": [
       "[]"
      ]
     },
     "execution_count": 6,
     "metadata": {},
     "output_type": "execute_result"
    }
   ],
   "source": [
    "list1.clear()\n",
    "list1"
   ]
  },
  {
   "cell_type": "markdown",
   "id": "8550eab0",
   "metadata": {},
   "source": [
    "$copy$"
   ]
  },
  {
   "cell_type": "code",
   "execution_count": null,
   "id": "b92e78ce",
   "metadata": {},
   "outputs": [],
   "source": [
    "# Initialise the list l1\n",
    "# l2=l1.copy()\n",
    "# l1.clear()\n",
    "# print(l1),print(l2)"
   ]
  },
  {
   "cell_type": "code",
   "execution_count": 7,
   "id": "6a550f9e",
   "metadata": {},
   "outputs": [
    {
     "data": {
      "text/plain": [
       "([], ['A', 'B', 'C'])"
      ]
     },
     "execution_count": 7,
     "metadata": {},
     "output_type": "execute_result"
    }
   ],
   "source": [
    "l1=['A','B','C']\n",
    "l2=l1.copy()\n",
    "l1.clear()\n",
    "l1,l2"
   ]
  },
  {
   "cell_type": "markdown",
   "id": "957117e3",
   "metadata": {},
   "source": [
    "$pop$-$remove$-$del$"
   ]
  },
  {
   "cell_type": "code",
   "execution_count": 8,
   "id": "8142b9cc",
   "metadata": {},
   "outputs": [
    {
     "data": {
      "text/plain": [
       "['A', 'B', 'C', 1, 2, 3]"
      ]
     },
     "execution_count": 8,
     "metadata": {},
     "output_type": "execute_result"
    }
   ],
   "source": [
    "l1=['A','B','C',1,2,3]\n",
    "l1"
   ]
  },
  {
   "cell_type": "code",
   "execution_count": 9,
   "id": "e0e28f3f",
   "metadata": {},
   "outputs": [
    {
     "data": {
      "text/plain": [
       "3"
      ]
     },
     "execution_count": 9,
     "metadata": {},
     "output_type": "execute_result"
    }
   ],
   "source": [
    "l1.pop()"
   ]
  },
  {
   "cell_type": "code",
   "execution_count": 10,
   "id": "28e535db",
   "metadata": {},
   "outputs": [
    {
     "data": {
      "text/plain": [
       "['A', 'B', 'C', 1, 2]"
      ]
     },
     "execution_count": 10,
     "metadata": {},
     "output_type": "execute_result"
    }
   ],
   "source": [
    "l1"
   ]
  },
  {
   "cell_type": "code",
   "execution_count": 11,
   "id": "dc34a913",
   "metadata": {},
   "outputs": [
    {
     "data": {
      "text/plain": [
       "100"
      ]
     },
     "execution_count": 11,
     "metadata": {},
     "output_type": "execute_result"
    }
   ],
   "source": [
    "l1=['A','B','C',1,2,3,100]\n",
    "l1.pop()"
   ]
  },
  {
   "cell_type": "code",
   "execution_count": 12,
   "id": "ac5fa9e0",
   "metadata": {},
   "outputs": [
    {
     "data": {
      "text/plain": [
       "['A', 'B', 'C', 1, 2, 3]"
      ]
     },
     "execution_count": 12,
     "metadata": {},
     "output_type": "execute_result"
    }
   ],
   "source": [
    "l1"
   ]
  },
  {
   "cell_type": "code",
   "execution_count": 15,
   "id": "de112e5d",
   "metadata": {},
   "outputs": [
    {
     "ename": "TypeError",
     "evalue": "list.pop() takes no keyword arguments",
     "output_type": "error",
     "traceback": [
      "\u001b[1;31m---------------------------------------------------------------------------\u001b[0m",
      "\u001b[1;31mTypeError\u001b[0m                                 Traceback (most recent call last)",
      "Cell \u001b[1;32mIn[15], line 2\u001b[0m\n\u001b[0;32m      1\u001b[0m l1\u001b[38;5;241m=\u001b[39m[\u001b[38;5;124m'\u001b[39m\u001b[38;5;124mA\u001b[39m\u001b[38;5;124m'\u001b[39m,\u001b[38;5;124m'\u001b[39m\u001b[38;5;124mB\u001b[39m\u001b[38;5;124m'\u001b[39m,\u001b[38;5;124m'\u001b[39m\u001b[38;5;124mC\u001b[39m\u001b[38;5;124m'\u001b[39m,\u001b[38;5;241m1\u001b[39m,\u001b[38;5;241m2\u001b[39m,\u001b[38;5;241m3\u001b[39m,\u001b[38;5;241m100\u001b[39m]\n\u001b[1;32m----> 2\u001b[0m l1\u001b[38;5;241m.\u001b[39mpop(index\u001b[38;5;241m=\u001b[39m\u001b[38;5;241m0\u001b[39m)\n\u001b[0;32m      3\u001b[0m l1\n",
      "\u001b[1;31mTypeError\u001b[0m: list.pop() takes no keyword arguments"
     ]
    }
   ],
   "source": [
    "l1=['A','B','C',1,2,3,100]\n",
    "l1.pop(index=0)\n",
    "l1"
   ]
  },
  {
   "cell_type": "code",
   "execution_count": null,
   "id": "632222da",
   "metadata": {},
   "outputs": [],
   "source": [
    "l1.pop()         # remove the last value index= -1\n",
    "l1.pop(0)        # remove first element\n",
    "l1.pop(index=0)  # index=0 error\n",
    "l1.pop(100)      # if 100th index not there: Index error\n",
    "l1.pop('A')      # type error \n",
    "l1.pop([1,2])    # type error\n"
   ]
  },
  {
   "cell_type": "code",
   "execution_count": 17,
   "id": "0043b251",
   "metadata": {},
   "outputs": [
    {
     "ename": "IndexError",
     "evalue": "pop index out of range",
     "output_type": "error",
     "traceback": [
      "\u001b[1;31m---------------------------------------------------------------------------\u001b[0m",
      "\u001b[1;31mIndexError\u001b[0m                                Traceback (most recent call last)",
      "Cell \u001b[1;32mIn[17], line 2\u001b[0m\n\u001b[0;32m      1\u001b[0m l1\u001b[38;5;241m=\u001b[39m[\u001b[38;5;124m'\u001b[39m\u001b[38;5;124mA\u001b[39m\u001b[38;5;124m'\u001b[39m,\u001b[38;5;124m'\u001b[39m\u001b[38;5;124mB\u001b[39m\u001b[38;5;124m'\u001b[39m,\u001b[38;5;124m'\u001b[39m\u001b[38;5;124mC\u001b[39m\u001b[38;5;124m'\u001b[39m,\u001b[38;5;241m1\u001b[39m,\u001b[38;5;241m2\u001b[39m,\u001b[38;5;241m3\u001b[39m,\u001b[38;5;241m100\u001b[39m]\n\u001b[1;32m----> 2\u001b[0m l1\u001b[38;5;241m.\u001b[39mpop(\u001b[38;5;241m100\u001b[39m)\n",
      "\u001b[1;31mIndexError\u001b[0m: pop index out of range"
     ]
    }
   ],
   "source": [
    "l1=['A','B','C',1,2,3,100]\n",
    "l1.pop(100)           # 100 consider as index it check for the value which is having index"
   ]
  },
  {
   "cell_type": "code",
   "execution_count": 18,
   "id": "f5241728",
   "metadata": {},
   "outputs": [
    {
     "data": {
      "text/plain": [
       "3"
      ]
     },
     "execution_count": 18,
     "metadata": {},
     "output_type": "execute_result"
    }
   ],
   "source": [
    "l1=['A','B','C',1,2,3,100]\n",
    "l1.pop(-2) "
   ]
  },
  {
   "cell_type": "code",
   "execution_count": 19,
   "id": "4c89acc7",
   "metadata": {},
   "outputs": [
    {
     "data": {
      "text/plain": [
       "['A', 'B', 'C', 1, 2, 100]"
      ]
     },
     "execution_count": 19,
     "metadata": {},
     "output_type": "execute_result"
    }
   ],
   "source": [
    "l1"
   ]
  },
  {
   "cell_type": "code",
   "execution_count": 20,
   "id": "e9a53350",
   "metadata": {},
   "outputs": [
    {
     "data": {
      "text/plain": [
       "2"
      ]
     },
     "execution_count": 20,
     "metadata": {},
     "output_type": "execute_result"
    }
   ],
   "source": [
    "l1[4]"
   ]
  },
  {
   "cell_type": "code",
   "execution_count": 21,
   "id": "17dfd6bd",
   "metadata": {},
   "outputs": [
    {
     "data": {
      "text/plain": [
       "['A', 'B', 'C', 1, 2, 100]"
      ]
     },
     "execution_count": 21,
     "metadata": {},
     "output_type": "execute_result"
    }
   ],
   "source": [
    "l1"
   ]
  },
  {
   "cell_type": "code",
   "execution_count": 22,
   "id": "2309f2bf",
   "metadata": {},
   "outputs": [
    {
     "ename": "TypeError",
     "evalue": "'list' object cannot be interpreted as an integer",
     "output_type": "error",
     "traceback": [
      "\u001b[1;31m---------------------------------------------------------------------------\u001b[0m",
      "\u001b[1;31mTypeError\u001b[0m                                 Traceback (most recent call last)",
      "Cell \u001b[1;32mIn[22], line 2\u001b[0m\n\u001b[0;32m      1\u001b[0m l1\u001b[38;5;241m=\u001b[39m[\u001b[38;5;124m'\u001b[39m\u001b[38;5;124mA\u001b[39m\u001b[38;5;124m'\u001b[39m,\u001b[38;5;124m'\u001b[39m\u001b[38;5;124mB\u001b[39m\u001b[38;5;124m'\u001b[39m,\u001b[38;5;124m'\u001b[39m\u001b[38;5;124mC\u001b[39m\u001b[38;5;124m'\u001b[39m,\u001b[38;5;241m1\u001b[39m,\u001b[38;5;241m2\u001b[39m,\u001b[38;5;241m3\u001b[39m,\u001b[38;5;241m100\u001b[39m]\n\u001b[1;32m----> 2\u001b[0m l1\u001b[38;5;241m.\u001b[39mpop([\u001b[38;5;241m1\u001b[39m,\u001b[38;5;241m2\u001b[39m])\n",
      "\u001b[1;31mTypeError\u001b[0m: 'list' object cannot be interpreted as an integer"
     ]
    }
   ],
   "source": [
    "l1=['A','B','C',1,2,3,100]\n",
    "l1.pop([1,2]) \n"
   ]
  },
  {
   "cell_type": "code",
   "execution_count": 29,
   "id": "00ae4184",
   "metadata": {},
   "outputs": [
    {
     "data": {
      "text/plain": [
       "['A', 'C', 1, 2, 3, 100]"
      ]
     },
     "execution_count": 29,
     "metadata": {},
     "output_type": "execute_result"
    }
   ],
   "source": [
    "l1=['A','A','C',1,2,3,100]\n",
    "l1.remove('A') \n",
    "l1"
   ]
  },
  {
   "cell_type": "markdown",
   "id": "8463c54c",
   "metadata": {},
   "source": [
    "$index$"
   ]
  },
  {
   "cell_type": "code",
   "execution_count": 34,
   "id": "b6319c8e",
   "metadata": {},
   "outputs": [
    {
     "data": {
      "text/plain": [
       "['A', 'B', 'C', 1, 2, 3, 100, 200, 300, 500, 'Apple']"
      ]
     },
     "execution_count": 34,
     "metadata": {},
     "output_type": "execute_result"
    }
   ],
   "source": [
    "l1=['A','B','C',1,2,3,100,200,300,400,500,'Apple']\n",
    "#l1.pop(5)\n",
    "i=l1.index(400)\n",
    "l1.pop(i)\n",
    "l1"
   ]
  },
  {
   "cell_type": "code",
   "execution_count": 41,
   "id": "be6e0262",
   "metadata": {},
   "outputs": [
    {
     "name": "stdout",
     "output_type": "stream",
     "text": [
      "0 9 12\n"
     ]
    }
   ],
   "source": [
    "l1=['A','B','C',1,2,3,100,200,300,'A',400,500,'A','Apple']\n",
    "#l1.pop(<second A>)\n",
    "i1=l1.index('A')\n",
    "i2=l1.index('A',i1+1)\n",
    "i3=l1.index('A',i2+1)\n",
    "print(i1,i2,i3)"
   ]
  },
  {
   "cell_type": "code",
   "execution_count": 43,
   "id": "c3809f34",
   "metadata": {},
   "outputs": [
    {
     "data": {
      "text/plain": [
       "['A', 'B', 'C', 1, 2, 3, 100, 200, 300, 'A', 400, 500, 'A', 'Apple']"
      ]
     },
     "execution_count": 43,
     "metadata": {},
     "output_type": "execute_result"
    }
   ],
   "source": [
    "l1=['A','B','C',1,2,'B',3,100,200,300,'A',400,500,'A','Apple']\n",
    "del(l1[5])\n",
    "l1"
   ]
  },
  {
   "cell_type": "markdown",
   "id": "62b07ffb",
   "metadata": {},
   "source": [
    "$Append$-$Extend$-$Insert$"
   ]
  },
  {
   "cell_type": "code",
   "execution_count": 45,
   "id": "ec6006df",
   "metadata": {},
   "outputs": [
    {
     "data": {
      "text/plain": [
       "[100, 200, 300, 'apple']"
      ]
     },
     "execution_count": 45,
     "metadata": {},
     "output_type": "execute_result"
    }
   ],
   "source": [
    "l1=[100,200]\n",
    "l1.append(300)\n",
    "l1.append('apple')\n",
    "l1"
   ]
  },
  {
   "cell_type": "code",
   "execution_count": 46,
   "id": "62015ed8",
   "metadata": {},
   "outputs": [
    {
     "data": {
      "text/plain": [
       "['mumbai', 'chennai']"
      ]
     },
     "execution_count": 46,
     "metadata": {},
     "output_type": "execute_result"
    }
   ],
   "source": [
    "l1=['hyd','mumbai','chennai']\n",
    "l2=[]\n",
    "for i in l1:\n",
    "    if len(i)>3:\n",
    "        l2.append(i)\n",
    "l2"
   ]
  },
  {
   "cell_type": "code",
   "execution_count": 57,
   "id": "75a55f53",
   "metadata": {},
   "outputs": [
    {
     "name": "stdout",
     "output_type": "stream",
     "text": [
      "['HYD', 'MUMBAI', 'CHENNAI']\n"
     ]
    }
   ],
   "source": [
    "l1 = ['hyd', 'mumbai', 'chennai']\n",
    "l1_upper = []\n",
    "for i in l1:\n",
    "    l1_upper.append(i.upper())\n",
    "print(l1_upper)"
   ]
  },
  {
   "cell_type": "code",
   "execution_count": 59,
   "id": "565f3ace",
   "metadata": {},
   "outputs": [
    {
     "name": "stdout",
     "output_type": "stream",
     "text": [
      "['hyd', 'mumbai', 'chennai']\n"
     ]
    }
   ],
   "source": [
    "l1 = ['hyd', 'mu#mbai', 'che#nnai']\n",
    "l2 = []\n",
    "\n",
    "for i in l1:\n",
    "    city_without_hash = i.replace('#', '')  # Remove '#' character\n",
    "    l2.append(city_without_hash)  # Append modified city to new list\n",
    "\n",
    "print(l2)"
   ]
  },
  {
   "cell_type": "code",
   "execution_count": 60,
   "id": "99f89213",
   "metadata": {},
   "outputs": [
    {
     "data": {
      "text/plain": [
       "['mu#mbai', 'che#nnai']"
      ]
     },
     "execution_count": 60,
     "metadata": {},
     "output_type": "execute_result"
    }
   ],
   "source": [
    "l1 = ['hyd', 'mu#mbai', 'che#nnai']\n",
    "l2 = []\n",
    "for i in l1:\n",
    "    if '#' in i:\n",
    "        l2.append(i)\n",
    "l2"
   ]
  },
  {
   "cell_type": "code",
   "execution_count": 64,
   "id": "de0ca6bf",
   "metadata": {},
   "outputs": [
    {
     "data": {
      "text/plain": [
       "21"
      ]
     },
     "execution_count": 64,
     "metadata": {},
     "output_type": "execute_result"
    }
   ],
   "source": [
    "s='hello hai how are you'\n",
    "l1=[]\n",
    "for i in range(len(s)):\n",
    "        if s[i]=='a':\n",
    "            l1.append(i)\n",
    "sum(l1)"
   ]
  },
  {
   "cell_type": "code",
   "execution_count": null,
   "id": "b24c1094",
   "metadata": {},
   "outputs": [],
   "source": [
    "import random\n",
    "user=random.randint(0,10)\n",
    "i=0\n",
    "for i in user(10,2,2):\n",
    "    print\n",
    "    "
   ]
  },
  {
   "cell_type": "code",
   "execution_count": 66,
   "id": "06a8f4ef",
   "metadata": {},
   "outputs": [
    {
     "name": "stdout",
     "output_type": "stream",
     "text": [
      "Random odd numbers: [43, 45, 23, 69, 57]\n",
      "Random even numbers: [52, 20, 72, 86, 6]\n"
     ]
    }
   ],
   "source": [
    "import random\n",
    "odd_list,even_list=[],[]\n",
    "for _ in range(10):\n",
    "    num = random.randint(1, 100)  \n",
    "    if num % 2 == 0:\n",
    "        even_list.append(num)  \n",
    "    else:\n",
    "        odd_list.append(num)  \n",
    "\n",
    "print(\"Random odd numbers:\", odd_list)\n",
    "print(\"Random even numbers:\", even_list)"
   ]
  },
  {
   "cell_type": "markdown",
   "id": "70279ba6",
   "metadata": {},
   "source": [
    "$Extend$"
   ]
  },
  {
   "cell_type": "code",
   "execution_count": 72,
   "id": "2bb8cca3",
   "metadata": {},
   "outputs": [
    {
     "name": "stdout",
     "output_type": "stream",
     "text": [
      "[1, 2, 3, 'A', 'B', 'C']\n",
      "['A', 'B', 'C']\n"
     ]
    }
   ],
   "source": [
    "l1=[1,2,3]\n",
    "l2=['A','B','C']\n",
    "l1.extend(l2)\n",
    "print(l1)\n",
    "print(l2)"
   ]
  },
  {
   "cell_type": "code",
   "execution_count": 75,
   "id": "5b0b15c5",
   "metadata": {},
   "outputs": [
    {
     "name": "stdout",
     "output_type": "stream",
     "text": [
      "[1, 2, 3]\n",
      "['A', 'B', 'C', 1, 2, 3]\n"
     ]
    }
   ],
   "source": [
    "l1=[1,2,3]\n",
    "l2=['A','B','C']\n",
    "l2.extend(l1)\n",
    "print(l1)\n",
    "print(l2)"
   ]
  },
  {
   "cell_type": "code",
   "execution_count": 74,
   "id": "4f33bf9c",
   "metadata": {},
   "outputs": [
    {
     "name": "stdout",
     "output_type": "stream",
     "text": [
      "['A', 'B', 'C', 1, 2, 3, 1, 2, 3]\n"
     ]
    }
   ],
   "source": [
    "l1+l2\n",
    "print(l1+l2)"
   ]
  },
  {
   "cell_type": "code",
   "execution_count": null,
   "id": "ccdb1ae0",
   "metadata": {},
   "outputs": [],
   "source": [
    "l1=[1,2,3]\n",
    "l2=['A','B','C']\n",
    "\n"
   ]
  },
  {
   "cell_type": "markdown",
   "id": "25611bb6",
   "metadata": {},
   "source": [
    "- reverse vs reversed\n",
    "- sort    vs sorted\n",
    "- lambda\n"
   ]
  },
  {
   "cell_type": "code",
   "execution_count": 81,
   "id": "ded1eae6",
   "metadata": {},
   "outputs": [
    {
     "name": "stdout",
     "output_type": "stream",
     "text": [
      "5\n",
      "4\n",
      "3\n",
      "2\n",
      "1\n"
     ]
    }
   ],
   "source": [
    "# Reverse :\n",
    "l1 = [1, 2, 3, 4, 5]\n",
    "l1.reverse()  \n",
    "for i in l1:\n",
    "    print(i)"
   ]
  },
  {
   "cell_type": "code",
   "execution_count": 79,
   "id": "eadcb09a",
   "metadata": {},
   "outputs": [
    {
     "name": "stdout",
     "output_type": "stream",
     "text": [
      "5\n",
      "4\n",
      "3\n",
      "2\n",
      "1\n"
     ]
    }
   ],
   "source": [
    "# Reversed :\n",
    "l2 = [1, 2, 3, 4, 5]\n",
    "for i in reversed(l2):\n",
    "    print(i)"
   ]
  },
  {
   "cell_type": "code",
   "execution_count": 84,
   "id": "db170853",
   "metadata": {},
   "outputs": [
    {
     "name": "stdout",
     "output_type": "stream",
     "text": [
      "1\n",
      "2\n",
      "3\n",
      "4\n",
      "5\n"
     ]
    }
   ],
   "source": [
    "# Sort :\n",
    "l1 = [1, 3, 5, 4, 2]\n",
    "l1.sort()  \n",
    "for i in l1:\n",
    "    print(i)"
   ]
  },
  {
   "cell_type": "code",
   "execution_count": 85,
   "id": "debf512f",
   "metadata": {},
   "outputs": [
    {
     "name": "stdout",
     "output_type": "stream",
     "text": [
      "1\n",
      "2\n",
      "3\n",
      "4\n",
      "5\n"
     ]
    }
   ],
   "source": [
    "# sorted :\n",
    "l2 = [1, 3, 5, 4, 2]\n",
    "list = sorted(l2)  \n",
    "for i in list:\n",
    "    print(i)"
   ]
  },
  {
   "cell_type": "markdown",
   "id": "30b01772",
   "metadata": {},
   "source": [
    "$count$"
   ]
  },
  {
   "cell_type": "code",
   "execution_count": 1,
   "id": "8032c223",
   "metadata": {},
   "outputs": [
    {
     "data": {
      "text/plain": [
       "3"
      ]
     },
     "execution_count": 1,
     "metadata": {},
     "output_type": "execute_result"
    }
   ],
   "source": [
    "l1=['A','A','A']\n",
    "l1.count('A')"
   ]
  },
  {
   "cell_type": "code",
   "execution_count": 2,
   "id": "151cff2c",
   "metadata": {},
   "outputs": [
    {
     "data": {
      "text/plain": [
       "5"
      ]
     },
     "execution_count": 2,
     "metadata": {},
     "output_type": "execute_result"
    }
   ],
   "source": [
    "l2='can can you canner can not can you buy can'\n",
    "l2.count('can')\n"
   ]
  },
  {
   "cell_type": "markdown",
   "id": "f2daeca1",
   "metadata": {},
   "source": [
    "$word-frequency$"
   ]
  },
  {
   "cell_type": "code",
   "execution_count": 4,
   "id": "de5b467d",
   "metadata": {},
   "outputs": [
    {
     "name": "stdout",
     "output_type": "stream",
     "text": [
      "can 5\n",
      "you 2\n",
      "canner 1\n",
      "not 1\n",
      "buy 1\n"
     ]
    }
   ],
   "source": [
    "s1='can can you canner can not can you buy can'\n",
    "list_words=s1.split()\n",
    "l1=[]\n",
    "for word in list_words:\n",
    "    if word not in l1:  \n",
    "        print(word,list_words.count(word))\n",
    "        l1.append(word)\n",
    "        \n",
    "# step\n",
    "# can     can not in []       True 5 ['can']\n",
    "# can     can not in ['can']  False  xxxxx\n",
    "# you     you not in ['can']  True 2['can','you']"
   ]
  },
  {
   "cell_type": "markdown",
   "id": "d627c5b2",
   "metadata": {},
   "source": [
    "$insert$"
   ]
  },
  {
   "cell_type": "code",
   "execution_count": 6,
   "id": "bf988f61",
   "metadata": {},
   "outputs": [
    {
     "data": {
      "text/plain": [
       "[1, 2, 3, 'A', 4, 100]"
      ]
     },
     "execution_count": 6,
     "metadata": {},
     "output_type": "execute_result"
    }
   ],
   "source": [
    "l1=[1,2,3,4,100]\n",
    "l1.insert(3,'A')\n",
    "l1"
   ]
  },
  {
   "cell_type": "code",
   "execution_count": 10,
   "id": "eb8df1d4",
   "metadata": {},
   "outputs": [
    {
     "data": {
      "text/plain": [
       "[1, 2, 3, 'A', 4]"
      ]
     },
     "execution_count": 10,
     "metadata": {},
     "output_type": "execute_result"
    }
   ],
   "source": [
    "l1=[1,2,3,4,100]\n",
    "l1.remove(100)\n",
    "l1.insert(3,'A')\n",
    "l1"
   ]
  },
  {
   "cell_type": "code",
   "execution_count": 12,
   "id": "2853da9d",
   "metadata": {},
   "outputs": [],
   "source": [
    "l1=['hyd','mumbai','chennai','bengaluru']\n",
    "l2=[]\n",
    "for i in l1:\n",
    "    if len(i)>5:\n",
    "        l2.append(i)"
   ]
  },
  {
   "cell_type": "code",
   "execution_count": 13,
   "id": "d8974f2a",
   "metadata": {},
   "outputs": [
    {
     "data": {
      "text/plain": [
       "[1, 4, 9, 16, 25, 36, 49, 64, 81, 100]"
      ]
     },
     "execution_count": 13,
     "metadata": {},
     "output_type": "execute_result"
    }
   ],
   "source": [
    "num=[]\n",
    "for i in range(1,11):\n",
    "    num.append(i*i)\n",
    "num"
   ]
  },
  {
   "cell_type": "markdown",
   "id": "2c42bb95",
   "metadata": {},
   "source": [
    "$list$-$comprehension$"
   ]
  },
  {
   "cell_type": "markdown",
   "id": "c6daa46b",
   "metadata": {},
   "source": [
    "$pattern-1$"
   ]
  },
  {
   "cell_type": "code",
   "execution_count": 14,
   "id": "15ae7c74",
   "metadata": {},
   "outputs": [
    {
     "data": {
      "text/plain": [
       "[1, 4, 9, 16, 25, 36, 49, 64, 81, 100]"
      ]
     },
     "execution_count": 14,
     "metadata": {},
     "output_type": "execute_result"
    }
   ],
   "source": [
    "num=[]\n",
    "for i in range(1,11):\n",
    "    num.append(i*i)\n",
    "num"
   ]
  },
  {
   "cell_type": "code",
   "execution_count": 15,
   "id": "4bd9f208",
   "metadata": {},
   "outputs": [
    {
     "data": {
      "text/plain": [
       "[1, 4, 9, 16, 25, 36, 49, 64, 81, 100]"
      ]
     },
     "execution_count": 15,
     "metadata": {},
     "output_type": "execute_result"
    }
   ],
   "source": [
    "num=[i*i for i in range(1,11)]\n",
    "num"
   ]
  },
  {
   "cell_type": "code",
   "execution_count": 20,
   "id": "9f9d827e",
   "metadata": {},
   "outputs": [
    {
     "data": {
      "text/plain": [
       "['Hyd', 'Mumbai']"
      ]
     },
     "execution_count": 20,
     "metadata": {},
     "output_type": "execute_result"
    }
   ],
   "source": [
    "l1=['hyd','mumbai']\n",
    "l2=[]\n",
    "num=[i.capitalize() for i in l1]\n",
    "num"
   ]
  },
  {
   "cell_type": "markdown",
   "id": "82e986ca",
   "metadata": {},
   "source": [
    "$pattern-2$"
   ]
  },
  {
   "cell_type": "markdown",
   "id": "3582f9e7",
   "metadata": {},
   "source": [
    "$for$ $and$ $if$ $condition$"
   ]
  },
  {
   "cell_type": "code",
   "execution_count": 22,
   "id": "20f684f4",
   "metadata": {},
   "outputs": [],
   "source": [
    "l1=['hyd','mumbai','chennai','bengaluru']\n",
    "l2=[]\n",
    "for i in l1:\n",
    "    if len(i)>5:\n",
    "        l2.append(i)"
   ]
  },
  {
   "cell_type": "code",
   "execution_count": 23,
   "id": "23ef79ec",
   "metadata": {},
   "outputs": [
    {
     "data": {
      "text/plain": [
       "['mumbai', 'chennai', 'bengaluru']"
      ]
     },
     "execution_count": 23,
     "metadata": {},
     "output_type": "execute_result"
    }
   ],
   "source": [
    "l1=['hyd','mumbai','chennai','bengaluru']\n",
    "l2=[i for i in l1 if len(i)>5 ]\n",
    "l2"
   ]
  },
  {
   "cell_type": "markdown",
   "id": "357e701a",
   "metadata": {},
   "source": [
    "$pattern-3$"
   ]
  },
  {
   "cell_type": "markdown",
   "id": "d27652e5",
   "metadata": {},
   "source": [
    "**for-if-else**"
   ]
  },
  {
   "cell_type": "code",
   "execution_count": null,
   "id": "69ace96c",
   "metadata": {},
   "outputs": [],
   "source": [
    "l=[]\n",
    "for i in range(1,10):\n",
    "    if i%2==0:\n",
    "        "
   ]
  },
  {
   "cell_type": "code",
   "execution_count": 27,
   "id": "e5f9242a",
   "metadata": {},
   "outputs": [
    {
     "data": {
      "text/plain": [
       "['odd 1',\n",
       " 'even 2',\n",
       " 'odd 3',\n",
       " 'even 4',\n",
       " 'odd 5',\n",
       " 'even 6',\n",
       " 'odd 7',\n",
       " 'even 8',\n",
       " 'odd 9']"
      ]
     },
     "execution_count": 27,
     "metadata": {},
     "output_type": "execute_result"
    }
   ],
   "source": [
    "l1=[f'even {i}' if i%2==0 else f'odd {i}' for i in range(1,10)]\n",
    "l1"
   ]
  },
  {
   "cell_type": "code",
   "execution_count": null,
   "id": "fe98f302",
   "metadata": {},
   "outputs": [],
   "source": []
  }
 ],
 "metadata": {
  "kernelspec": {
   "display_name": "Python 3 (ipykernel)",
   "language": "python",
   "name": "python3"
  },
  "language_info": {
   "codemirror_mode": {
    "name": "ipython",
    "version": 3
   },
   "file_extension": ".py",
   "mimetype": "text/x-python",
   "name": "python",
   "nbconvert_exporter": "python",
   "pygments_lexer": "ipython3",
   "version": "3.11.4"
  }
 },
 "nbformat": 4,
 "nbformat_minor": 5
}
