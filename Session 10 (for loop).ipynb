{
 "cells": [
  {
   "cell_type": "markdown",
   "id": "26a11427",
   "metadata": {},
   "source": [
    "- basic python\n",
    "\n",
    "- conditional statment\n",
    "\n",
    "- try-exception\n",
    "\n",
    "- functions\n",
    "\n",
    "- packages vs functions\n",
    "\n",
    "- loop\n",
    "\n",
    "  for while\n",
    "    \n",
    "any program"
   ]
  },
  {
   "cell_type": "code",
   "execution_count": null,
   "id": "6c466a66",
   "metadata": {},
   "outputs": [],
   "source": [
    "# loop : repeted task\n",
    "# function : reuse\n",
    "\n",
    "\n",
    "i want to calculate tax\n",
    "def tax_pay()\n",
    "    salary\n",
    "    taxper\n",
    "    tax_amount"
   ]
  },
  {
   "cell_type": "code",
   "execution_count": null,
   "id": "509565eb",
   "metadata": {},
   "outputs": [],
   "source": [
    "tax_pay =====100"
   ]
  },
  {
   "cell_type": "code",
   "execution_count": null,
   "id": "63d04944",
   "metadata": {},
   "outputs": [],
   "source": [
    "3 ---1  100  100line"
   ]
  },
  {
   "cell_type": "code",
   "execution_count": null,
   "id": "098ae0e7",
   "metadata": {},
   "outputs": [],
   "source": [
    "# step-1: tax pay\n",
    "salary\n"
   ]
  },
  {
   "cell_type": "code",
   "execution_count": 3,
   "id": "08ba11e0",
   "metadata": {},
   "outputs": [
    {
     "name": "stdout",
     "output_type": "stream",
     "text": [
      "0\n",
      "1\n",
      "2\n",
      "3\n",
      "4\n"
     ]
    }
   ],
   "source": [
    "for i in range(5):\n",
    "    print(i)"
   ]
  },
  {
   "cell_type": "code",
   "execution_count": null,
   "id": "f1636172",
   "metadata": {},
   "outputs": [],
   "source": [
    "if you want to run any loop we required 3 things\n",
    "\n",
    "- initial point: to start the loop: 1\n",
    "\n",
    "- increment or decrement : gap      2\n",
    "\n",
    "- condition: to stop the loop       10\n",
    "    \n",
    "i want to start with 1\n",
    "i want to stop at 10\n",
    "i want to go step by step by 1 unit\n",
    "\n",
    "1 3 5 7 9"
   ]
  },
  {
   "cell_type": "code",
   "execution_count": null,
   "id": "a994afce",
   "metadata": {},
   "outputs": [],
   "source": [
    "in for loop there 3 lines represent only one line"
   ]
  },
  {
   "cell_type": "markdown",
   "id": "7536b66f",
   "metadata": {},
   "source": [
    "Pattern-1"
   ]
  },
  {
   "cell_type": "markdown",
   "id": "3096e146",
   "metadata": {},
   "source": [
    "range(stop)\n",
    "\n",
    "- start value by default is 0\n",
    "\n",
    "- in python index starts with zero\n",
    "\n",
    "- by default it is increment by 1\n",
    "\n",
    "- last= stop-1\n",
    "\n",
    "range(5)\n",
    "start=0 incre=1 last=401234"
   ]
  },
  {
   "cell_type": "code",
   "execution_count": 4,
   "id": "62608eb4",
   "metadata": {},
   "outputs": [
    {
     "name": "stdout",
     "output_type": "stream",
     "text": [
      "0\n",
      "1\n",
      "2\n",
      "3\n",
      "4\n",
      "5\n",
      "6\n",
      "7\n",
      "8\n",
      "9\n"
     ]
    }
   ],
   "source": [
    "for i in range(10):  #start=0 #last=9\n",
    "    print(i)"
   ]
  },
  {
   "cell_type": "code",
   "execution_count": 6,
   "id": "e5517948",
   "metadata": {},
   "outputs": [
    {
     "name": "stdout",
     "output_type": "stream",
     "text": [
      "1 2 3\n",
      "9 "
     ]
    }
   ],
   "source": [
    "print(1,end=' ')\n",
    "print(2,end=' ')\n",
    "print(3)\n",
    "\n",
    "print(i,end=' ')"
   ]
  },
  {
   "cell_type": "code",
   "execution_count": 7,
   "id": "5c84bd48",
   "metadata": {},
   "outputs": [
    {
     "name": "stdout",
     "output_type": "stream",
     "text": [
      "0 1 2 3 4 5 6 7 8 9 "
     ]
    }
   ],
   "source": [
    "for i in range(10):\n",
    "    print(i,end=' ')"
   ]
  },
  {
   "cell_type": "code",
   "execution_count": 8,
   "id": "75ee7a1d",
   "metadata": {},
   "outputs": [
    {
     "name": "stdout",
     "output_type": "stream",
     "text": [
      "0 0\n",
      "1 1\n",
      "2 2\n",
      "3 3\n",
      "4 4\n",
      "5 5\n",
      "6 6\n",
      "7 7\n",
      "8 8\n",
      "9 9\n"
     ]
    }
   ],
   "source": [
    "for i in range(10):\n",
    "    print(i,end=' ')\n",
    "    print(i)"
   ]
  },
  {
   "cell_type": "code",
   "execution_count": 9,
   "id": "46ff5c92",
   "metadata": {},
   "outputs": [
    {
     "name": "stdout",
     "output_type": "stream",
     "text": [
      "0 0\n",
      "1 1\n",
      "2 4\n",
      "3 9\n",
      "4 16\n",
      "5 25\n",
      "6 36\n",
      "7 49\n",
      "8 64\n",
      "9 81\n"
     ]
    }
   ],
   "source": [
    "for i in range(10):\n",
    "    print(i,end=' ')\n",
    "    print(i*i)"
   ]
  },
  {
   "cell_type": "markdown",
   "id": "bf006a2b",
   "metadata": {},
   "source": [
    "Pattern - 2"
   ]
  },
  {
   "cell_type": "code",
   "execution_count": null,
   "id": "ed0c0001",
   "metadata": {},
   "outputs": [],
   "source": [
    "range(start,stop)\n",
    "\n",
    "- start value taken as start mention inside the range\n",
    "\n",
    "- increament by default it will take one: 1\n",
    "    \n",
    "- last = stop-1\n",
    "\n",
    "range(5,11)\n",
    "start=5\n",
    "inc=1\n",
    "last=11-1=10  "
   ]
  },
  {
   "cell_type": "code",
   "execution_count": 11,
   "id": "fb2cecce",
   "metadata": {},
   "outputs": [
    {
     "name": "stdout",
     "output_type": "stream",
     "text": [
      "5 6 7 8 9 "
     ]
    }
   ],
   "source": [
    "for i in range(5,10):\n",
    "    print(i,end=' ')"
   ]
  },
  {
   "cell_type": "markdown",
   "id": "d5f1cb6f",
   "metadata": {},
   "source": [
    "Pattern - 3"
   ]
  },
  {
   "cell_type": "markdown",
   "id": "94d636da",
   "metadata": {},
   "source": [
    "range(start,stop,step)\n",
    "\n",
    "- start = start\n",
    "\n",
    "- step: how much gap?\n",
    "    \n",
    "    - if step size is positive value consider as positive direction\n",
    "    \n",
    "    - if step size is negative value consider as negative direction\n",
    "\n",
    "- last:\n",
    "    \n",
    "    last = stop-1  if step size is positive value\n",
    "    \n",
    "    last = stop+1  if step size is negative value"
   ]
  },
  {
   "cell_type": "code",
   "execution_count": 13,
   "id": "6182669c",
   "metadata": {},
   "outputs": [
    {
     "name": "stdout",
     "output_type": "stream",
     "text": [
      "3 5 7 9 11 13 "
     ]
    }
   ],
   "source": [
    "for i in range(3,15,2):\n",
    "    print(i,end=' ')\n",
    "    \n",
    "# start = 3\n",
    "# step = 2\n",
    "# dorection = +ve\n",
    "# last= 15-1=14\n",
    "# 3 to 14 by give 2 units gap"
   ]
  },
  {
   "cell_type": "code",
   "execution_count": 14,
   "id": "085f3a42",
   "metadata": {},
   "outputs": [],
   "source": [
    "for i in range(3,15,-2):\n",
    "    print(i,end=' ')\n",
    "    \n",
    "# start = 3\n",
    "# step = -2\n",
    "# dorection = -ve\n",
    "# last= 15+1=16\n",
    "# 3 to 16 in reverse direction\n",
    "# it will not work so no error and no answer"
   ]
  },
  {
   "cell_type": "code",
   "execution_count": 15,
   "id": "80358028",
   "metadata": {},
   "outputs": [],
   "source": [
    "for i in range(3,-15,2):\n",
    "    print(i,end=' ')\n",
    "    \n",
    "# start = 3\n",
    "# step = 2\n",
    "# dorection = -ve\n",
    "# last= 15-1=14\n",
    "# 3 to 14 in positive direction\n",
    "# it will not work so no error and no answer"
   ]
  },
  {
   "cell_type": "code",
   "execution_count": 16,
   "id": "ece7f971",
   "metadata": {},
   "outputs": [
    {
     "name": "stdout",
     "output_type": "stream",
     "text": [
      "5 8 11 14 "
     ]
    }
   ],
   "source": [
    "for i in range(5,15,3):\n",
    "    print(i,end=' ')\n",
    "    "
   ]
  },
  {
   "cell_type": "code",
   "execution_count": 17,
   "id": "cc454caf",
   "metadata": {},
   "outputs": [],
   "source": [
    "for i in range(5,15,-3):\n",
    "    print(i,end=' ')\n",
    "    "
   ]
  },
  {
   "cell_type": "code",
   "execution_count": 18,
   "id": "e41f8a50",
   "metadata": {},
   "outputs": [
    {
     "name": "stdout",
     "output_type": "stream",
     "text": [
      "5 2 -1 -4 -7 -10 -13 "
     ]
    }
   ],
   "source": [
    "for i in range(5,-15,-3):\n",
    "    print(i,end=' ')\n",
    "    "
   ]
  },
  {
   "cell_type": "code",
   "execution_count": 19,
   "id": "50e0d384",
   "metadata": {},
   "outputs": [
    {
     "name": "stdout",
     "output_type": "stream",
     "text": [
      "-5 -8 -11 -14 "
     ]
    }
   ],
   "source": [
    "for i in range(-5,-15,-3):\n",
    "    print(i,end=' ')\n",
    "    "
   ]
  },
  {
   "cell_type": "code",
   "execution_count": 20,
   "id": "2dbb707d",
   "metadata": {},
   "outputs": [],
   "source": [
    "for i in range(5,-15,3):\n",
    "    print(i,end=' ')\n",
    "    "
   ]
  },
  {
   "cell_type": "code",
   "execution_count": 21,
   "id": "ca9982c5",
   "metadata": {},
   "outputs": [],
   "source": [
    "for i in range(-5,-15,3):\n",
    "    print(i,end=' ')\n",
    "    "
   ]
  },
  {
   "cell_type": "code",
   "execution_count": 22,
   "id": "0b4c03ee",
   "metadata": {},
   "outputs": [],
   "source": [
    "for i in range(-5,15,-3):\n",
    "    print(i,end=' ')\n",
    "    "
   ]
  },
  {
   "cell_type": "code",
   "execution_count": 23,
   "id": "5c570274",
   "metadata": {},
   "outputs": [
    {
     "name": "stdout",
     "output_type": "stream",
     "text": [
      "-5 -2 1 4 7 10 13 "
     ]
    }
   ],
   "source": [
    "for i in range(-5,15,3):\n",
    "    print(i,end=' ')\n",
    "    "
   ]
  },
  {
   "cell_type": "code",
   "execution_count": 24,
   "id": "ff97ecb3",
   "metadata": {},
   "outputs": [
    {
     "name": "stdout",
     "output_type": "stream",
     "text": [
      "5 6 7 8 9 10 11 12 13 14 "
     ]
    }
   ],
   "source": [
    "for i in range(5,15):\n",
    "    print(i,end=' ')\n",
    "    "
   ]
  },
  {
   "cell_type": "code",
   "execution_count": 25,
   "id": "77b21204",
   "metadata": {},
   "outputs": [
    {
     "name": "stdout",
     "output_type": "stream",
     "text": [
      "-5 -4 -3 -2 -1 0 1 2 3 4 5 6 7 8 9 10 11 12 13 14 "
     ]
    }
   ],
   "source": [
    "for i in range(-5,15):\n",
    "    print(i,end=' ')\n",
    "    "
   ]
  },
  {
   "cell_type": "code",
   "execution_count": 26,
   "id": "d35b2e0e",
   "metadata": {},
   "outputs": [],
   "source": [
    "for i in range(-5,-15):\n",
    "    print(i,end=' ')\n",
    "    "
   ]
  },
  {
   "cell_type": "code",
   "execution_count": 27,
   "id": "c94433aa",
   "metadata": {},
   "outputs": [],
   "source": [
    "for i in range(15,5):\n",
    "    print(i,end=' ')\n",
    "    "
   ]
  },
  {
   "cell_type": "code",
   "execution_count": 28,
   "id": "41d7cd6f",
   "metadata": {},
   "outputs": [
    {
     "name": "stdout",
     "output_type": "stream",
     "text": [
      "-15 -14 -13 -12 -11 -10 -9 -8 -7 -6 -5 -4 -3 -2 -1 0 1 2 3 4 "
     ]
    }
   ],
   "source": [
    "for i in range(-15,5):\n",
    "    print(i,end=' ')\n",
    "    "
   ]
  },
  {
   "cell_type": "code",
   "execution_count": 29,
   "id": "b5197d74",
   "metadata": {},
   "outputs": [],
   "source": [
    "for i in range(15,-5):\n",
    "    print(i,end=' ')\n",
    "    "
   ]
  },
  {
   "cell_type": "code",
   "execution_count": 36,
   "id": "03c15387",
   "metadata": {},
   "outputs": [
    {
     "name": "stdout",
     "output_type": "stream",
     "text": [
      "the square of 5 is 25\n",
      "the square of 6 is 36\n",
      "the square of 7 is 49\n",
      "the square of 8 is 64\n",
      "the square of 9 is 81\n",
      "the square of 10 is 100\n"
     ]
    }
   ],
   "source": [
    "# WAP ask the user print square of the numbers between 5 to 10\n",
    "# print(the square of 5 to 25)\n",
    "for i in range(5,11):\n",
    "    print(f\"the square of {i} is {i*i}\")"
   ]
  },
  {
   "cell_type": "code",
   "execution_count": 35,
   "id": "e495c11a",
   "metadata": {},
   "outputs": [
    {
     "name": "stdout",
     "output_type": "stream",
     "text": [
      "9 x 1 = 9\n",
      "9 x 2 = 18\n",
      "9 x 3 = 27\n",
      "9 x 4 = 36\n",
      "9 x 5 = 45\n",
      "9 x 6 = 54\n",
      "9 x 7 = 63\n",
      "9 x 8 = 72\n",
      "9 x 9 = 81\n",
      "9 x 10 = 90\n"
     ]
    }
   ],
   "source": [
    "for i in range(1,11):\n",
    "    print(f\"9 x {i} = {9*i}\")"
   ]
  },
  {
   "cell_type": "code",
   "execution_count": 37,
   "id": "7335a46c",
   "metadata": {},
   "outputs": [
    {
     "name": "stdout",
     "output_type": "stream",
     "text": [
      "enter the multiplication you want: 15\n",
      "15x1=15\n",
      "15x2=30\n",
      "15x3=45\n",
      "15x4=60\n",
      "15x5=75\n",
      "15x6=90\n",
      "15x7=105\n",
      "15x8=120\n",
      "15x9=135\n",
      "15x10=150\n"
     ]
    }
   ],
   "source": [
    "num=eval(input(\"enter the multiplication you want: \"))\n",
    "for i in range(1,11):\n",
    "    print(f\"{num}x{i}={num*i}\")"
   ]
  },
  {
   "cell_type": "code",
   "execution_count": 38,
   "id": "2328d391",
   "metadata": {},
   "outputs": [
    {
     "name": "stdout",
     "output_type": "stream",
     "text": [
      "the square of 13 is 169\n",
      "the square of 16 is 256\n",
      "the square of 6 is 36\n",
      "the square of 48 is 2304\n",
      "the square of 15 is 225\n"
     ]
    }
   ],
   "source": [
    "# wap ask the user get 5 random numbers between 5 to 50\n",
    "# and print the square of those numbers\n",
    "\n",
    "# 5 random numbers means: loop shold run 5 times\n",
    "# to get random numbers we need to use random package\n",
    "# random.randint we need to keep inside the for loop\n",
    "\n",
    "import random\n",
    "\n",
    "for i in range(5):\n",
    "    num=random.randint(5,50)\n",
    "    print(f\"the square of {num} is {num*num}\")\n",
    "    \n",
    "#################################################################\n",
    "num =random.randint"
   ]
  },
  {
   "cell_type": "code",
   "execution_count": null,
   "id": "c1615693",
   "metadata": {},
   "outputs": [],
   "source": [
    "# wap ask the user print it is even num or odd num\n",
    "# between 5 to 10\n",
    "\n",
    "# wap ask ther user enter a number and print it is even or add \n",
    "# ask the user to enter a number 5 times\n",
    "\n",
    "# wap ask the user get a 5 random numbers between 5,50\n",
    "# print it is a even or odd"
   ]
  },
  {
   "cell_type": "code",
   "execution_count": 40,
   "id": "99d6d354",
   "metadata": {},
   "outputs": [
    {
     "name": "stdout",
     "output_type": "stream",
     "text": [
      "5) is an odd\n",
      "6 is an even\n",
      "7) is an odd\n",
      "8 is an even\n",
      "9) is an odd\n",
      "10 is an even\n"
     ]
    }
   ],
   "source": [
    "\n",
    "for i in range(5,11):\n",
    "    if i%2==0:\n",
    "        print(f\"{i} is an even\")\n",
    "    else:\n",
    "        print(f\"{i}) is an odd\")"
   ]
  },
  {
   "cell_type": "code",
   "execution_count": 44,
   "id": "59e6d8e1",
   "metadata": {},
   "outputs": [
    {
     "name": "stdout",
     "output_type": "stream",
     "text": [
      "26 is an even\n",
      "10 is an even\n",
      "11 is an odd\n",
      "29 is an odd\n",
      "7 is an odd\n"
     ]
    }
   ],
   "source": [
    "for i in range (5):\n",
    "    num=random.randint(5,50)\n",
    "    if num%2==0:\n",
    "        print(f\"{num} is an even\")\n",
    "    else:\n",
    "        print(f\"{num} is an odd\")"
   ]
  },
  {
   "cell_type": "code",
   "execution_count": 1,
   "id": "94c873e9",
   "metadata": {},
   "outputs": [
    {
     "ename": "NameError",
     "evalue": "name 'random' is not defined",
     "output_type": "error",
     "traceback": [
      "\u001b[1;31m---------------------------------------------------------------------------\u001b[0m",
      "\u001b[1;31mNameError\u001b[0m                                 Traceback (most recent call last)",
      "Cell \u001b[1;32mIn[1], line 4\u001b[0m\n\u001b[0;32m      2\u001b[0m odd_count\u001b[38;5;241m=\u001b[39m\u001b[38;5;241m0\u001b[39m\n\u001b[0;32m      3\u001b[0m \u001b[38;5;28;01mfor\u001b[39;00m i \u001b[38;5;129;01min\u001b[39;00m \u001b[38;5;28mrange\u001b[39m(\u001b[38;5;241m5\u001b[39m):\n\u001b[1;32m----> 4\u001b[0m     num\u001b[38;5;241m=\u001b[39mrandom\u001b[38;5;241m.\u001b[39mrandint(\u001b[38;5;241m5\u001b[39m,\u001b[38;5;241m50\u001b[39m)\n\u001b[0;32m      5\u001b[0m     \u001b[38;5;28;01mif\u001b[39;00m num\u001b[38;5;241m%\u001b[39m\u001b[38;5;241m2\u001b[39m\u001b[38;5;241m==\u001b[39m\u001b[38;5;241m0\u001b[39m:\n\u001b[0;32m      6\u001b[0m         \u001b[38;5;28mprint\u001b[39m(\u001b[38;5;124mf\u001b[39m\u001b[38;5;124m\"\u001b[39m\u001b[38;5;132;01m{\u001b[39;00mnum\u001b[38;5;132;01m}\u001b[39;00m\u001b[38;5;124m is an even\u001b[39m\u001b[38;5;124m\"\u001b[39m)\n",
      "\u001b[1;31mNameError\u001b[0m: name 'random' is not defined"
     ]
    }
   ],
   "source": [
    "even_odd=0\n",
    "odd_count=0\n",
    "for i in range(5):\n",
    "    num=random.randint(5,50)\n",
    "    if num%2==0:\n",
    "        print(f\"{num} is an even\")\n",
    "        even_count = even_count+1\n",
    "    else:\n",
    "        print(f\"{num} is an odd\")\n",
    "        odd_count= odd_count+1\n",
    "print(\"the num of even numbers are:\", even_count)\n",
    "print(\"the num of odd numbers are:\" , odd_count)"
   ]
  },
  {
   "cell_type": "code",
   "execution_count": 7,
   "id": "5a532478",
   "metadata": {},
   "outputs": [
    {
     "name": "stdout",
     "output_type": "stream",
     "text": [
      "10\n"
     ]
    }
   ],
   "source": [
    "summ=0\n",
    "for i in range(1,11):\n",
    "    summ=summ+1\n",
    "\n",
    "print(summ)\n",
    "\n",
    "#step 1: i=1  summ=0  summ=summ+i=0+1\n",
    "#step 2: i=2  summ=1  summ=1+2=3\n",
    "#step 3: i=3  summ=3  summ=3+3=6\n",
    "#step 4: i=4  summ=6  summ=6+\n",
    "\n",
    "    "
   ]
  },
  {
   "cell_type": "code",
   "execution_count": 8,
   "id": "377b865d",
   "metadata": {},
   "outputs": [
    {
     "name": "stdout",
     "output_type": "stream",
     "text": [
      "55\n"
     ]
    }
   ],
   "source": [
    "summ=0\n",
    "for i in range(1,11):\n",
    "    summ=summ+i\n",
    "    \n",
    "print(summ)"
   ]
  },
  {
   "cell_type": "code",
   "execution_count": 14,
   "id": "9fb0e681",
   "metadata": {},
   "outputs": [
    {
     "name": "stdout",
     "output_type": "stream",
     "text": [
      "1\n",
      "2\n",
      "5\n",
      "10\n"
     ]
    }
   ],
   "source": [
    "# wap ask the user to find the division of a given number\n",
    "# i want to know divisors of 10\n",
    "\n",
    "# step 1:choose your start value and stop value\n",
    "# step 2:iterate through loop\n",
    "# step 3:if num%i==0:\n",
    "# step 5:print(i)\n",
    "#num= eval(input(\"which divisor you want\"))\n",
    "start=1\n",
    "stop=11\n",
    "for i in range(start,stop):\n",
    "    if 10%i==0:\n",
    "        print(i)\n"
   ]
  },
  {
   "cell_type": "code",
   "execution_count": 16,
   "id": "cb49b9b5",
   "metadata": {},
   "outputs": [
    {
     "name": "stdout",
     "output_type": "stream",
     "text": [
      "which divisor you want50\n",
      "1 is the divisor for 50\n",
      "2 is the divisor for 50\n",
      "5 is the divisor for 50\n",
      "10 is the divisor for 50\n",
      "25 is the divisor for 50\n",
      "50 is the divisor for 50\n",
      "the number of divisors are: 6\n"
     ]
    }
   ],
   "source": [
    "num= eval(input(\"which divisor you want\"))\n",
    "start=1\n",
    "stop=num+1\n",
    "count=0\n",
    "for i in range(start,stop):\n",
    "    if num%i==0:\n",
    "        print(f\"{i} is the divisor for {num}\")\n",
    "        count=count+1\n",
    "        \n",
    "        \n",
    "print(\"the number of divisors are:\",count)\n"
   ]
  },
  {
   "cell_type": "code",
   "execution_count": 26,
   "id": "66d82e55",
   "metadata": {},
   "outputs": [
    {
     "name": "stdout",
     "output_type": "stream",
     "text": [
      "1 is the divisor for 10\n",
      "2 is the divisor for 10\n",
      "5 is the divisor for 10\n",
      "10 is the divisor for 10\n"
     ]
    },
    {
     "data": {
      "text/plain": [
       "('the number of divisor are:', 4)"
      ]
     },
     "execution_count": 26,
     "metadata": {},
     "output_type": "execute_result"
    }
   ],
   "source": [
    "# create a function for above code\n",
    "# num as argument\n",
    "# count as return\n",
    "def divisors(num):\n",
    "    start=1\n",
    "    stop=num+1\n",
    "    count=0\n",
    "    for i in range (start,stop):\n",
    "        if num%i==0:\n",
    "            print(f\"{i} is the divisor for {num}\")\n",
    "            count=count+1\n",
    "            \n",
    "    return(\"the number of divisor are:\",count)\n",
    " \n",
    "divisors(10)\n",
    "\n",
    "\n"
   ]
  },
  {
   "cell_type": "code",
   "execution_count": 31,
   "id": "a08f8983",
   "metadata": {},
   "outputs": [
    {
     "name": "stdout",
     "output_type": "stream",
     "text": [
      "enter the num: 6\n",
      "out\n",
      "enter the num: 4\n",
      "out\n",
      "enter the num: 1\n",
      "out\n"
     ]
    }
   ],
   "source": [
    "# wap ask the user get a random number\n",
    "#  ask the user enter a number\n",
    "#  if both are matching print you won\n",
    "#  else print you lost\n",
    "# give 3 chances\n",
    "\n",
    "import random\n",
    "for i in range(3):\n",
    "    random_num=random.randint(1,10)\n",
    "    user_num= eval(input(\"enter the num: \"))\n",
    "    if random_num==user_num:\n",
    "        print(\"in\")\n",
    "    else:\n",
    "        print(\"out\")"
   ]
  },
  {
   "cell_type": "code",
   "execution_count": 40,
   "id": "0caa412f",
   "metadata": {},
   "outputs": [
    {
     "name": "stdout",
     "output_type": "stream",
     "text": [
      "how many chances you want:6\n",
      "3\n",
      "guess the number: 7\n",
      "out\n",
      "the number of chances left is: 5\n",
      "9\n",
      "guess the number: 2\n",
      "out\n",
      "the number of chances left is: 4\n",
      "3\n",
      "guess the number: 1\n",
      "out\n",
      "the number of chances left is: 3\n",
      "8\n",
      "guess the number: 5\n",
      "out\n",
      "the number of chances left is: 2\n",
      "6\n",
      "guess the number: 6\n",
      "in\n"
     ]
    }
   ],
   "source": [
    "import random\n",
    "chances=eval(input(\"how many chances you want:\"))\n",
    "for i in range(chances):\n",
    "    count=0\n",
    "    \n",
    "    random_num=random.randint(1,10)\n",
    "    print(random_num)\n",
    "    user_num= eval(input(\"guess the number: \"))\n",
    "    if random_num==user_num:\n",
    "        print(\"in\")\n",
    "        break\n",
    "    else:\n",
    "        print(\"out\")\n",
    "        count=chances-i-1\n",
    "        print(\"the number of chances left is:\",chances-i-1)\n",
    "        if chances-i-1==0:\n",
    "            print('your all chances are over, please try after 30 min')"
   ]
  },
  {
   "cell_type": "code",
   "execution_count": null,
   "id": "d07ed25b",
   "metadata": {},
   "outputs": [],
   "source": []
  }
 ],
 "metadata": {
  "kernelspec": {
   "display_name": "Python 3 (ipykernel)",
   "language": "python",
   "name": "python3"
  },
  "language_info": {
   "codemirror_mode": {
    "name": "ipython",
    "version": 3
   },
   "file_extension": ".py",
   "mimetype": "text/x-python",
   "name": "python",
   "nbconvert_exporter": "python",
   "pygments_lexer": "ipython3",
   "version": "3.11.4"
  }
 },
 "nbformat": 4,
 "nbformat_minor": 5
}
