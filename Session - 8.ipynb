{
 "cells": [
  {
   "cell_type": "markdown",
   "id": "369b3054",
   "metadata": {},
   "source": [
    "- Basic codes\n",
    "- data types\n",
    "- Type casting\n",
    "- print\n",
    "- Basic Codes\n",
    " - eval\n",
    " - input\n",
    "-if-else condition\n",
    "-try-except"
   ]
  },
  {
   "cell_type": "code",
   "execution_count": 2,
   "id": "8bcb0e1c",
   "metadata": {},
   "outputs": [
    {
     "name": "stdout",
     "output_type": "stream",
     "text": [
      "enter the number1: 100\n",
      "enter the number2: 200\n",
      "300\n"
     ]
    }
   ],
   "source": [
    "num1=eval(input(\"enter the number1: \"))\n",
    "num2=eval(input(\"enter the number2: \"))\n",
    "print(num1+num2)"
   ]
  },
  {
   "cell_type": "code",
   "execution_count": null,
   "id": "c981f95a",
   "metadata": {},
   "outputs": [],
   "source": [
    "def<function_name>():\n",
    "    # write your code\n",
    "    "
   ]
  },
  {
   "cell_type": "code",
   "execution_count": 3,
   "id": "1f25f5af",
   "metadata": {},
   "outputs": [
    {
     "name": "stdout",
     "output_type": "stream",
     "text": [
      "enter the number1: 20\n",
      "enter the number2: 30\n",
      "50\n"
     ]
    }
   ],
   "source": [
    "def addition():\n",
    "    num1=eval(input(\"enter the number1: \"))\n",
    "    num2=eval(input(\"enter the number2: \"))\n",
    "    print(num1+num2)\n",
    "\n",
    "addition()"
   ]
  },
  {
   "cell_type": "code",
   "execution_count": 4,
   "id": "de4a51a9",
   "metadata": {},
   "outputs": [],
   "source": [
    "def addition1():\n",
    "    num1=eval(input(\"enter the number1: \"))\n",
    "    num2=eval(input(\"enter the number2: \"))\n",
    "    print(num1+num2)\n",
    "\n"
   ]
  },
  {
   "cell_type": "code",
   "execution_count": 5,
   "id": "2c30db04",
   "metadata": {},
   "outputs": [
    {
     "name": "stdout",
     "output_type": "stream",
     "text": [
      "enter the number1: 30\n",
      "enter the number2: 40\n",
      "70\n"
     ]
    }
   ],
   "source": [
    "addition1()"
   ]
  },
  {
   "cell_type": "markdown",
   "id": "e9d06365",
   "metadata": {},
   "source": [
    "- Defining function will not give the error\n",
    "- You will identify the error when you call fuction only\n",
    "- syntax error only will get , when define the function call"
   ]
  },
  {
   "cell_type": "code",
   "execution_count": 11,
   "id": "7311524c",
   "metadata": {},
   "outputs": [
    {
     "name": "stdout",
     "output_type": "stream",
     "text": [
      "enter the number1: 3\n",
      "enter the number2: 4\n",
      "enter the number3: 4\n",
      "the avarage of 3,4 and 4 is 3.67\n"
     ]
    }
   ],
   "source": [
    "def avarage():\n",
    "    n1 =eval(input(\"enter the number1: \"))\n",
    "    n2 =eval(input(\"enter the number2: \"))\n",
    "    n3 =eval(input(\"enter the number3: \"))\n",
    "    avg=(n1+n2+n3)/3\n",
    "    out=round(avg,2)\n",
    "    print(f\"the avarage of {n1},{n2} and {n3} is {out}\")\n",
    "\n",
    "avarage()"
   ]
  },
  {
   "cell_type": "code",
   "execution_count": 15,
   "id": "d145c303",
   "metadata": {},
   "outputs": [
    {
     "ename": "NameError",
     "evalue": "name 'bill_pay' is not defined",
     "output_type": "error",
     "traceback": [
      "\u001b[1;31m---------------------------------------------------------------------------\u001b[0m",
      "\u001b[1;31mNameError\u001b[0m                                 Traceback (most recent call last)",
      "Cell \u001b[1;32mIn[15], line 8\u001b[0m\n\u001b[0;32m      5\u001b[0m     total_amount\u001b[38;5;241m=\u001b[39mbill\u001b[38;5;241m+\u001b[39mtip_amount\n\u001b[0;32m      6\u001b[0m     \u001b[38;5;28mprint\u001b[39m(\u001b[38;5;124mf\u001b[39m\u001b[38;5;124m\"\u001b[39m\u001b[38;5;124mthe total bill is :\u001b[39m\u001b[38;5;132;01m{\u001b[39;00mtotal_amount\u001b[38;5;132;01m}\u001b[39;00m\u001b[38;5;124m\"\u001b[39m)\n\u001b[1;32m----> 8\u001b[0m bill_pay()\n",
      "\u001b[1;31mNameError\u001b[0m: name 'bill_pay' is not defined"
     ]
    }
   ],
   "source": [
    "def avarage():\n",
    "    bill =eval(input(\"enter bill amount: \"))\n",
    "    tip_per = eval(input(\"enter the tip %: \"))\n",
    "    tip_amount= bill*tip_per/100\n",
    "    total_amount=bill+tip_amount\n",
    "    print(f\"the total bill is :{total_amount}\")\n",
    "\n",
    "bill_pay()"
   ]
  },
  {
   "cell_type": "code",
   "execution_count": 16,
   "id": "c350665e",
   "metadata": {},
   "outputs": [
    {
     "name": "stdout",
     "output_type": "stream",
     "text": [
      "hello\n",
      "\n",
      "good\n",
      "enter the number1: 20\n",
      "enter the number2: 30\n",
      "50\n",
      "2\n",
      "bye\n"
     ]
    }
   ],
   "source": [
    "print(\"hello\")\n",
    "print()\n",
    "def addition1():\n",
    "    num1=eval(input(\"enter the number1: \"))\n",
    "    num2=eval(input(\"enter the number2: \"))\n",
    "    print(num1+num2)\n",
    "    print(2)\n",
    "    \n",
    "print(\"good\")\n",
    "addition1()\n",
    "print(\"bye\")"
   ]
  },
  {
   "cell_type": "code",
   "execution_count": 3,
   "id": "5ba2af2f",
   "metadata": {},
   "outputs": [
    {
     "name": "stdout",
     "output_type": "stream",
     "text": [
      "enter the number: 1\n",
      "it is an odd number: 1\n"
     ]
    }
   ],
   "source": [
    "def evenodd():\n",
    "    num=eval(input(\"enter the number: \"))\n",
    "    if num%2==0:\n",
    "        print(f\"it is an even number: {num}\")\n",
    "    else:\n",
    "        print(f\"it is an odd number: {num}\")\n",
    "evenodd()"
   ]
  },
  {
   "cell_type": "code",
   "execution_count": 4,
   "id": "7d9700d8",
   "metadata": {},
   "outputs": [
    {
     "name": "stdout",
     "output_type": "stream",
     "text": [
      "enter the number: 6\n",
      "it is an even number: 6\n"
     ]
    }
   ],
   "source": [
    "evenodd()"
   ]
  },
  {
   "cell_type": "code",
   "execution_count": 7,
   "id": "9045aa5e",
   "metadata": {},
   "outputs": [
    {
     "name": "stdout",
     "output_type": "stream",
     "text": [
      "enter the number: 10\n",
      "even\n"
     ]
    }
   ],
   "source": [
    "def even_odd():\n",
    "    try:\n",
    "        num=eval(input(\"enter the number: \"))\n",
    "        if num%2==0:\n",
    "            print(\"even\")\n",
    "        else:\n",
    "            print(\"odd\")\n",
    "    except Exception as e:\n",
    "            print(e)\n",
    "            \n",
    "even_odd()"
   ]
  },
  {
   "cell_type": "code",
   "execution_count": 12,
   "id": "eb38b0ae",
   "metadata": {},
   "outputs": [
    {
     "name": "stdout",
     "output_type": "stream",
     "text": [
      "59 is an odd\n"
     ]
    }
   ],
   "source": [
    "import random\n",
    "def even_odd():\n",
    "    try:\n",
    "        num=random.randint(10,90)\n",
    "        if num%2==0:\n",
    "            print(f\"{num} is an even\")\n",
    "        else:\n",
    "            print(f\"{num} is an odd\")\n",
    "    except Exception as e:\n",
    "            print(e)\n",
    "            \n",
    "even_odd()"
   ]
  },
  {
   "cell_type": "code",
   "execution_count": 23,
   "id": "8f15fa94",
   "metadata": {},
   "outputs": [
    {
     "name": "stdout",
     "output_type": "stream",
     "text": [
      "enetr the number5\n",
      "out\n"
     ]
    }
   ],
   "source": [
    "import random\n",
    "def inout():\n",
    "    n1=random.randint(1,10)\n",
    "    n2= eval(input(\"enetr the number\"))\n",
    "    if n1==n2:\n",
    "        print(\"in\")\n",
    "    else:\n",
    "        print(\"out\")\n",
    "        \n",
    "inout()"
   ]
  },
  {
   "cell_type": "markdown",
   "id": "cc430af5",
   "metadata": {},
   "source": [
    "- fuction with out arguments\n",
    "\n",
    "- till now we developed some function\n",
    "\n",
    "- inside brackets there is no value\n",
    "\n",
    "- what ever you are provide inside bracket is called as argument or parameters"
   ]
  },
  {
   "cell_type": "code",
   "execution_count": null,
   "id": "83e48331",
   "metadata": {},
   "outputs": [],
   "source": [
    "def summ():\n",
    "    num1=eval(input(\"enter the number1: \"))\n",
    "    num2=eval(input(\"enter the number2: \"))\n",
    "    add=num1+num2\n",
    "    print(add)"
   ]
  },
  {
   "cell_type": "code",
   "execution_count": 25,
   "id": "b1edaf87",
   "metadata": {},
   "outputs": [
    {
     "name": "stdout",
     "output_type": "stream",
     "text": [
      "60\n"
     ]
    }
   ],
   "source": [
    "def summ(num1,num2):\n",
    "    add=num1+num2\n",
    "    print(add)\n",
    "    \n",
    "summ(20,40)"
   ]
  },
  {
   "cell_type": "code",
   "execution_count": 26,
   "id": "5fd0dbc1",
   "metadata": {},
   "outputs": [
    {
     "name": "stdout",
     "output_type": "stream",
     "text": [
      "the avarage of 40,60 and 40 is 46.67\n"
     ]
    }
   ],
   "source": [
    "def avarage(n1,n2,n3):\n",
    "    avg=(n1+n2+n3)/3\n",
    "    out=round(avg,2)\n",
    "    print(f\"the avarage of {n1},{n2} and {n3} is {out}\")\n",
    "    \n",
    "avarage(40,60,40)"
   ]
  },
  {
   "cell_type": "code",
   "execution_count": 27,
   "id": "d543dff7",
   "metadata": {},
   "outputs": [
    {
     "name": "stdout",
     "output_type": "stream",
     "text": [
      "400\n"
     ]
    }
   ],
   "source": [
    "def summ(num1):\n",
    "    num2=200\n",
    "    add=num1+num2\n",
    "    print(add)\n",
    "    \n",
    "summ(200)"
   ]
  },
  {
   "cell_type": "code",
   "execution_count": 28,
   "id": "06bdb809",
   "metadata": {},
   "outputs": [
    {
     "name": "stdout",
     "output_type": "stream",
     "text": [
      "2050\n"
     ]
    }
   ],
   "source": [
    "num1=500\n",
    "def summ(num1,num2):\n",
    "    num1=2000\n",
    "    add=num1+num2\n",
    "    print(add)\n",
    "num1 = 1000\n",
    "summ(150,50)"
   ]
  },
  {
   "cell_type": "code",
   "execution_count": 29,
   "id": "599b79b9",
   "metadata": {},
   "outputs": [
    {
     "name": "stdout",
     "output_type": "stream",
     "text": [
      "2050\n"
     ]
    },
    {
     "data": {
      "text/plain": [
       "1400"
      ]
     },
     "execution_count": 29,
     "metadata": {},
     "output_type": "execute_result"
    }
   ],
   "source": [
    "num1=500\n",
    "num2=700\n",
    "def summ(num1,num2):\n",
    "    num1=2000\n",
    "    add=num1+num2\n",
    "    print(add)\n",
    "num1 = num2\n",
    "num2 = num1\n",
    "summ(150,50)\n",
    "add=num1+num2 \n",
    "add"
   ]
  },
  {
   "cell_type": "code",
   "execution_count": null,
   "id": "02d09abe",
   "metadata": {},
   "outputs": [],
   "source": [
    "# function will not return any values\n",
    "# untill unless you mentiond return keyword inside the function"
   ]
  },
  {
   "cell_type": "code",
   "execution_count": 32,
   "id": "d6e6d46f",
   "metadata": {},
   "outputs": [
    {
     "ename": "NameError",
     "evalue": "name 'tatal_bill' is not defined",
     "output_type": "error",
     "traceback": [
      "\u001b[1;31m---------------------------------------------------------------------------\u001b[0m",
      "\u001b[1;31mNameError\u001b[0m                                 Traceback (most recent call last)",
      "Cell \u001b[1;32mIn[32], line 6\u001b[0m\n\u001b[0;32m      3\u001b[0m     total_bill\u001b[38;5;241m=\u001b[39mbill\u001b[38;5;241m+\u001b[39mtip_amount\n\u001b[0;32m      4\u001b[0m     \u001b[38;5;28mprint\u001b[39m(\u001b[38;5;124mf\u001b[39m\u001b[38;5;124m\"\u001b[39m\u001b[38;5;124mthe totel bill is:\u001b[39m\u001b[38;5;132;01m{\u001b[39;00mtatal_bill\u001b[38;5;132;01m}\u001b[39;00m\u001b[38;5;124m\"\u001b[39m)\n\u001b[1;32m----> 6\u001b[0m bill_pay(\u001b[38;5;241m1000\u001b[39m,\u001b[38;5;241m10\u001b[39m)\n",
      "Cell \u001b[1;32mIn[32], line 4\u001b[0m, in \u001b[0;36mbill_pay\u001b[1;34m(bill, tip_per)\u001b[0m\n\u001b[0;32m      2\u001b[0m tip_amount\u001b[38;5;241m=\u001b[39mbill\u001b[38;5;241m*\u001b[39mtip_per\u001b[38;5;241m/\u001b[39m\u001b[38;5;241m100\u001b[39m\n\u001b[0;32m      3\u001b[0m total_bill\u001b[38;5;241m=\u001b[39mbill\u001b[38;5;241m+\u001b[39mtip_amount\n\u001b[1;32m----> 4\u001b[0m \u001b[38;5;28mprint\u001b[39m(\u001b[38;5;124mf\u001b[39m\u001b[38;5;124m\"\u001b[39m\u001b[38;5;124mthe totel bill is:\u001b[39m\u001b[38;5;132;01m{\u001b[39;00mtatal_bill\u001b[38;5;132;01m}\u001b[39;00m\u001b[38;5;124m\"\u001b[39m)\n",
      "\u001b[1;31mNameError\u001b[0m: name 'tatal_bill' is not defined"
     ]
    }
   ],
   "source": [
    "def bill_pay(bill,tip_per):\n",
    "    tip_amount=bill*tip_per/100\n",
    "    total_bill=bill+tip_amount\n",
    "    print(f\"the totel bill is:{tatal_bill}\")\n",
    "    \n",
    "bill_pay(1000,10)"
   ]
  },
  {
   "cell_type": "markdown",
   "id": "cee7a57f",
   "metadata": {},
   "source": [
    "Default argument"
   ]
  },
  {
   "cell_type": "markdown",
   "id": "4785a347",
   "metadata": {},
   "source": [
    "- default argument is the fix argument values\n",
    "- is called default argument"
   ]
  },
  {
   "cell_type": "code",
   "execution_count": 7,
   "id": "f6396df0",
   "metadata": {},
   "outputs": [
    {
     "name": "stdout",
     "output_type": "stream",
     "text": [
      "num1: 100\n",
      "num2: 200\n",
      "300\n"
     ]
    }
   ],
   "source": [
    "def summ(num1=100,num2=200):\n",
    "    print(\"num1:\" ,num1)\n",
    "    print(\"num2:\" ,num2)\n",
    "    add=num1+num2\n",
    "    print(add)\n",
    "    \n",
    "summ()"
   ]
  },
  {
   "cell_type": "code",
   "execution_count": null,
   "id": "57ac37c4",
   "metadata": {},
   "outputs": [],
   "source": [
    "def summ():\n",
    "    print(\"num1:\" ,num1)\n",
    "    print(\"num2:\" ,num2)\n",
    "    add=num1+num2\n",
    "    print(add)\n",
    "    \n",
    "summ()"
   ]
  },
  {
   "cell_type": "markdown",
   "id": "1f351d43",
   "metadata": {},
   "source": [
    "- default argument always in last"
   ]
  },
  {
   "cell_type": "code",
   "execution_count": 8,
   "id": "52a501fc",
   "metadata": {},
   "outputs": [
    {
     "name": "stdout",
     "output_type": "stream",
     "text": [
      "200.0\n"
     ]
    }
   ],
   "source": [
    "def avg(n1,n2,n3=100):\n",
    "    average= (n1+n2+n3)/3\n",
    "    print(average)\n",
    "    \n",
    "avg(200,300)"
   ]
  },
  {
   "cell_type": "code",
   "execution_count": 9,
   "id": "eb88e4c7",
   "metadata": {},
   "outputs": [
    {
     "name": "stdout",
     "output_type": "stream",
     "text": [
      "166.66666666666666\n"
     ]
    }
   ],
   "source": [
    "def avg(n1,n2=200,n3=100):\n",
    "    average= (n1+n2+n3)/3\n",
    "    print(average)\n",
    "    \n",
    "avg(200)"
   ]
  },
  {
   "cell_type": "code",
   "execution_count": 10,
   "id": "2973f58b",
   "metadata": {},
   "outputs": [
    {
     "name": "stdout",
     "output_type": "stream",
     "text": [
      "266.6666666666667\n"
     ]
    }
   ],
   "source": [
    "def avg(n1=500,n2=200,n3=100):\n",
    "    average= (n1+n2+n3)/3\n",
    "    print(average)\n",
    "    \n",
    "avg()"
   ]
  },
  {
   "cell_type": "code",
   "execution_count": 12,
   "id": "c55d0496",
   "metadata": {},
   "outputs": [
    {
     "name": "stdout",
     "output_type": "stream",
     "text": [
      "233.33333333333334\n"
     ]
    }
   ],
   "source": [
    "def avg(n1,n2,n3=100):\n",
    "    average= (n1+n2+n3)/3\n",
    "    print(average)\n",
    "    \n",
    "avg(100,500)"
   ]
  },
  {
   "cell_type": "code",
   "execution_count": 14,
   "id": "6d6926f1",
   "metadata": {},
   "outputs": [
    {
     "name": "stdout",
     "output_type": "stream",
     "text": [
      "the total bill is :1100.0\n"
     ]
    }
   ],
   "source": [
    "def bill_pay(bill,tip_per=10):\n",
    "    tip_amount= bill*tip_per/100\n",
    "    total_amount=bill+tip_amount\n",
    "    print(f\"the total bill is :{total_amount}\")\n",
    "    \n",
    "bill_pay(1000)"
   ]
  },
  {
   "cell_type": "code",
   "execution_count": 15,
   "id": "796b96ac",
   "metadata": {},
   "outputs": [
    {
     "name": "stdout",
     "output_type": "stream",
     "text": [
      "the total bill is :1100.0\n"
     ]
    }
   ],
   "source": [
    "def bill_pay(tip_per=10):\n",
    "    bill=1000\n",
    "    tip_amount= bill*tip_per/100\n",
    "    total_amount=bill+tip_amount\n",
    "    print(f\"the total bill is :{total_amount}\")\n",
    "    \n",
    "bill_pay()"
   ]
  },
  {
   "cell_type": "code",
   "execution_count": 19,
   "id": "05a71703",
   "metadata": {},
   "outputs": [
    {
     "name": "stdout",
     "output_type": "stream",
     "text": [
      "total_tax is10000.0\n"
     ]
    }
   ],
   "source": [
    "def total_tax(salary=100000,tax_per=10):\n",
    "    tax_pay=(salary*tax_per)/100\n",
    "    print(f\"total_tax is{tax_pay}\")\n",
    "total_tax()"
   ]
  },
  {
   "cell_type": "code",
   "execution_count": 22,
   "id": "9ed2670e",
   "metadata": {},
   "outputs": [
    {
     "name": "stdout",
     "output_type": "stream",
     "text": [
      "total_tax is10000.0\n"
     ]
    }
   ],
   "source": [
    "def total_tax(salary,tax_per):\n",
    "    tax_pay=(salary*tax_per)/100\n",
    "    print(f\"total_tax is{tax_pay}\")\n",
    "    \n",
    "total_tax(100000,10)"
   ]
  },
  {
   "cell_type": "markdown",
   "id": "f34bf9ac",
   "metadata": {},
   "source": [
    "Return Statment"
   ]
  },
  {
   "cell_type": "code",
   "execution_count": 23,
   "id": "b9dec50a",
   "metadata": {},
   "outputs": [
    {
     "name": "stdout",
     "output_type": "stream",
     "text": [
      "1000.0\n"
     ]
    }
   ],
   "source": [
    "def tax1(salary,tax_per=10):\n",
    "    tax_pay=(salary*tax_per)/100\n",
    "    return(tax_pay)\n",
    "\n",
    "tax_pay=tax1(10000)\n",
    "print(tax_pay)"
   ]
  },
  {
   "cell_type": "code",
   "execution_count": 24,
   "id": "e8f7a2c6",
   "metadata": {},
   "outputs": [
    {
     "name": "stdout",
     "output_type": "stream",
     "text": [
      "1000.0\n",
      "10000\n"
     ]
    }
   ],
   "source": [
    "def tax1(salary,tax_per=10):\n",
    "    tax_pay1=(salary*tax_per)/100\n",
    "    return(tax_pay1,salary)\n",
    "\n",
    "tax_pay1,salary=tax1(10000)\n",
    "\n",
    "print(tax_pay1)\n",
    "print(salary)"
   ]
  },
  {
   "cell_type": "code",
   "execution_count": null,
   "id": "ddc25df2",
   "metadata": {},
   "outputs": [],
   "source": [
    "def summavg(num1,num2,num3):\n",
    "    total = (num1+num2+num3)\n",
    "    avrage=summ/\n",
    "    return()"
   ]
  },
  {
   "cell_type": "code",
   "execution_count": 25,
   "id": "9475b17a",
   "metadata": {},
   "outputs": [
    {
     "name": "stdout",
     "output_type": "stream",
     "text": [
      "30\n"
     ]
    }
   ],
   "source": [
    "add=0\n",
    "\n",
    "def summ(n1,n2):\n",
    "    add=n1+n2\n",
    "    return add\n",
    "add=summ(10,20)\n",
    "print(add)"
   ]
  },
  {
   "cell_type": "code",
   "execution_count": null,
   "id": "844ac145",
   "metadata": {},
   "outputs": [],
   "source": []
  }
 ],
 "metadata": {
  "kernelspec": {
   "display_name": "Python 3 (ipykernel)",
   "language": "python",
   "name": "python3"
  },
  "language_info": {
   "codemirror_mode": {
    "name": "ipython",
    "version": 3
   },
   "file_extension": ".py",
   "mimetype": "text/x-python",
   "name": "python",
   "nbconvert_exporter": "python",
   "pygments_lexer": "ipython3",
   "version": "3.11.4"
  }
 },
 "nbformat": 4,
 "nbformat_minor": 5
}
