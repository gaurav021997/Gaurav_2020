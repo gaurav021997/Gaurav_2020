{
 "cells": [
  {
   "cell_type": "code",
   "execution_count": null,
   "id": "99b7ccaa",
   "metadata": {},
   "outputs": [],
   "source": [
    "# game program\n",
    "# ask the user get a random number 1,10\n",
    "# ask the user enter number:n2\n",
    "# if n1==n2\n",
    "# print(in)\n",
    "# else:\n",
    "# print(\"out\")"
   ]
  },
  {
   "cell_type": "code",
   "execution_count": 6,
   "id": "c7a6f430",
   "metadata": {},
   "outputs": [
    {
     "name": "stdout",
     "output_type": "stream",
     "text": [
      "out\n"
     ]
    }
   ],
   "source": [
    "import random\n",
    "def game(n2):\n",
    "    n1=random.randint(1,10)\n",
    "    #n2=eval(input(\"enter the number: \"))\n",
    "    if n1==n2:\n",
    "        print(\"in\")\n",
    "    else:\n",
    "        print(\"out\")\n",
    "        \n",
    "game(7)"
   ]
  },
  {
   "cell_type": "code",
   "execution_count": 7,
   "id": "5841f54a",
   "metadata": {},
   "outputs": [
    {
     "name": "stdout",
     "output_type": "stream",
     "text": [
      "out\n"
     ]
    }
   ],
   "source": [
    "import random\n",
    "def game1(n2=7):\n",
    "    n1=random.randint(1,10)\n",
    "    #n2=eval(input(\"enter the number: \"))\n",
    "    if n1==n2:\n",
    "        print(\"in\")\n",
    "    else:\n",
    "        print(\"out\")\n",
    "        \n",
    "game1()"
   ]
  },
  {
   "cell_type": "code",
   "execution_count": 8,
   "id": "320344d6",
   "metadata": {},
   "outputs": [
    {
     "name": "stdout",
     "output_type": "stream",
     "text": [
      "enter the number: 7\n",
      "out\n"
     ]
    }
   ],
   "source": [
    "import random\n",
    "def game():\n",
    "    n1=random.randint(1,10)\n",
    "    n2=eval(input(\"enter the number: \"))\n",
    "    if n1==n2:\n",
    "        print(\"in\")\n",
    "    else:\n",
    "        print(\"out\")\n",
    "        \n",
    "game()"
   ]
  },
  {
   "cell_type": "code",
   "execution_count": 9,
   "id": "0a6c29d5",
   "metadata": {},
   "outputs": [
    {
     "name": "stdout",
     "output_type": "stream",
     "text": [
      "out\n"
     ]
    },
    {
     "data": {
      "text/plain": [
       "0"
      ]
     },
     "execution_count": 9,
     "metadata": {},
     "output_type": "execute_result"
    }
   ],
   "source": [
    "import random\n",
    "def game1(n2=7):\n",
    "    n1=random.randint(1,10)\n",
    "    if n1==n2:\n",
    "        print(\"in\")\n",
    "        return(10000)\n",
    "    else:\n",
    "        print(\"out\")\n",
    "        return(0)\n",
    "        \n",
    "money=game1()\n",
    "money"
   ]
  },
  {
   "cell_type": "code",
   "execution_count": 10,
   "id": "a884d3ec",
   "metadata": {},
   "outputs": [
    {
     "ename": "SyntaxError",
     "evalue": "invalid syntax (4278283055.py, line 2)",
     "output_type": "error",
     "traceback": [
      "\u001b[1;36m  Cell \u001b[1;32mIn[10], line 2\u001b[1;36m\u001b[0m\n\u001b[1;33m    int(::-1)\u001b[0m\n\u001b[1;37m        ^\u001b[0m\n\u001b[1;31mSyntaxError\u001b[0m\u001b[1;31m:\u001b[0m invalid syntax\n"
     ]
    }
   ],
   "source": [
    "n1=str(12345)\n",
    "int(::-1)"
   ]
  },
  {
   "cell_type": "code",
   "execution_count": 13,
   "id": "62411533",
   "metadata": {},
   "outputs": [
    {
     "name": "stdout",
     "output_type": "stream",
     "text": [
      "enter the number1: 10\n",
      "enter the number2: 20\n",
      "30\n"
     ]
    }
   ],
   "source": [
    "num1=eval(input(\"enter the number1: \"))\n",
    "num2=eval(input(\"enter the number2: \"))\n",
    "def summ():\n",
    "    print(num1+num2)\n",
    "    \n",
    "summ()"
   ]
  },
  {
   "cell_type": "code",
   "execution_count": null,
   "id": "7cdbfde1",
   "metadata": {},
   "outputs": [],
   "source": [
    "n1=random.randint(1,10)\n",
    "def game():\n",
    "    n2=eval(input(\"enter the number\"))\n",
    "    if n1==n2"
   ]
  },
  {
   "cell_type": "code",
   "execution_count": 16,
   "id": "18470ca9",
   "metadata": {},
   "outputs": [
    {
     "name": "stdout",
     "output_type": "stream",
     "text": [
      "even\n",
      "enter the number: 25\n",
      "odd\n"
     ]
    }
   ],
   "source": [
    "def even_odd(num):\n",
    "    if num%2==0:\n",
    "        print(\"even\")\n",
    "    else:\n",
    "        print(\"odd\")\n",
    "even_odd(20)\n",
    "even_odd(eval(input(\"enter the number: \")))\n",
    "\n",
    "#num=eval(input(\"enter the number: \"))\n",
    "#even_odd(num)\n",
    "\n",
    "#num=random.randint(1,50)\n",
    "#even_odd(num)"
   ]
  },
  {
   "cell_type": "markdown",
   "id": "67e20626",
   "metadata": {},
   "source": [
    "- vriable inside the function is called as local varisble\n",
    "\n",
    "- variables outside the function is called as global variable\n",
    "\n",
    "- if you want to use a global  variable inside the function , initialize that before call the function\n",
    "\n",
    "- if you want to use local variable outside the function provide return statment"
   ]
  },
  {
   "cell_type": "code",
   "execution_count": 17,
   "id": "d7cc9159",
   "metadata": {},
   "outputs": [
    {
     "name": "stdout",
     "output_type": "stream",
     "text": [
      "enter the bill amount: 500\n",
      "enter the tip in %: 10\n",
      "the total bill is: 550.0\n"
     ]
    }
   ],
   "source": [
    "def bill_pay1():\n",
    "    global total_amount\n",
    "    bill=eval(input(\"enter the bill amount: \"))\n",
    "    tip_per=eval(input(\"enter the tip in %: \"))\n",
    "    tip_amount= bill*tip_per/100\n",
    "    total_amount= bill+tip_amount\n",
    "    print(f\"the total bill is: {total_amount}\")\n",
    "    \n",
    "bill_pay1()"
   ]
  },
  {
   "cell_type": "code",
   "execution_count": 18,
   "id": "9248986e",
   "metadata": {},
   "outputs": [
    {
     "name": "stdout",
     "output_type": "stream",
     "text": [
      "9\n",
      "3.0\n"
     ]
    }
   ],
   "source": [
    "def ar_oper(n1,n2,n3):\n",
    "    global summ,avg\n",
    "    summ= n1+n2+n3\n",
    "    avg=round(summ/3,2)\n",
    "ar_oper(2,3,4)\n",
    "print(summ)\n",
    "print(avg)"
   ]
  },
  {
   "cell_type": "markdown",
   "id": "e9695bd9",
   "metadata": {},
   "source": [
    "# Function in function"
   ]
  },
  {
   "cell_type": "code",
   "execution_count": 19,
   "id": "89ee3329",
   "metadata": {},
   "outputs": [
    {
     "name": "stdout",
     "output_type": "stream",
     "text": [
      "hello\n",
      "how are you\n"
     ]
    }
   ],
   "source": [
    "def greet1():\n",
    "    print(\"hello\")\n",
    "def greet2():\n",
    "    print(\"how are you\")\n",
    "greet1()\n",
    "greet2()\n",
    "\n",
    "#####################################################\n",
    "def greet1():\n",
    "    print(\"hello\")\n",
    "def greet2():\n",
    "    greet1()\n",
    "    print(\"how are you\")\n",
    "greet2()\n",
    "\n",
    "####################################################\n",
    "def greet1():\n",
    "    greet2()\n",
    "    print(\"hello\")\n",
    "def greet2():\n",
    "    print(\"how are you\")\n",
    "greet1()\n",
    "\n",
    "#############################################################\n",
    "def greet1():\n",
    "    greet2()\n",
    "    print(\"hello\")\n",
    "def greet2():\n",
    "    greet1()\n",
    "    print(\"how are you\")\n",
    "greet1()\n",
    "greet2()\n"
   ]
  },
  {
   "cell_type": "code",
   "execution_count": null,
   "id": "7761e7a9",
   "metadata": {},
   "outputs": [],
   "source": [
    "# calculator program \n",
    "# create 4 function with argument\n",
    "# fun1: add\n",
    "# fun2: sub\n",
    "# fun3: mul\n",
    "# fun4: div\n",
    "\n",
    "# print(\"if you want use add operation pls enter 1\")\n",
    "# print(\"if you want use sub operation pls enter 2\")\n",
    "# print(\"if you want use mul operation pls enter 3\")\n",
    "# print(\"if you want use div operation pls enter 4\")\n",
    "\n",
    "# option=eval(input(\"choose option 1,2,3,4\"))\n",
    "# if option==1:\n",
    "# n1=\n",
    "# n2=\n",
    "# add(n1,n2)\n",
    "# elif option==2:\n",
    "# sub()\n"
   ]
  },
  {
   "cell_type": "code",
   "execution_count": 4,
   "id": "30a5deca",
   "metadata": {},
   "outputs": [
    {
     "name": "stdout",
     "output_type": "stream",
     "text": [
      "If you want to use the add operation, please enter 1\n",
      "If you want to use the sub operation, please enter 2\n",
      "If you want to use the mul operation, please enter 3\n",
      "If you want to use the div operation, please enter 4\n",
      "Choose option 1, 2, 3, or 4: 4\n",
      "Enter first number: 400\n",
      "Enter second number: 2\n",
      "Result: 200.0\n"
     ]
    }
   ],
   "source": [
    "def add(n1, n2):\n",
    "    return n1 + n2\n",
    "\n",
    "def sub(n1, n2):\n",
    "    return n1 - n2\n",
    "\n",
    "def mul(n1, n2):\n",
    "    return n1 * n2\n",
    "\n",
    "def div(n1, n2):\n",
    "    if n2 == 0:\n",
    "        return \"Error! Division by zero is not allowed.\"\n",
    "    else:\n",
    "        return n1 / n2\n",
    "print(\"If you want to use the add operation, please enter 1\")\n",
    "print(\"If you want to use the sub operation, please enter 2\")\n",
    "print(\"If you want to use the mul operation, please enter 3\")\n",
    "print(\"If you want to use the div operation, please enter 4\")\n",
    "\n",
    "option = int(input(\"Choose option 1, 2, 3, or 4: \"))\n",
    "\n",
    "n1 = float(input(\"Enter first number: \"))\n",
    "n2 = float(input(\"Enter second number: \"))\n",
    "\n",
    "if option == 1:\n",
    "    print(\"Result:\", add(n1, n2))\n",
    "elif option == 2:\n",
    "    print(\"Result:\", sub(n1, n2))\n",
    "elif option == 3:\n",
    "    print(\"Result:\", mul(n1, n2))\n",
    "elif option == 4:\n",
    "    print(\"Result:\", div(n1, n2))\n",
    "else:\n",
    "    print(\"Invalid option selected.\")\n",
    "\n",
    "    \n",
    "   "
   ]
  },
  {
   "cell_type": "code",
   "execution_count": null,
   "id": "f3a11035",
   "metadata": {},
   "outputs": [],
   "source": []
  }
 ],
 "metadata": {
  "kernelspec": {
   "display_name": "Python 3 (ipykernel)",
   "language": "python",
   "name": "python3"
  },
  "language_info": {
   "codemirror_mode": {
    "name": "ipython",
    "version": 3
   },
   "file_extension": ".py",
   "mimetype": "text/x-python",
   "name": "python",
   "nbconvert_exporter": "python",
   "pygments_lexer": "ipython3",
   "version": "3.11.4"
  }
 },
 "nbformat": 4,
 "nbformat_minor": 5
}
